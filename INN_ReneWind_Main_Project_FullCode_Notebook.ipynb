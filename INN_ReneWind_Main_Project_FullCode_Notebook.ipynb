{
  "cells": [
    {
      "cell_type": "markdown",
      "metadata": {
        "id": "view-in-github",
        "colab_type": "text"
      },
      "source": [
        "<a href=\"https://colab.research.google.com/github/arbeeorlar/data_science/blob/main/INN_ReneWind_Main_Project_FullCode_Notebook.ipynb\" target=\"_parent\"><img src=\"https://colab.research.google.com/assets/colab-badge.svg\" alt=\"Open In Colab\"/></a>"
      ]
    },
    {
      "cell_type": "markdown",
      "metadata": {
        "id": "9EaJ8AGwpM-2"
      },
      "source": [
        "# **Problem Statement**"
      ]
    },
    {
      "cell_type": "markdown",
      "metadata": {
        "id": "x3-QehJxbp0t"
      },
      "source": [
        "## Business Context"
      ]
    },
    {
      "cell_type": "markdown",
      "source": [
        "Renewable energy sources play an increasingly important role in the global energy mix, as the effort to reduce the environmental impact of energy production increases.\n",
        "\n",
        "Out of all the renewable energy alternatives, wind energy is one of the most developed technologies worldwide. The U.S Department of Energy has put together a guide to achieving operational efficiency using predictive maintenance practices.\n",
        "\n",
        "Predictive maintenance uses sensor information and analysis methods to measure and predict degradation and future component capability. The idea behind predictive maintenance is that failure patterns are predictable and if component failure can be predicted accurately and the component is replaced before it fails, the costs of operation and maintenance will be much lower.\n",
        "\n",
        "The sensors fitted across different machines involved in the process of energy generation collect data related to various environmental factors (temperature, humidity, wind speed, etc.) and additional features related to various parts of the wind turbine (gearbox, tower, blades, break, etc.)."
      ],
      "metadata": {
        "id": "7DoY1AHZfMF1"
      }
    },
    {
      "cell_type": "markdown",
      "source": [
        "## Objective"
      ],
      "metadata": {
        "id": "4p9zp6bHfPOY"
      }
    },
    {
      "cell_type": "markdown",
      "source": [
        "“ReneWind” is a company working on improving the machinery/processes involved in the production of wind energy using machine learning and has collected data of generator failure of wind turbines using sensors. They have shared a ciphered version of the data, as the data collected through sensors is confidential (the type of data collected varies with companies). Data has 40 predictors, 20000 observations in the training set and 5000 in the test set.\n",
        "\n",
        "The objective is to build various classification models, tune them, and find the best one that will help identify failures so that the generators could be repaired before failing/breaking to reduce the overall maintenance cost.\n",
        "The nature of predictions made by the classification model will translate as follows:\n",
        "\n",
        "- True positives (TP) are failures correctly predicted by the model. These will result in repairing costs.\n",
        "- False negatives (FN) are real failures where there is no detection by the model. These will result in replacement costs.\n",
        "- False positives (FP) are detections where there is no failure. These will result in inspection costs.\n",
        "\n",
        "It is given that the cost of repairing a generator is much less than the cost of replacing it, and the cost of inspection is less than the cost of repair.\n",
        "\n",
        "“1” in the target variables should be considered as “failure” and “0” represents “No failure”."
      ],
      "metadata": {
        "id": "eu7YIw90fRdW"
      }
    },
    {
      "cell_type": "markdown",
      "source": [
        "## Data Description"
      ],
      "metadata": {
        "id": "XPeJAS5bfUOj"
      }
    },
    {
      "cell_type": "markdown",
      "source": [
        "The data provided is a transformed version of the original data which was collected using sensors.\n",
        "\n",
        "- Train.csv - To be used for training and tuning of models.\n",
        "- Test.csv - To be used only for testing the performance of the final best model.\n",
        "\n",
        "Both the datasets consist of 40 predictor variables and 1 target variable."
      ],
      "metadata": {
        "id": "P4ns9KiyfVsW"
      }
    },
    {
      "cell_type": "markdown",
      "metadata": {
        "id": "v_-uuGqH-qTt"
      },
      "source": [
        "# **Installing and Importing the necessary libraries**"
      ]
    },
    {
      "cell_type": "code",
      "source": [
        "# Installing the libraries with the specified version\n",
        "!pip install --no-deps tensorflow==2.18.0 scikit-learn==1.3.2 matplotlib===3.8.3 seaborn==0.13.2 numpy==1.26.4 pandas==2.2.2 -q --user --no-warn-script-location"
      ],
      "metadata": {
        "id": "s5w1NSScjjiW",
        "colab": {
          "base_uri": "https://localhost:8080/"
        },
        "outputId": "99164baf-0a58-4bf6-cffb-ac55252e7df5"
      },
      "execution_count": 1,
      "outputs": [
        {
          "output_type": "stream",
          "name": "stdout",
          "text": [
            "\u001b[2K     \u001b[90m━━━━━━━━━━━━━━━━━━━━━━━━━━━━━━━━━━━━━━━━\u001b[0m \u001b[32m61.0/61.0 kB\u001b[0m \u001b[31m2.8 MB/s\u001b[0m eta \u001b[36m0:00:00\u001b[0m\n",
            "\u001b[2K   \u001b[90m━━━━━━━━━━━━━━━━━━━━━━━━━━━━━━━━━━━━━━━━\u001b[0m \u001b[32m615.5/615.5 MB\u001b[0m \u001b[31m3.1 MB/s\u001b[0m eta \u001b[36m0:00:00\u001b[0m\n",
            "\u001b[2K   \u001b[90m━━━━━━━━━━━━━━━━━━━━━━━━━━━━━━━━━━━━━━━━\u001b[0m \u001b[32m10.8/10.8 MB\u001b[0m \u001b[31m35.7 MB/s\u001b[0m eta \u001b[36m0:00:00\u001b[0m\n",
            "\u001b[2K   \u001b[90m━━━━━━━━━━━━━━━━━━━━━━━━━━━━━━━━━━━━━━━━\u001b[0m \u001b[32m11.6/11.6 MB\u001b[0m \u001b[31m48.5 MB/s\u001b[0m eta \u001b[36m0:00:00\u001b[0m\n",
            "\u001b[2K   \u001b[90m━━━━━━━━━━━━━━━━━━━━━━━━━━━━━━━━━━━━━━━━\u001b[0m \u001b[32m18.0/18.0 MB\u001b[0m \u001b[31m86.2 MB/s\u001b[0m eta \u001b[36m0:00:00\u001b[0m\n",
            "\u001b[?25h"
          ]
        }
      ]
    },
    {
      "cell_type": "markdown",
      "source": [
        "**Note**:\n",
        "- After running the above cell, kindly restart the runtime (for Google Colab) or notebook kernel (for Jupyter Notebook), and run all cells sequentially from the next cell.\n",
        "- On executing the above line of code, you might see a warning regarding package dependencies. This error message can be ignored as the above code ensures that all necessary libraries and their dependencies are maintained to successfully execute the code in ***this notebook***."
      ],
      "metadata": {
        "id": "fQsK5-zTfqBt"
      }
    },
    {
      "cell_type": "code",
      "source": [
        "\n",
        "import pandas as pd\n",
        "import numpy as np\n",
        "from sklearn.model_selection import train_test_split\n",
        "\n",
        "from sklearn.preprocessing import LabelEncoder, OneHotEncoder,StandardScaler\n",
        "from sklearn.impute import SimpleImputer\n",
        "\n",
        "#Imports the Matplotlib library for creating visualizations.\n",
        "from sklearn.metrics import confusion_matrix\n",
        "import matplotlib.pyplot as plt\n",
        "import seaborn as sns\n",
        "\n",
        "\n",
        "import time\n",
        "\n",
        "\n",
        "from sklearn.metrics import confusion_matrix, f1_score,accuracy_score, recall_score, precision_score, classification_report\n",
        "\n",
        "\n",
        "from sklearn import metrics\n",
        "\n",
        "#Imports the tensorflow,keras and layers.\n",
        "import tensorflow\n",
        "import tensorflow as tf\n",
        "from tensorflow.keras.models import Sequential\n",
        "from tensorflow.keras.layers import Dense\n",
        "from tensorflow.keras.layers import Dense, Input, Dropout,BatchNormalization\n",
        "from tensorflow.keras import backend\n",
        "\n",
        "# to suppress unnecessary warnings\n",
        "import warnings\n",
        "warnings.filterwarnings(\"ignore\")"
      ],
      "metadata": {
        "id": "7sDeBQ-eTyyw"
      },
      "execution_count": 3,
      "outputs": []
    },
    {
      "cell_type": "markdown",
      "metadata": {
        "id": "xxhpZv9y-qTw"
      },
      "source": [
        "# **Loading the Data**"
      ]
    },
    {
      "cell_type": "code",
      "source": [
        "# uncomment and run the following lines for Google Colab\n",
        "from google.colab import drive\n",
        "drive.mount('/content/drive')"
      ],
      "metadata": {
        "id": "ZwejMQj9jlrK",
        "colab": {
          "base_uri": "https://localhost:8080/"
        },
        "outputId": "c0d3ac69-85b4-4e70-f5f3-0936b8ed4baf"
      },
      "execution_count": 2,
      "outputs": [
        {
          "output_type": "stream",
          "name": "stdout",
          "text": [
            "Mounted at /content/drive\n"
          ]
        }
      ]
    },
    {
      "cell_type": "markdown",
      "metadata": {
        "id": "4cVx5kZHbp02"
      },
      "source": [
        "# **Data Overview**"
      ]
    },
    {
      "cell_type": "code",
      "execution_count": 21,
      "metadata": {
        "id": "J6lzvHKCbp06"
      },
      "outputs": [],
      "source": [
        "df_train = pd.read_csv('/content/drive/MyDrive/Colab Notebooks/datasets/RENE_WIND_DATASET/Train.csv')\n"
      ]
    },
    {
      "cell_type": "code",
      "source": [
        "data_train = df_train.copy()"
      ],
      "metadata": {
        "id": "nRhUdjFGWA6F"
      },
      "execution_count": 22,
      "outputs": []
    },
    {
      "cell_type": "code",
      "source": [
        "df_test = pd.read_csv('/content/drive/MyDrive/Colab Notebooks/datasets/RENE_WIND_DATASET/Test.csv')"
      ],
      "metadata": {
        "id": "7Q6u4qS_V-Rr"
      },
      "execution_count": 23,
      "outputs": []
    },
    {
      "cell_type": "code",
      "source": [
        "data_test = df_test.copy()"
      ],
      "metadata": {
        "id": "vrKf6F87WXtI"
      },
      "execution_count": 24,
      "outputs": []
    },
    {
      "cell_type": "code",
      "source": [
        "data_train.head()"
      ],
      "metadata": {
        "colab": {
          "base_uri": "https://localhost:8080/",
          "height": 226
        },
        "id": "SZN6eo-BVkuo",
        "outputId": "b7497579-1fa7-4364-de02-2c4ae4b103ee"
      },
      "execution_count": 25,
      "outputs": [
        {
          "output_type": "execute_result",
          "data": {
            "text/plain": [
              "         V1        V2        V3        V4  ...       V38       V39       V40  Target\n",
              "0 -4.464606 -4.679129  3.101546  0.506130  ... -2.369169  2.950578 -3.480324       0\n",
              "1  3.365912  3.653381  0.909671 -1.367528  ...  5.908837 -0.386345  0.616242       0\n",
              "2 -3.831843 -5.824444  0.634031 -2.418815  ...  2.940021  3.839160 -4.309402       0\n",
              "3  1.618098  1.888342  7.046143 -1.147285  ...  0.138853  3.101430 -1.277378       0\n",
              "4 -0.111440  3.872488 -3.758361 -2.982897  ... -2.163896 -3.644622  6.510338       0\n",
              "\n",
              "[5 rows x 41 columns]"
            ],
            "text/html": [
              "\n",
              "  <div id=\"df-1ab00a94-d392-44da-8f0a-4c69d48043e7\" class=\"colab-df-container\">\n",
              "    <div>\n",
              "<style scoped>\n",
              "    .dataframe tbody tr th:only-of-type {\n",
              "        vertical-align: middle;\n",
              "    }\n",
              "\n",
              "    .dataframe tbody tr th {\n",
              "        vertical-align: top;\n",
              "    }\n",
              "\n",
              "    .dataframe thead th {\n",
              "        text-align: right;\n",
              "    }\n",
              "</style>\n",
              "<table border=\"1\" class=\"dataframe\">\n",
              "  <thead>\n",
              "    <tr style=\"text-align: right;\">\n",
              "      <th></th>\n",
              "      <th>V1</th>\n",
              "      <th>V2</th>\n",
              "      <th>V3</th>\n",
              "      <th>V4</th>\n",
              "      <th>V5</th>\n",
              "      <th>V6</th>\n",
              "      <th>V7</th>\n",
              "      <th>V8</th>\n",
              "      <th>V9</th>\n",
              "      <th>V10</th>\n",
              "      <th>V11</th>\n",
              "      <th>V12</th>\n",
              "      <th>V13</th>\n",
              "      <th>V14</th>\n",
              "      <th>V15</th>\n",
              "      <th>V16</th>\n",
              "      <th>V17</th>\n",
              "      <th>V18</th>\n",
              "      <th>V19</th>\n",
              "      <th>V20</th>\n",
              "      <th>V21</th>\n",
              "      <th>V22</th>\n",
              "      <th>V23</th>\n",
              "      <th>V24</th>\n",
              "      <th>V25</th>\n",
              "      <th>V26</th>\n",
              "      <th>V27</th>\n",
              "      <th>V28</th>\n",
              "      <th>V29</th>\n",
              "      <th>V30</th>\n",
              "      <th>V31</th>\n",
              "      <th>V32</th>\n",
              "      <th>V33</th>\n",
              "      <th>V34</th>\n",
              "      <th>V35</th>\n",
              "      <th>V36</th>\n",
              "      <th>V37</th>\n",
              "      <th>V38</th>\n",
              "      <th>V39</th>\n",
              "      <th>V40</th>\n",
              "      <th>Target</th>\n",
              "    </tr>\n",
              "  </thead>\n",
              "  <tbody>\n",
              "    <tr>\n",
              "      <th>0</th>\n",
              "      <td>-4.464606</td>\n",
              "      <td>-4.679129</td>\n",
              "      <td>3.101546</td>\n",
              "      <td>0.506130</td>\n",
              "      <td>-0.221083</td>\n",
              "      <td>-2.032511</td>\n",
              "      <td>-2.910870</td>\n",
              "      <td>0.050714</td>\n",
              "      <td>-1.522351</td>\n",
              "      <td>3.761892</td>\n",
              "      <td>-5.714719</td>\n",
              "      <td>0.735893</td>\n",
              "      <td>0.981251</td>\n",
              "      <td>1.417884</td>\n",
              "      <td>-3.375815</td>\n",
              "      <td>-3.047303</td>\n",
              "      <td>0.306194</td>\n",
              "      <td>2.914097</td>\n",
              "      <td>2.269979</td>\n",
              "      <td>4.394876</td>\n",
              "      <td>-2.388299</td>\n",
              "      <td>0.646388</td>\n",
              "      <td>-1.190508</td>\n",
              "      <td>3.132986</td>\n",
              "      <td>0.665277</td>\n",
              "      <td>-2.510846</td>\n",
              "      <td>-0.036744</td>\n",
              "      <td>0.726218</td>\n",
              "      <td>-3.982187</td>\n",
              "      <td>-1.072638</td>\n",
              "      <td>1.667098</td>\n",
              "      <td>3.059700</td>\n",
              "      <td>-1.690440</td>\n",
              "      <td>2.846296</td>\n",
              "      <td>2.235198</td>\n",
              "      <td>6.667486</td>\n",
              "      <td>0.443809</td>\n",
              "      <td>-2.369169</td>\n",
              "      <td>2.950578</td>\n",
              "      <td>-3.480324</td>\n",
              "      <td>0</td>\n",
              "    </tr>\n",
              "    <tr>\n",
              "      <th>1</th>\n",
              "      <td>3.365912</td>\n",
              "      <td>3.653381</td>\n",
              "      <td>0.909671</td>\n",
              "      <td>-1.367528</td>\n",
              "      <td>0.332016</td>\n",
              "      <td>2.358938</td>\n",
              "      <td>0.732600</td>\n",
              "      <td>-4.332135</td>\n",
              "      <td>0.565695</td>\n",
              "      <td>-0.101080</td>\n",
              "      <td>1.914465</td>\n",
              "      <td>-0.951458</td>\n",
              "      <td>-1.255259</td>\n",
              "      <td>-2.706522</td>\n",
              "      <td>0.193223</td>\n",
              "      <td>-4.769379</td>\n",
              "      <td>-2.205319</td>\n",
              "      <td>0.907716</td>\n",
              "      <td>0.756894</td>\n",
              "      <td>-5.833678</td>\n",
              "      <td>-3.065122</td>\n",
              "      <td>1.596647</td>\n",
              "      <td>-1.757311</td>\n",
              "      <td>1.766444</td>\n",
              "      <td>-0.267098</td>\n",
              "      <td>3.625036</td>\n",
              "      <td>1.500346</td>\n",
              "      <td>-0.585712</td>\n",
              "      <td>0.783034</td>\n",
              "      <td>-0.201217</td>\n",
              "      <td>0.024883</td>\n",
              "      <td>-1.795474</td>\n",
              "      <td>3.032780</td>\n",
              "      <td>-2.467514</td>\n",
              "      <td>1.894599</td>\n",
              "      <td>-2.297780</td>\n",
              "      <td>-1.731048</td>\n",
              "      <td>5.908837</td>\n",
              "      <td>-0.386345</td>\n",
              "      <td>0.616242</td>\n",
              "      <td>0</td>\n",
              "    </tr>\n",
              "    <tr>\n",
              "      <th>2</th>\n",
              "      <td>-3.831843</td>\n",
              "      <td>-5.824444</td>\n",
              "      <td>0.634031</td>\n",
              "      <td>-2.418815</td>\n",
              "      <td>-1.773827</td>\n",
              "      <td>1.016824</td>\n",
              "      <td>-2.098941</td>\n",
              "      <td>-3.173204</td>\n",
              "      <td>-2.081860</td>\n",
              "      <td>5.392621</td>\n",
              "      <td>-0.770673</td>\n",
              "      <td>1.106718</td>\n",
              "      <td>1.144261</td>\n",
              "      <td>0.943301</td>\n",
              "      <td>-3.163804</td>\n",
              "      <td>-4.247825</td>\n",
              "      <td>-4.038909</td>\n",
              "      <td>3.688534</td>\n",
              "      <td>3.311196</td>\n",
              "      <td>1.059002</td>\n",
              "      <td>-2.143026</td>\n",
              "      <td>1.650120</td>\n",
              "      <td>-1.660592</td>\n",
              "      <td>1.679910</td>\n",
              "      <td>-0.450782</td>\n",
              "      <td>-4.550695</td>\n",
              "      <td>3.738779</td>\n",
              "      <td>1.134404</td>\n",
              "      <td>-2.033531</td>\n",
              "      <td>0.840839</td>\n",
              "      <td>-1.600395</td>\n",
              "      <td>-0.257101</td>\n",
              "      <td>0.803550</td>\n",
              "      <td>4.086219</td>\n",
              "      <td>2.292138</td>\n",
              "      <td>5.360850</td>\n",
              "      <td>0.351993</td>\n",
              "      <td>2.940021</td>\n",
              "      <td>3.839160</td>\n",
              "      <td>-4.309402</td>\n",
              "      <td>0</td>\n",
              "    </tr>\n",
              "    <tr>\n",
              "      <th>3</th>\n",
              "      <td>1.618098</td>\n",
              "      <td>1.888342</td>\n",
              "      <td>7.046143</td>\n",
              "      <td>-1.147285</td>\n",
              "      <td>0.083080</td>\n",
              "      <td>-1.529780</td>\n",
              "      <td>0.207309</td>\n",
              "      <td>-2.493629</td>\n",
              "      <td>0.344926</td>\n",
              "      <td>2.118578</td>\n",
              "      <td>-3.053023</td>\n",
              "      <td>0.459719</td>\n",
              "      <td>2.704527</td>\n",
              "      <td>-0.636086</td>\n",
              "      <td>-0.453717</td>\n",
              "      <td>-3.174046</td>\n",
              "      <td>-3.404347</td>\n",
              "      <td>-1.281536</td>\n",
              "      <td>1.582104</td>\n",
              "      <td>-1.951778</td>\n",
              "      <td>-3.516555</td>\n",
              "      <td>-1.206011</td>\n",
              "      <td>-5.627854</td>\n",
              "      <td>-1.817653</td>\n",
              "      <td>2.124142</td>\n",
              "      <td>5.294642</td>\n",
              "      <td>4.748137</td>\n",
              "      <td>-2.308536</td>\n",
              "      <td>-3.962977</td>\n",
              "      <td>-6.028730</td>\n",
              "      <td>4.948770</td>\n",
              "      <td>-3.584425</td>\n",
              "      <td>-2.577474</td>\n",
              "      <td>1.363769</td>\n",
              "      <td>0.622714</td>\n",
              "      <td>5.550100</td>\n",
              "      <td>-1.526796</td>\n",
              "      <td>0.138853</td>\n",
              "      <td>3.101430</td>\n",
              "      <td>-1.277378</td>\n",
              "      <td>0</td>\n",
              "    </tr>\n",
              "    <tr>\n",
              "      <th>4</th>\n",
              "      <td>-0.111440</td>\n",
              "      <td>3.872488</td>\n",
              "      <td>-3.758361</td>\n",
              "      <td>-2.982897</td>\n",
              "      <td>3.792714</td>\n",
              "      <td>0.544960</td>\n",
              "      <td>0.205433</td>\n",
              "      <td>4.848994</td>\n",
              "      <td>-1.854920</td>\n",
              "      <td>-6.220023</td>\n",
              "      <td>1.998347</td>\n",
              "      <td>4.723757</td>\n",
              "      <td>0.709113</td>\n",
              "      <td>-1.989432</td>\n",
              "      <td>-2.632684</td>\n",
              "      <td>4.184447</td>\n",
              "      <td>2.245356</td>\n",
              "      <td>3.734452</td>\n",
              "      <td>-6.312766</td>\n",
              "      <td>-5.379918</td>\n",
              "      <td>-0.886667</td>\n",
              "      <td>2.061694</td>\n",
              "      <td>9.445586</td>\n",
              "      <td>4.489976</td>\n",
              "      <td>-3.945144</td>\n",
              "      <td>4.582065</td>\n",
              "      <td>-8.780422</td>\n",
              "      <td>-3.382967</td>\n",
              "      <td>5.106507</td>\n",
              "      <td>6.787513</td>\n",
              "      <td>2.044184</td>\n",
              "      <td>8.265896</td>\n",
              "      <td>6.629213</td>\n",
              "      <td>-10.068689</td>\n",
              "      <td>1.222987</td>\n",
              "      <td>-3.229763</td>\n",
              "      <td>1.686909</td>\n",
              "      <td>-2.163896</td>\n",
              "      <td>-3.644622</td>\n",
              "      <td>6.510338</td>\n",
              "      <td>0</td>\n",
              "    </tr>\n",
              "  </tbody>\n",
              "</table>\n",
              "</div>\n",
              "    <div class=\"colab-df-buttons\">\n",
              "\n",
              "  <div class=\"colab-df-container\">\n",
              "    <button class=\"colab-df-convert\" onclick=\"convertToInteractive('df-1ab00a94-d392-44da-8f0a-4c69d48043e7')\"\n",
              "            title=\"Convert this dataframe to an interactive table.\"\n",
              "            style=\"display:none;\">\n",
              "\n",
              "  <svg xmlns=\"http://www.w3.org/2000/svg\" height=\"24px\" viewBox=\"0 -960 960 960\">\n",
              "    <path d=\"M120-120v-720h720v720H120Zm60-500h600v-160H180v160Zm220 220h160v-160H400v160Zm0 220h160v-160H400v160ZM180-400h160v-160H180v160Zm440 0h160v-160H620v160ZM180-180h160v-160H180v160Zm440 0h160v-160H620v160Z\"/>\n",
              "  </svg>\n",
              "    </button>\n",
              "\n",
              "  <style>\n",
              "    .colab-df-container {\n",
              "      display:flex;\n",
              "      gap: 12px;\n",
              "    }\n",
              "\n",
              "    .colab-df-convert {\n",
              "      background-color: #E8F0FE;\n",
              "      border: none;\n",
              "      border-radius: 50%;\n",
              "      cursor: pointer;\n",
              "      display: none;\n",
              "      fill: #1967D2;\n",
              "      height: 32px;\n",
              "      padding: 0 0 0 0;\n",
              "      width: 32px;\n",
              "    }\n",
              "\n",
              "    .colab-df-convert:hover {\n",
              "      background-color: #E2EBFA;\n",
              "      box-shadow: 0px 1px 2px rgba(60, 64, 67, 0.3), 0px 1px 3px 1px rgba(60, 64, 67, 0.15);\n",
              "      fill: #174EA6;\n",
              "    }\n",
              "\n",
              "    .colab-df-buttons div {\n",
              "      margin-bottom: 4px;\n",
              "    }\n",
              "\n",
              "    [theme=dark] .colab-df-convert {\n",
              "      background-color: #3B4455;\n",
              "      fill: #D2E3FC;\n",
              "    }\n",
              "\n",
              "    [theme=dark] .colab-df-convert:hover {\n",
              "      background-color: #434B5C;\n",
              "      box-shadow: 0px 1px 3px 1px rgba(0, 0, 0, 0.15);\n",
              "      filter: drop-shadow(0px 1px 2px rgba(0, 0, 0, 0.3));\n",
              "      fill: #FFFFFF;\n",
              "    }\n",
              "  </style>\n",
              "\n",
              "    <script>\n",
              "      const buttonEl =\n",
              "        document.querySelector('#df-1ab00a94-d392-44da-8f0a-4c69d48043e7 button.colab-df-convert');\n",
              "      buttonEl.style.display =\n",
              "        google.colab.kernel.accessAllowed ? 'block' : 'none';\n",
              "\n",
              "      async function convertToInteractive(key) {\n",
              "        const element = document.querySelector('#df-1ab00a94-d392-44da-8f0a-4c69d48043e7');\n",
              "        const dataTable =\n",
              "          await google.colab.kernel.invokeFunction('convertToInteractive',\n",
              "                                                    [key], {});\n",
              "        if (!dataTable) return;\n",
              "\n",
              "        const docLinkHtml = 'Like what you see? Visit the ' +\n",
              "          '<a target=\"_blank\" href=https://colab.research.google.com/notebooks/data_table.ipynb>data table notebook</a>'\n",
              "          + ' to learn more about interactive tables.';\n",
              "        element.innerHTML = '';\n",
              "        dataTable['output_type'] = 'display_data';\n",
              "        await google.colab.output.renderOutput(dataTable, element);\n",
              "        const docLink = document.createElement('div');\n",
              "        docLink.innerHTML = docLinkHtml;\n",
              "        element.appendChild(docLink);\n",
              "      }\n",
              "    </script>\n",
              "  </div>\n",
              "\n",
              "\n",
              "    <div id=\"df-2739b090-f72a-4646-bc0d-fd9f4fef8ec1\">\n",
              "      <button class=\"colab-df-quickchart\" onclick=\"quickchart('df-2739b090-f72a-4646-bc0d-fd9f4fef8ec1')\"\n",
              "                title=\"Suggest charts\"\n",
              "                style=\"display:none;\">\n",
              "\n",
              "<svg xmlns=\"http://www.w3.org/2000/svg\" height=\"24px\"viewBox=\"0 0 24 24\"\n",
              "     width=\"24px\">\n",
              "    <g>\n",
              "        <path d=\"M19 3H5c-1.1 0-2 .9-2 2v14c0 1.1.9 2 2 2h14c1.1 0 2-.9 2-2V5c0-1.1-.9-2-2-2zM9 17H7v-7h2v7zm4 0h-2V7h2v10zm4 0h-2v-4h2v4z\"/>\n",
              "    </g>\n",
              "</svg>\n",
              "      </button>\n",
              "\n",
              "<style>\n",
              "  .colab-df-quickchart {\n",
              "      --bg-color: #E8F0FE;\n",
              "      --fill-color: #1967D2;\n",
              "      --hover-bg-color: #E2EBFA;\n",
              "      --hover-fill-color: #174EA6;\n",
              "      --disabled-fill-color: #AAA;\n",
              "      --disabled-bg-color: #DDD;\n",
              "  }\n",
              "\n",
              "  [theme=dark] .colab-df-quickchart {\n",
              "      --bg-color: #3B4455;\n",
              "      --fill-color: #D2E3FC;\n",
              "      --hover-bg-color: #434B5C;\n",
              "      --hover-fill-color: #FFFFFF;\n",
              "      --disabled-bg-color: #3B4455;\n",
              "      --disabled-fill-color: #666;\n",
              "  }\n",
              "\n",
              "  .colab-df-quickchart {\n",
              "    background-color: var(--bg-color);\n",
              "    border: none;\n",
              "    border-radius: 50%;\n",
              "    cursor: pointer;\n",
              "    display: none;\n",
              "    fill: var(--fill-color);\n",
              "    height: 32px;\n",
              "    padding: 0;\n",
              "    width: 32px;\n",
              "  }\n",
              "\n",
              "  .colab-df-quickchart:hover {\n",
              "    background-color: var(--hover-bg-color);\n",
              "    box-shadow: 0 1px 2px rgba(60, 64, 67, 0.3), 0 1px 3px 1px rgba(60, 64, 67, 0.15);\n",
              "    fill: var(--button-hover-fill-color);\n",
              "  }\n",
              "\n",
              "  .colab-df-quickchart-complete:disabled,\n",
              "  .colab-df-quickchart-complete:disabled:hover {\n",
              "    background-color: var(--disabled-bg-color);\n",
              "    fill: var(--disabled-fill-color);\n",
              "    box-shadow: none;\n",
              "  }\n",
              "\n",
              "  .colab-df-spinner {\n",
              "    border: 2px solid var(--fill-color);\n",
              "    border-color: transparent;\n",
              "    border-bottom-color: var(--fill-color);\n",
              "    animation:\n",
              "      spin 1s steps(1) infinite;\n",
              "  }\n",
              "\n",
              "  @keyframes spin {\n",
              "    0% {\n",
              "      border-color: transparent;\n",
              "      border-bottom-color: var(--fill-color);\n",
              "      border-left-color: var(--fill-color);\n",
              "    }\n",
              "    20% {\n",
              "      border-color: transparent;\n",
              "      border-left-color: var(--fill-color);\n",
              "      border-top-color: var(--fill-color);\n",
              "    }\n",
              "    30% {\n",
              "      border-color: transparent;\n",
              "      border-left-color: var(--fill-color);\n",
              "      border-top-color: var(--fill-color);\n",
              "      border-right-color: var(--fill-color);\n",
              "    }\n",
              "    40% {\n",
              "      border-color: transparent;\n",
              "      border-right-color: var(--fill-color);\n",
              "      border-top-color: var(--fill-color);\n",
              "    }\n",
              "    60% {\n",
              "      border-color: transparent;\n",
              "      border-right-color: var(--fill-color);\n",
              "    }\n",
              "    80% {\n",
              "      border-color: transparent;\n",
              "      border-right-color: var(--fill-color);\n",
              "      border-bottom-color: var(--fill-color);\n",
              "    }\n",
              "    90% {\n",
              "      border-color: transparent;\n",
              "      border-bottom-color: var(--fill-color);\n",
              "    }\n",
              "  }\n",
              "</style>\n",
              "\n",
              "      <script>\n",
              "        async function quickchart(key) {\n",
              "          const quickchartButtonEl =\n",
              "            document.querySelector('#' + key + ' button');\n",
              "          quickchartButtonEl.disabled = true;  // To prevent multiple clicks.\n",
              "          quickchartButtonEl.classList.add('colab-df-spinner');\n",
              "          try {\n",
              "            const charts = await google.colab.kernel.invokeFunction(\n",
              "                'suggestCharts', [key], {});\n",
              "          } catch (error) {\n",
              "            console.error('Error during call to suggestCharts:', error);\n",
              "          }\n",
              "          quickchartButtonEl.classList.remove('colab-df-spinner');\n",
              "          quickchartButtonEl.classList.add('colab-df-quickchart-complete');\n",
              "        }\n",
              "        (() => {\n",
              "          let quickchartButtonEl =\n",
              "            document.querySelector('#df-2739b090-f72a-4646-bc0d-fd9f4fef8ec1 button');\n",
              "          quickchartButtonEl.style.display =\n",
              "            google.colab.kernel.accessAllowed ? 'block' : 'none';\n",
              "        })();\n",
              "      </script>\n",
              "    </div>\n",
              "\n",
              "    </div>\n",
              "  </div>\n"
            ],
            "application/vnd.google.colaboratory.intrinsic+json": {
              "type": "dataframe",
              "variable_name": "data_train"
            }
          },
          "metadata": {},
          "execution_count": 25
        }
      ]
    },
    {
      "cell_type": "code",
      "source": [
        "data_test.head()"
      ],
      "metadata": {
        "colab": {
          "base_uri": "https://localhost:8080/",
          "height": 226
        },
        "id": "0sdGTftSVb63",
        "outputId": "50af324c-be28-4954-f0bc-f023a1f718a8"
      },
      "execution_count": 26,
      "outputs": [
        {
          "output_type": "execute_result",
          "data": {
            "text/plain": [
              "         V1        V2        V3  ...       V39       V40  Target\n",
              "0 -0.613489 -3.819640  2.202302  ...  0.454664 -1.448363       0\n",
              "1  0.389608 -0.512341  0.527053  ...  1.720744 -1.488235       0\n",
              "2 -0.874861 -0.640632  4.084202  ...  1.808302  1.675748       0\n",
              "3  0.238384  1.458607  4.014528  ...  0.906000 -2.450889       0\n",
              "4  5.828225  2.768260 -1.234530  ... -3.858207 -0.537694       0\n",
              "\n",
              "[5 rows x 41 columns]"
            ],
            "text/html": [
              "\n",
              "  <div id=\"df-4ecf93cf-1d7d-41cf-8ca1-0b02de986702\" class=\"colab-df-container\">\n",
              "    <div>\n",
              "<style scoped>\n",
              "    .dataframe tbody tr th:only-of-type {\n",
              "        vertical-align: middle;\n",
              "    }\n",
              "\n",
              "    .dataframe tbody tr th {\n",
              "        vertical-align: top;\n",
              "    }\n",
              "\n",
              "    .dataframe thead th {\n",
              "        text-align: right;\n",
              "    }\n",
              "</style>\n",
              "<table border=\"1\" class=\"dataframe\">\n",
              "  <thead>\n",
              "    <tr style=\"text-align: right;\">\n",
              "      <th></th>\n",
              "      <th>V1</th>\n",
              "      <th>V2</th>\n",
              "      <th>V3</th>\n",
              "      <th>V4</th>\n",
              "      <th>V5</th>\n",
              "      <th>V6</th>\n",
              "      <th>V7</th>\n",
              "      <th>V8</th>\n",
              "      <th>V9</th>\n",
              "      <th>V10</th>\n",
              "      <th>V11</th>\n",
              "      <th>V12</th>\n",
              "      <th>V13</th>\n",
              "      <th>V14</th>\n",
              "      <th>V15</th>\n",
              "      <th>V16</th>\n",
              "      <th>V17</th>\n",
              "      <th>V18</th>\n",
              "      <th>V19</th>\n",
              "      <th>V20</th>\n",
              "      <th>V21</th>\n",
              "      <th>V22</th>\n",
              "      <th>V23</th>\n",
              "      <th>V24</th>\n",
              "      <th>V25</th>\n",
              "      <th>V26</th>\n",
              "      <th>V27</th>\n",
              "      <th>V28</th>\n",
              "      <th>V29</th>\n",
              "      <th>V30</th>\n",
              "      <th>V31</th>\n",
              "      <th>V32</th>\n",
              "      <th>V33</th>\n",
              "      <th>V34</th>\n",
              "      <th>V35</th>\n",
              "      <th>V36</th>\n",
              "      <th>V37</th>\n",
              "      <th>V38</th>\n",
              "      <th>V39</th>\n",
              "      <th>V40</th>\n",
              "      <th>Target</th>\n",
              "    </tr>\n",
              "  </thead>\n",
              "  <tbody>\n",
              "    <tr>\n",
              "      <th>0</th>\n",
              "      <td>-0.613489</td>\n",
              "      <td>-3.819640</td>\n",
              "      <td>2.202302</td>\n",
              "      <td>1.300420</td>\n",
              "      <td>-1.184929</td>\n",
              "      <td>-4.495964</td>\n",
              "      <td>-1.835817</td>\n",
              "      <td>4.722989</td>\n",
              "      <td>1.206140</td>\n",
              "      <td>-0.341909</td>\n",
              "      <td>-5.122874</td>\n",
              "      <td>1.017021</td>\n",
              "      <td>4.818549</td>\n",
              "      <td>3.269001</td>\n",
              "      <td>-2.984330</td>\n",
              "      <td>1.387370</td>\n",
              "      <td>2.032002</td>\n",
              "      <td>-0.511587</td>\n",
              "      <td>-1.023069</td>\n",
              "      <td>7.338733</td>\n",
              "      <td>-2.242244</td>\n",
              "      <td>0.155489</td>\n",
              "      <td>2.053786</td>\n",
              "      <td>-2.772273</td>\n",
              "      <td>1.851369</td>\n",
              "      <td>-1.788696</td>\n",
              "      <td>-0.277282</td>\n",
              "      <td>-1.255143</td>\n",
              "      <td>-3.832886</td>\n",
              "      <td>-1.504542</td>\n",
              "      <td>1.586765</td>\n",
              "      <td>2.291204</td>\n",
              "      <td>-5.411388</td>\n",
              "      <td>0.870073</td>\n",
              "      <td>0.574479</td>\n",
              "      <td>4.157191</td>\n",
              "      <td>1.428093</td>\n",
              "      <td>-10.511342</td>\n",
              "      <td>0.454664</td>\n",
              "      <td>-1.448363</td>\n",
              "      <td>0</td>\n",
              "    </tr>\n",
              "    <tr>\n",
              "      <th>1</th>\n",
              "      <td>0.389608</td>\n",
              "      <td>-0.512341</td>\n",
              "      <td>0.527053</td>\n",
              "      <td>-2.576776</td>\n",
              "      <td>-1.016766</td>\n",
              "      <td>2.235112</td>\n",
              "      <td>-0.441301</td>\n",
              "      <td>-4.405744</td>\n",
              "      <td>-0.332869</td>\n",
              "      <td>1.966794</td>\n",
              "      <td>1.796544</td>\n",
              "      <td>0.410490</td>\n",
              "      <td>0.638328</td>\n",
              "      <td>-1.389600</td>\n",
              "      <td>-1.883410</td>\n",
              "      <td>-5.017922</td>\n",
              "      <td>-3.827238</td>\n",
              "      <td>2.418060</td>\n",
              "      <td>1.762285</td>\n",
              "      <td>-3.242297</td>\n",
              "      <td>-3.192960</td>\n",
              "      <td>1.857454</td>\n",
              "      <td>-1.707954</td>\n",
              "      <td>0.633444</td>\n",
              "      <td>-0.587898</td>\n",
              "      <td>0.083683</td>\n",
              "      <td>3.013935</td>\n",
              "      <td>-0.182309</td>\n",
              "      <td>0.223917</td>\n",
              "      <td>0.865228</td>\n",
              "      <td>-1.782158</td>\n",
              "      <td>-2.474936</td>\n",
              "      <td>2.493582</td>\n",
              "      <td>0.315165</td>\n",
              "      <td>2.059288</td>\n",
              "      <td>0.683859</td>\n",
              "      <td>-0.485452</td>\n",
              "      <td>5.128350</td>\n",
              "      <td>1.720744</td>\n",
              "      <td>-1.488235</td>\n",
              "      <td>0</td>\n",
              "    </tr>\n",
              "    <tr>\n",
              "      <th>2</th>\n",
              "      <td>-0.874861</td>\n",
              "      <td>-0.640632</td>\n",
              "      <td>4.084202</td>\n",
              "      <td>-1.590454</td>\n",
              "      <td>0.525855</td>\n",
              "      <td>-1.957592</td>\n",
              "      <td>-0.695367</td>\n",
              "      <td>1.347309</td>\n",
              "      <td>-1.732348</td>\n",
              "      <td>0.466500</td>\n",
              "      <td>-4.928214</td>\n",
              "      <td>3.565070</td>\n",
              "      <td>-0.449329</td>\n",
              "      <td>-0.656246</td>\n",
              "      <td>-0.166537</td>\n",
              "      <td>-1.630207</td>\n",
              "      <td>2.291865</td>\n",
              "      <td>2.396492</td>\n",
              "      <td>0.601278</td>\n",
              "      <td>1.793534</td>\n",
              "      <td>-2.120238</td>\n",
              "      <td>0.481968</td>\n",
              "      <td>-0.840707</td>\n",
              "      <td>1.790197</td>\n",
              "      <td>1.874395</td>\n",
              "      <td>0.363930</td>\n",
              "      <td>-0.169063</td>\n",
              "      <td>-0.483832</td>\n",
              "      <td>-2.118982</td>\n",
              "      <td>-2.156586</td>\n",
              "      <td>2.907291</td>\n",
              "      <td>-1.318888</td>\n",
              "      <td>-2.997464</td>\n",
              "      <td>0.459664</td>\n",
              "      <td>0.619774</td>\n",
              "      <td>5.631504</td>\n",
              "      <td>1.323512</td>\n",
              "      <td>-1.752154</td>\n",
              "      <td>1.808302</td>\n",
              "      <td>1.675748</td>\n",
              "      <td>0</td>\n",
              "    </tr>\n",
              "    <tr>\n",
              "      <th>3</th>\n",
              "      <td>0.238384</td>\n",
              "      <td>1.458607</td>\n",
              "      <td>4.014528</td>\n",
              "      <td>2.534478</td>\n",
              "      <td>1.196987</td>\n",
              "      <td>-3.117330</td>\n",
              "      <td>-0.924035</td>\n",
              "      <td>0.269493</td>\n",
              "      <td>1.322436</td>\n",
              "      <td>0.702345</td>\n",
              "      <td>-5.578345</td>\n",
              "      <td>-0.850662</td>\n",
              "      <td>2.590525</td>\n",
              "      <td>0.767418</td>\n",
              "      <td>-2.390809</td>\n",
              "      <td>-2.341961</td>\n",
              "      <td>0.571875</td>\n",
              "      <td>-0.933751</td>\n",
              "      <td>0.508677</td>\n",
              "      <td>1.210715</td>\n",
              "      <td>-3.259524</td>\n",
              "      <td>0.104587</td>\n",
              "      <td>-0.658875</td>\n",
              "      <td>1.498107</td>\n",
              "      <td>1.100305</td>\n",
              "      <td>4.142988</td>\n",
              "      <td>-0.248446</td>\n",
              "      <td>-1.136516</td>\n",
              "      <td>-5.355810</td>\n",
              "      <td>-4.545931</td>\n",
              "      <td>3.808667</td>\n",
              "      <td>3.517918</td>\n",
              "      <td>-3.074085</td>\n",
              "      <td>-0.284220</td>\n",
              "      <td>0.954576</td>\n",
              "      <td>3.029331</td>\n",
              "      <td>-1.367198</td>\n",
              "      <td>-3.412140</td>\n",
              "      <td>0.906000</td>\n",
              "      <td>-2.450889</td>\n",
              "      <td>0</td>\n",
              "    </tr>\n",
              "    <tr>\n",
              "      <th>4</th>\n",
              "      <td>5.828225</td>\n",
              "      <td>2.768260</td>\n",
              "      <td>-1.234530</td>\n",
              "      <td>2.809264</td>\n",
              "      <td>-1.641648</td>\n",
              "      <td>-1.406698</td>\n",
              "      <td>0.568643</td>\n",
              "      <td>0.965043</td>\n",
              "      <td>1.918379</td>\n",
              "      <td>-2.774855</td>\n",
              "      <td>-0.530016</td>\n",
              "      <td>1.374544</td>\n",
              "      <td>-0.650941</td>\n",
              "      <td>-1.679466</td>\n",
              "      <td>-0.379220</td>\n",
              "      <td>-4.443143</td>\n",
              "      <td>3.893857</td>\n",
              "      <td>-0.607640</td>\n",
              "      <td>2.944931</td>\n",
              "      <td>0.367233</td>\n",
              "      <td>-5.789081</td>\n",
              "      <td>4.597528</td>\n",
              "      <td>4.450264</td>\n",
              "      <td>3.224941</td>\n",
              "      <td>0.396701</td>\n",
              "      <td>0.247765</td>\n",
              "      <td>-2.362047</td>\n",
              "      <td>1.079378</td>\n",
              "      <td>-0.473076</td>\n",
              "      <td>2.242810</td>\n",
              "      <td>-3.591421</td>\n",
              "      <td>1.773841</td>\n",
              "      <td>-1.501573</td>\n",
              "      <td>-2.226702</td>\n",
              "      <td>4.776830</td>\n",
              "      <td>-6.559698</td>\n",
              "      <td>-0.805551</td>\n",
              "      <td>-0.276007</td>\n",
              "      <td>-3.858207</td>\n",
              "      <td>-0.537694</td>\n",
              "      <td>0</td>\n",
              "    </tr>\n",
              "  </tbody>\n",
              "</table>\n",
              "</div>\n",
              "    <div class=\"colab-df-buttons\">\n",
              "\n",
              "  <div class=\"colab-df-container\">\n",
              "    <button class=\"colab-df-convert\" onclick=\"convertToInteractive('df-4ecf93cf-1d7d-41cf-8ca1-0b02de986702')\"\n",
              "            title=\"Convert this dataframe to an interactive table.\"\n",
              "            style=\"display:none;\">\n",
              "\n",
              "  <svg xmlns=\"http://www.w3.org/2000/svg\" height=\"24px\" viewBox=\"0 -960 960 960\">\n",
              "    <path d=\"M120-120v-720h720v720H120Zm60-500h600v-160H180v160Zm220 220h160v-160H400v160Zm0 220h160v-160H400v160ZM180-400h160v-160H180v160Zm440 0h160v-160H620v160ZM180-180h160v-160H180v160Zm440 0h160v-160H620v160Z\"/>\n",
              "  </svg>\n",
              "    </button>\n",
              "\n",
              "  <style>\n",
              "    .colab-df-container {\n",
              "      display:flex;\n",
              "      gap: 12px;\n",
              "    }\n",
              "\n",
              "    .colab-df-convert {\n",
              "      background-color: #E8F0FE;\n",
              "      border: none;\n",
              "      border-radius: 50%;\n",
              "      cursor: pointer;\n",
              "      display: none;\n",
              "      fill: #1967D2;\n",
              "      height: 32px;\n",
              "      padding: 0 0 0 0;\n",
              "      width: 32px;\n",
              "    }\n",
              "\n",
              "    .colab-df-convert:hover {\n",
              "      background-color: #E2EBFA;\n",
              "      box-shadow: 0px 1px 2px rgba(60, 64, 67, 0.3), 0px 1px 3px 1px rgba(60, 64, 67, 0.15);\n",
              "      fill: #174EA6;\n",
              "    }\n",
              "\n",
              "    .colab-df-buttons div {\n",
              "      margin-bottom: 4px;\n",
              "    }\n",
              "\n",
              "    [theme=dark] .colab-df-convert {\n",
              "      background-color: #3B4455;\n",
              "      fill: #D2E3FC;\n",
              "    }\n",
              "\n",
              "    [theme=dark] .colab-df-convert:hover {\n",
              "      background-color: #434B5C;\n",
              "      box-shadow: 0px 1px 3px 1px rgba(0, 0, 0, 0.15);\n",
              "      filter: drop-shadow(0px 1px 2px rgba(0, 0, 0, 0.3));\n",
              "      fill: #FFFFFF;\n",
              "    }\n",
              "  </style>\n",
              "\n",
              "    <script>\n",
              "      const buttonEl =\n",
              "        document.querySelector('#df-4ecf93cf-1d7d-41cf-8ca1-0b02de986702 button.colab-df-convert');\n",
              "      buttonEl.style.display =\n",
              "        google.colab.kernel.accessAllowed ? 'block' : 'none';\n",
              "\n",
              "      async function convertToInteractive(key) {\n",
              "        const element = document.querySelector('#df-4ecf93cf-1d7d-41cf-8ca1-0b02de986702');\n",
              "        const dataTable =\n",
              "          await google.colab.kernel.invokeFunction('convertToInteractive',\n",
              "                                                    [key], {});\n",
              "        if (!dataTable) return;\n",
              "\n",
              "        const docLinkHtml = 'Like what you see? Visit the ' +\n",
              "          '<a target=\"_blank\" href=https://colab.research.google.com/notebooks/data_table.ipynb>data table notebook</a>'\n",
              "          + ' to learn more about interactive tables.';\n",
              "        element.innerHTML = '';\n",
              "        dataTable['output_type'] = 'display_data';\n",
              "        await google.colab.output.renderOutput(dataTable, element);\n",
              "        const docLink = document.createElement('div');\n",
              "        docLink.innerHTML = docLinkHtml;\n",
              "        element.appendChild(docLink);\n",
              "      }\n",
              "    </script>\n",
              "  </div>\n",
              "\n",
              "\n",
              "    <div id=\"df-d24304f2-3f3f-4b6a-849a-568444385db0\">\n",
              "      <button class=\"colab-df-quickchart\" onclick=\"quickchart('df-d24304f2-3f3f-4b6a-849a-568444385db0')\"\n",
              "                title=\"Suggest charts\"\n",
              "                style=\"display:none;\">\n",
              "\n",
              "<svg xmlns=\"http://www.w3.org/2000/svg\" height=\"24px\"viewBox=\"0 0 24 24\"\n",
              "     width=\"24px\">\n",
              "    <g>\n",
              "        <path d=\"M19 3H5c-1.1 0-2 .9-2 2v14c0 1.1.9 2 2 2h14c1.1 0 2-.9 2-2V5c0-1.1-.9-2-2-2zM9 17H7v-7h2v7zm4 0h-2V7h2v10zm4 0h-2v-4h2v4z\"/>\n",
              "    </g>\n",
              "</svg>\n",
              "      </button>\n",
              "\n",
              "<style>\n",
              "  .colab-df-quickchart {\n",
              "      --bg-color: #E8F0FE;\n",
              "      --fill-color: #1967D2;\n",
              "      --hover-bg-color: #E2EBFA;\n",
              "      --hover-fill-color: #174EA6;\n",
              "      --disabled-fill-color: #AAA;\n",
              "      --disabled-bg-color: #DDD;\n",
              "  }\n",
              "\n",
              "  [theme=dark] .colab-df-quickchart {\n",
              "      --bg-color: #3B4455;\n",
              "      --fill-color: #D2E3FC;\n",
              "      --hover-bg-color: #434B5C;\n",
              "      --hover-fill-color: #FFFFFF;\n",
              "      --disabled-bg-color: #3B4455;\n",
              "      --disabled-fill-color: #666;\n",
              "  }\n",
              "\n",
              "  .colab-df-quickchart {\n",
              "    background-color: var(--bg-color);\n",
              "    border: none;\n",
              "    border-radius: 50%;\n",
              "    cursor: pointer;\n",
              "    display: none;\n",
              "    fill: var(--fill-color);\n",
              "    height: 32px;\n",
              "    padding: 0;\n",
              "    width: 32px;\n",
              "  }\n",
              "\n",
              "  .colab-df-quickchart:hover {\n",
              "    background-color: var(--hover-bg-color);\n",
              "    box-shadow: 0 1px 2px rgba(60, 64, 67, 0.3), 0 1px 3px 1px rgba(60, 64, 67, 0.15);\n",
              "    fill: var(--button-hover-fill-color);\n",
              "  }\n",
              "\n",
              "  .colab-df-quickchart-complete:disabled,\n",
              "  .colab-df-quickchart-complete:disabled:hover {\n",
              "    background-color: var(--disabled-bg-color);\n",
              "    fill: var(--disabled-fill-color);\n",
              "    box-shadow: none;\n",
              "  }\n",
              "\n",
              "  .colab-df-spinner {\n",
              "    border: 2px solid var(--fill-color);\n",
              "    border-color: transparent;\n",
              "    border-bottom-color: var(--fill-color);\n",
              "    animation:\n",
              "      spin 1s steps(1) infinite;\n",
              "  }\n",
              "\n",
              "  @keyframes spin {\n",
              "    0% {\n",
              "      border-color: transparent;\n",
              "      border-bottom-color: var(--fill-color);\n",
              "      border-left-color: var(--fill-color);\n",
              "    }\n",
              "    20% {\n",
              "      border-color: transparent;\n",
              "      border-left-color: var(--fill-color);\n",
              "      border-top-color: var(--fill-color);\n",
              "    }\n",
              "    30% {\n",
              "      border-color: transparent;\n",
              "      border-left-color: var(--fill-color);\n",
              "      border-top-color: var(--fill-color);\n",
              "      border-right-color: var(--fill-color);\n",
              "    }\n",
              "    40% {\n",
              "      border-color: transparent;\n",
              "      border-right-color: var(--fill-color);\n",
              "      border-top-color: var(--fill-color);\n",
              "    }\n",
              "    60% {\n",
              "      border-color: transparent;\n",
              "      border-right-color: var(--fill-color);\n",
              "    }\n",
              "    80% {\n",
              "      border-color: transparent;\n",
              "      border-right-color: var(--fill-color);\n",
              "      border-bottom-color: var(--fill-color);\n",
              "    }\n",
              "    90% {\n",
              "      border-color: transparent;\n",
              "      border-bottom-color: var(--fill-color);\n",
              "    }\n",
              "  }\n",
              "</style>\n",
              "\n",
              "      <script>\n",
              "        async function quickchart(key) {\n",
              "          const quickchartButtonEl =\n",
              "            document.querySelector('#' + key + ' button');\n",
              "          quickchartButtonEl.disabled = true;  // To prevent multiple clicks.\n",
              "          quickchartButtonEl.classList.add('colab-df-spinner');\n",
              "          try {\n",
              "            const charts = await google.colab.kernel.invokeFunction(\n",
              "                'suggestCharts', [key], {});\n",
              "          } catch (error) {\n",
              "            console.error('Error during call to suggestCharts:', error);\n",
              "          }\n",
              "          quickchartButtonEl.classList.remove('colab-df-spinner');\n",
              "          quickchartButtonEl.classList.add('colab-df-quickchart-complete');\n",
              "        }\n",
              "        (() => {\n",
              "          let quickchartButtonEl =\n",
              "            document.querySelector('#df-d24304f2-3f3f-4b6a-849a-568444385db0 button');\n",
              "          quickchartButtonEl.style.display =\n",
              "            google.colab.kernel.accessAllowed ? 'block' : 'none';\n",
              "        })();\n",
              "      </script>\n",
              "    </div>\n",
              "\n",
              "    </div>\n",
              "  </div>\n"
            ],
            "application/vnd.google.colaboratory.intrinsic+json": {
              "type": "dataframe",
              "variable_name": "data_test"
            }
          },
          "metadata": {},
          "execution_count": 26
        }
      ]
    },
    {
      "cell_type": "code",
      "source": [
        "data_train.shape"
      ],
      "metadata": {
        "colab": {
          "base_uri": "https://localhost:8080/"
        },
        "id": "Uxc4xKPWVq6W",
        "outputId": "5bbe9945-8eb1-49dc-d0d2-8e3785c312a0"
      },
      "execution_count": 27,
      "outputs": [
        {
          "output_type": "execute_result",
          "data": {
            "text/plain": [
              "(20000, 41)"
            ]
          },
          "metadata": {},
          "execution_count": 27
        }
      ]
    },
    {
      "cell_type": "markdown",
      "source": [
        "The train dataset has 2000 rows and 41 columns"
      ],
      "metadata": {
        "id": "q2ByJeMzX7TG"
      }
    },
    {
      "cell_type": "code",
      "source": [
        "data_test.shape"
      ],
      "metadata": {
        "colab": {
          "base_uri": "https://localhost:8080/"
        },
        "id": "7tjgqbIiVz45",
        "outputId": "5837b986-a771-422b-e60b-e140a8bd02a1"
      },
      "execution_count": 28,
      "outputs": [
        {
          "output_type": "execute_result",
          "data": {
            "text/plain": [
              "(5000, 41)"
            ]
          },
          "metadata": {},
          "execution_count": 28
        }
      ]
    },
    {
      "cell_type": "markdown",
      "source": [
        "The test dataset has 5000 Rows and 41 Column"
      ],
      "metadata": {
        "id": "hWW9I974YD0-"
      }
    },
    {
      "cell_type": "markdown",
      "source": [],
      "metadata": {
        "id": "09SoOWcXYXhZ"
      }
    },
    {
      "cell_type": "code",
      "source": [
        "#Let's check the datatypes of the columns in the train dataset\n",
        "data_train.info()"
      ],
      "metadata": {
        "colab": {
          "base_uri": "https://localhost:8080/"
        },
        "id": "QS9slxyKWIg4",
        "outputId": "1b1693c8-b9bd-4338-bf94-4a174097da70"
      },
      "execution_count": 31,
      "outputs": [
        {
          "output_type": "stream",
          "name": "stdout",
          "text": [
            "<class 'pandas.core.frame.DataFrame'>\n",
            "RangeIndex: 20000 entries, 0 to 19999\n",
            "Data columns (total 41 columns):\n",
            " #   Column  Non-Null Count  Dtype  \n",
            "---  ------  --------------  -----  \n",
            " 0   V1      19982 non-null  float64\n",
            " 1   V2      19982 non-null  float64\n",
            " 2   V3      20000 non-null  float64\n",
            " 3   V4      20000 non-null  float64\n",
            " 4   V5      20000 non-null  float64\n",
            " 5   V6      20000 non-null  float64\n",
            " 6   V7      20000 non-null  float64\n",
            " 7   V8      20000 non-null  float64\n",
            " 8   V9      20000 non-null  float64\n",
            " 9   V10     20000 non-null  float64\n",
            " 10  V11     20000 non-null  float64\n",
            " 11  V12     20000 non-null  float64\n",
            " 12  V13     20000 non-null  float64\n",
            " 13  V14     20000 non-null  float64\n",
            " 14  V15     20000 non-null  float64\n",
            " 15  V16     20000 non-null  float64\n",
            " 16  V17     20000 non-null  float64\n",
            " 17  V18     20000 non-null  float64\n",
            " 18  V19     20000 non-null  float64\n",
            " 19  V20     20000 non-null  float64\n",
            " 20  V21     20000 non-null  float64\n",
            " 21  V22     20000 non-null  float64\n",
            " 22  V23     20000 non-null  float64\n",
            " 23  V24     20000 non-null  float64\n",
            " 24  V25     20000 non-null  float64\n",
            " 25  V26     20000 non-null  float64\n",
            " 26  V27     20000 non-null  float64\n",
            " 27  V28     20000 non-null  float64\n",
            " 28  V29     20000 non-null  float64\n",
            " 29  V30     20000 non-null  float64\n",
            " 30  V31     20000 non-null  float64\n",
            " 31  V32     20000 non-null  float64\n",
            " 32  V33     20000 non-null  float64\n",
            " 33  V34     20000 non-null  float64\n",
            " 34  V35     20000 non-null  float64\n",
            " 35  V36     20000 non-null  float64\n",
            " 36  V37     20000 non-null  float64\n",
            " 37  V38     20000 non-null  float64\n",
            " 38  V39     20000 non-null  float64\n",
            " 39  V40     20000 non-null  float64\n",
            " 40  Target  20000 non-null  int64  \n",
            "dtypes: float64(40), int64(1)\n",
            "memory usage: 6.3 MB\n"
          ]
        }
      ]
    },
    {
      "cell_type": "markdown",
      "source": [
        "Only one column is integer"
      ],
      "metadata": {
        "id": "gyUx1vskY0Qb"
      }
    },
    {
      "cell_type": "code",
      "source": [
        "#Let's check the datatypes of the columns in the  test dataset\n",
        "data_test.info()"
      ],
      "metadata": {
        "colab": {
          "base_uri": "https://localhost:8080/"
        },
        "id": "-PMGSTo8WOeO",
        "outputId": "4d08c4b4-0e9e-423e-a137-d364419fe2d8"
      },
      "execution_count": 32,
      "outputs": [
        {
          "output_type": "stream",
          "name": "stdout",
          "text": [
            "<class 'pandas.core.frame.DataFrame'>\n",
            "RangeIndex: 5000 entries, 0 to 4999\n",
            "Data columns (total 41 columns):\n",
            " #   Column  Non-Null Count  Dtype  \n",
            "---  ------  --------------  -----  \n",
            " 0   V1      4995 non-null   float64\n",
            " 1   V2      4994 non-null   float64\n",
            " 2   V3      5000 non-null   float64\n",
            " 3   V4      5000 non-null   float64\n",
            " 4   V5      5000 non-null   float64\n",
            " 5   V6      5000 non-null   float64\n",
            " 6   V7      5000 non-null   float64\n",
            " 7   V8      5000 non-null   float64\n",
            " 8   V9      5000 non-null   float64\n",
            " 9   V10     5000 non-null   float64\n",
            " 10  V11     5000 non-null   float64\n",
            " 11  V12     5000 non-null   float64\n",
            " 12  V13     5000 non-null   float64\n",
            " 13  V14     5000 non-null   float64\n",
            " 14  V15     5000 non-null   float64\n",
            " 15  V16     5000 non-null   float64\n",
            " 16  V17     5000 non-null   float64\n",
            " 17  V18     5000 non-null   float64\n",
            " 18  V19     5000 non-null   float64\n",
            " 19  V20     5000 non-null   float64\n",
            " 20  V21     5000 non-null   float64\n",
            " 21  V22     5000 non-null   float64\n",
            " 22  V23     5000 non-null   float64\n",
            " 23  V24     5000 non-null   float64\n",
            " 24  V25     5000 non-null   float64\n",
            " 25  V26     5000 non-null   float64\n",
            " 26  V27     5000 non-null   float64\n",
            " 27  V28     5000 non-null   float64\n",
            " 28  V29     5000 non-null   float64\n",
            " 29  V30     5000 non-null   float64\n",
            " 30  V31     5000 non-null   float64\n",
            " 31  V32     5000 non-null   float64\n",
            " 32  V33     5000 non-null   float64\n",
            " 33  V34     5000 non-null   float64\n",
            " 34  V35     5000 non-null   float64\n",
            " 35  V36     5000 non-null   float64\n",
            " 36  V37     5000 non-null   float64\n",
            " 37  V38     5000 non-null   float64\n",
            " 38  V39     5000 non-null   float64\n",
            " 39  V40     5000 non-null   float64\n",
            " 40  Target  5000 non-null   int64  \n",
            "dtypes: float64(40), int64(1)\n",
            "memory usage: 1.6 MB\n"
          ]
        }
      ]
    },
    {
      "cell_type": "markdown",
      "source": [
        "Only one column is integer"
      ],
      "metadata": {
        "id": "jE3eYq2yY8z5"
      }
    },
    {
      "cell_type": "markdown",
      "metadata": {
        "id": "DhPuzWO7hmV8"
      },
      "source": [
        "# **Exploratory Data Analysis**"
      ]
    },
    {
      "cell_type": "markdown",
      "metadata": {
        "id": "Lv7Bs8aUbp07"
      },
      "source": [
        "## Univariate analysis"
      ]
    },
    {
      "cell_type": "code",
      "execution_count": null,
      "metadata": {
        "id": "5rupsM4sbp08"
      },
      "outputs": [],
      "source": []
    },
    {
      "cell_type": "markdown",
      "source": [
        "## Bivariate Analysis"
      ],
      "metadata": {
        "id": "lRrYccqLJKXi"
      }
    },
    {
      "cell_type": "code",
      "source": [],
      "metadata": {
        "id": "kL32Bf4rJO1F"
      },
      "execution_count": null,
      "outputs": []
    },
    {
      "cell_type": "markdown",
      "metadata": {
        "id": "Bp8vC9MZbp09"
      },
      "source": [
        "# **Data Preprocessing**"
      ]
    },
    {
      "cell_type": "code",
      "execution_count": null,
      "metadata": {
        "id": "C-xgnTbGb4CY"
      },
      "outputs": [],
      "source": []
    },
    {
      "cell_type": "markdown",
      "metadata": {
        "id": "OzOa9FGA6WtG"
      },
      "source": [
        "# **Model Building**"
      ]
    },
    {
      "cell_type": "markdown",
      "metadata": {
        "id": "czwxDIZNccQL"
      },
      "source": [
        "## Model Evaluation Criterion"
      ]
    },
    {
      "cell_type": "markdown",
      "metadata": {
        "id": "l2ORUgmUjDZC"
      },
      "source": [
        "Write down the model evaluation criterion with rationale"
      ]
    },
    {
      "cell_type": "markdown",
      "metadata": {
        "id": "4fI98GOV0pTY"
      },
      "source": [
        "## Initial Model Building (Model 0)"
      ]
    },
    {
      "cell_type": "markdown",
      "source": [
        "- Let's start with a neural network consisting of\n",
        "  - just one hidden layer\n",
        "  - activation function of ReLU\n",
        "  - SGD as the optimizer"
      ],
      "metadata": {
        "id": "0usUom8nZOYZ"
      }
    },
    {
      "cell_type": "code",
      "source": [],
      "metadata": {
        "id": "foiSZUcHKFp6"
      },
      "execution_count": null,
      "outputs": []
    },
    {
      "cell_type": "markdown",
      "source": [
        "# **Model Performance Improvement**"
      ],
      "metadata": {
        "id": "2tlVEbIWKb6T"
      }
    },
    {
      "cell_type": "markdown",
      "source": [
        "## Model 1"
      ],
      "metadata": {
        "id": "grQ6pRK1WZtr"
      }
    },
    {
      "cell_type": "code",
      "source": [],
      "metadata": {
        "id": "SfnoGNrmknOd"
      },
      "execution_count": null,
      "outputs": []
    },
    {
      "cell_type": "markdown",
      "source": [
        "## Model 2"
      ],
      "metadata": {
        "id": "iQhdyBg0OJWQ"
      }
    },
    {
      "cell_type": "code",
      "source": [],
      "metadata": {
        "id": "cE-wWumtWEpx"
      },
      "execution_count": null,
      "outputs": []
    },
    {
      "cell_type": "markdown",
      "source": [
        "## Model 3"
      ],
      "metadata": {
        "id": "83ryNh6qVVPm"
      }
    },
    {
      "cell_type": "code",
      "source": [],
      "metadata": {
        "id": "_7indJ37kx6e"
      },
      "execution_count": null,
      "outputs": []
    },
    {
      "cell_type": "markdown",
      "source": [
        "## Model 4"
      ],
      "metadata": {
        "id": "dPAuEVDzX0qL"
      }
    },
    {
      "cell_type": "code",
      "source": [],
      "metadata": {
        "id": "yNFE5bmpk2xo"
      },
      "execution_count": null,
      "outputs": []
    },
    {
      "cell_type": "markdown",
      "source": [
        "## Model 5"
      ],
      "metadata": {
        "id": "W2dZjgH0Yxok"
      }
    },
    {
      "cell_type": "code",
      "source": [],
      "metadata": {
        "id": "9RlRQJOuYxop"
      },
      "execution_count": null,
      "outputs": []
    },
    {
      "cell_type": "markdown",
      "source": [
        "## Model 6"
      ],
      "metadata": {
        "id": "H-wDd0RIZQyI"
      }
    },
    {
      "cell_type": "code",
      "source": [],
      "metadata": {
        "id": "SV3-H6ckZQyK"
      },
      "execution_count": null,
      "outputs": []
    },
    {
      "cell_type": "markdown",
      "source": [
        "# **Model Performance Comparison and Final Model Selection**"
      ],
      "metadata": {
        "id": "3O07XgkzY_ot"
      }
    },
    {
      "cell_type": "markdown",
      "source": [
        "Now, in order to select the final model, we will compare the performances of all the models for the training and validation sets."
      ],
      "metadata": {
        "id": "mVYagrg9ZQyK"
      }
    },
    {
      "cell_type": "code",
      "source": [],
      "metadata": {
        "id": "J4ZzDS8Cqe_b"
      },
      "execution_count": null,
      "outputs": []
    },
    {
      "cell_type": "markdown",
      "source": [
        "Now, let's check the performance of the final model on the test set."
      ],
      "metadata": {
        "id": "oA7JiQXgqy4b"
      }
    },
    {
      "cell_type": "code",
      "source": [],
      "metadata": {
        "id": "AEcVdcG7q7xv"
      },
      "execution_count": null,
      "outputs": []
    },
    {
      "cell_type": "markdown",
      "metadata": {
        "id": "JdME3J172AN-"
      },
      "source": [
        "# **Actionable Insights and Recommendations**"
      ]
    },
    {
      "cell_type": "markdown",
      "source": [
        "Write down some insights and business recommendations based on your observations."
      ],
      "metadata": {
        "id": "qGX3aALmlWOm"
      }
    }
  ],
  "metadata": {
    "colab": {
      "collapsed_sections": [
        "9EaJ8AGwpM-2",
        "x3-QehJxbp0t",
        "4p9zp6bHfPOY",
        "XPeJAS5bfUOj",
        "v_-uuGqH-qTt",
        "xxhpZv9y-qTw",
        "4cVx5kZHbp02",
        "DhPuzWO7hmV8",
        "Lv7Bs8aUbp07",
        "lRrYccqLJKXi",
        "Bp8vC9MZbp09",
        "OzOa9FGA6WtG",
        "czwxDIZNccQL",
        "4fI98GOV0pTY",
        "2tlVEbIWKb6T",
        "grQ6pRK1WZtr",
        "iQhdyBg0OJWQ",
        "83ryNh6qVVPm",
        "dPAuEVDzX0qL",
        "W2dZjgH0Yxok",
        "H-wDd0RIZQyI",
        "3O07XgkzY_ot",
        "JdME3J172AN-"
      ],
      "provenance": [],
      "include_colab_link": true
    },
    "kernelspec": {
      "display_name": "Python 3",
      "name": "python3"
    },
    "language_info": {
      "codemirror_mode": {
        "name": "ipython",
        "version": 3
      },
      "file_extension": ".py",
      "mimetype": "text/x-python",
      "name": "python",
      "nbconvert_exporter": "python",
      "pygments_lexer": "ipython3",
      "version": "3.11.3"
    }
  },
  "nbformat": 4,
  "nbformat_minor": 0
}