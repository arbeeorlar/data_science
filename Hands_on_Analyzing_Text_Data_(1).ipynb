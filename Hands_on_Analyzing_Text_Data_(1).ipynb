{
  "cells": [
    {
      "cell_type": "markdown",
      "metadata": {
        "id": "view-in-github",
        "colab_type": "text"
      },
      "source": [
        "<a href=\"https://colab.research.google.com/github/arbeeorlar/data_science/blob/main/Hands_on_Analyzing_Text_Data_(1).ipynb\" target=\"_parent\"><img src=\"https://colab.research.google.com/assets/colab-badge.svg\" alt=\"Open In Colab\"/></a>"
      ]
    },
    {
      "cell_type": "markdown",
      "metadata": {
        "id": "e4-U8LXm5bSw"
      },
      "source": [
        "<center><font size=8>Hands-on - Analyzing Text Data</font></center>"
      ]
    },
    {
      "cell_type": "markdown",
      "metadata": {
        "id": "lKDOBv45zw8C"
      },
      "source": [
        "# **Problem Statement**"
      ]
    },
    {
      "cell_type": "markdown",
      "source": [
        "## **Business Context**"
      ],
      "metadata": {
        "id": "wVldHvLCgnr9"
      }
    },
    {
      "cell_type": "markdown",
      "source": [
        "In the rapidly evolving landscape of the entertainment industry, understanding audience feedback through movie reviews is essential for refining content and shaping marketing strategies. However, the sheer volume of reviews presents challenges in efficiently processing and analyzing this information. To remain competitive, entertainment companies must find effective ways to clean and structure this data, enabling them to derive valuable insights for enhancing viewer experiences and making informed decisions."
      ],
      "metadata": {
        "id": "KrZVjBusgvTZ"
      }
    },
    {
      "cell_type": "markdown",
      "source": [
        "## **Objective**"
      ],
      "metadata": {
        "id": "0Wiey7tkgz8P"
      }
    },
    {
      "cell_type": "markdown",
      "source": [
        "As a data scientist, your objective is to develop an efficient text preprocessing pipeline that will clean and structure a dataset of movie reviews. This preprocessing step will ensure that the data is standardized and ready for further analysis, ultimately supporting the identification of trends and insights that can drive content and marketing strategies in the entertainment industry."
      ],
      "metadata": {
        "id": "8Ai9vLkogz8Q"
      }
    },
    {
      "cell_type": "markdown",
      "source": [
        "## **Data Dictionary**"
      ],
      "metadata": {
        "id": "xptjKJz-_sYZ"
      }
    },
    {
      "cell_type": "markdown",
      "source": [
        "- **review**: review of a movie"
      ],
      "metadata": {
        "id": "hSO0l35H_veP"
      }
    },
    {
      "cell_type": "markdown",
      "metadata": {
        "id": "6DrTOBrYBiCR"
      },
      "source": [
        "# **Importing Necessary Libraries**"
      ]
    },
    {
      "cell_type": "code",
      "source": [
        "!pip install nltk==3.8.1 scikit-learn==1.5.2 -q"
      ],
      "metadata": {
        "id": "79D1rXhBAxCs"
      },
      "execution_count": null,
      "outputs": []
    },
    {
      "cell_type": "code",
      "execution_count": null,
      "metadata": {
        "id": "xhZUQ78gzw8H"
      },
      "outputs": [],
      "source": [
        "# to read and manipulate the data\n",
        "import pandas as pd\n",
        "import numpy as np\n",
        "\n",
        "# setting column to the maximum column width as per the data\n",
        "pd.set_option('max_colwidth', None)"
      ]
    },
    {
      "cell_type": "markdown",
      "metadata": {
        "id": "0GsZAWm0BiCQ"
      },
      "source": [
        "# **Importing the dataset**"
      ]
    },
    {
      "cell_type": "code",
      "source": [
        "from google.colab import drive\n",
        "drive.mount('/content/drive')"
      ],
      "metadata": {
        "id": "ZsapN3Mp6XZ8",
        "colab": {
          "base_uri": "https://localhost:8080/"
        },
        "outputId": "c0518040-1ac1-4784-e2d5-66f427cd0759"
      },
      "execution_count": null,
      "outputs": [
        {
          "output_type": "stream",
          "name": "stdout",
          "text": [
            "Drive already mounted at /content/drive; to attempt to forcibly remount, call drive.mount(\"/content/drive\", force_remount=True).\n"
          ]
        }
      ]
    },
    {
      "cell_type": "code",
      "execution_count": null,
      "metadata": {
        "id": "CThCS4NJzw8S"
      },
      "outputs": [],
      "source": [
        "# loading data into a pandas dataframe\n",
        "reviews = pd.read_csv(\"/content/sample_data/movie_reviews.csv\")"
      ]
    },
    {
      "cell_type": "code",
      "execution_count": null,
      "metadata": {
        "id": "qEvz0b9gzw8U"
      },
      "outputs": [],
      "source": [
        "# creating a copy of the data\n",
        "data = reviews.copy()"
      ]
    },
    {
      "cell_type": "markdown",
      "metadata": {
        "id": "ckwD7uwlsZwm"
      },
      "source": [
        "# **Data Overview**"
      ]
    },
    {
      "cell_type": "markdown",
      "source": [
        "## **Checking the first 5 rows**"
      ],
      "metadata": {
        "id": "mhzSVF82YYri"
      }
    },
    {
      "cell_type": "code",
      "execution_count": null,
      "metadata": {
        "id": "bj4-QHJ6BiCS",
        "outputId": "f22bd81c-5a71-4db3-ce06-eadc6f03cf29",
        "colab": {
          "base_uri": "https://localhost:8080/",
          "height": 848
        }
      },
      "outputs": [
        {
          "output_type": "execute_result",
          "data": {
            "text/plain": [
              "                                                                                                                                                                                                                                                                                                                                                                                                                                                                                                                                                                                                                                                                                                                                                                                                                                                                                                                                                                                                                                                                                                                                                                                                                                                                                                                                                                                                                                                                                                                                                                                                                                                                                                                                                                                                                                                                                         review\n",
              "0                                                                                                                                                                                                                                                                                                                                                                                                                                                                                                                                                                                                                                                                                                                                                                                                                                                                                                                                                                                                                                                                          Okay, I know this does'nt project India in a good light. But the overall theme of the movie is not India, it's Shakti. The power of a warlord, and the power of a mother. The relationship between Nandini and her husband and son swallow you up in their warmth. Then things go terribly wrong. The interaction between Nandini and her father in law - the power of their dysfunctional relationship - and the lives changed by it are the strengths of this movie. Shah Rukh Khan's performance seems to be a mere cameo compared to the believable desperation of Karisma Kapoor. It is easy to get caught up in the love, violence and redemption of lives in this film, and find yourself heaving a sigh of relief and sadness at the climax. The musical interludes are strengths, believable and well done.\n",
              "1  Despite John Travolta's statements in interviews that this was his favorite role of his career, \"Be Cool\" proves to be a disappointing sequel to 1995's witty and clever \"Get Shorty.\"<br /><br />Travolta delivers a pleasant enough performance in this mildly entertaining film, but ultimately the movie falls flat due to an underdeveloped plot, unlikeable characters, and a surprising lack of chemistry between leads Travolta and Uma Thurman. Although there are some laughs, this unfunny dialog example (which appeared frequently in the trailers) kind of says it all: Thurman: Do you dance? Travolta: Hey, I'm from Brooklyn.<br /><br />The film suggests that everyone in the entertainment business is a gangster or aspires to be one, likening it to organized crime. In \"Get Shorty,\" the premise of a gangster \"going legitimate\" by getting into movies was a clever fish-out-of water idea, but in \"Be Cool,\" it seems the biz has entirely gone crooked since then.<br /><br />The film is interestingly casted and the absolute highlight is a \"monolgue\" delivered by The Rock, whose character is an aspiring actor as well as a goon, where he reenacts a scene between Gabrielle Union and Kirsten Dunst from \"Bring It On.\" Vince Vaughan's character thinks he's black and he's often seen dressed as a pimp-- this was quite funny in the first scene that introduces him and gets tired and embarrassing almost immediately afterward.<br /><br />Overall, \"Be Cool\" may be worth a rental for John Travolta die-hards (of which I am one), but you may want to keep your finger close to the fast forward button to get through it without feeling that you wasted too much time. Fans of \"Get Shorty\" may actually wish to avoid this, as the sequel is devoid of most things that made that one a winner. I rate this movie an admittedly harsh 4/10.\n",
              "2                                                                                                                                                                                                                                                                                                                                                                                                                                                                                                                                                                                                                                                                                 I am a kung fu fan, but not a Woo fan. I have no interest in gangster movies filled with over-the-top gun-play. Now, martial arts; *that's* beautiful! And John Woo surprised me here by producing a highly entertaining kung fu movie, which almost has *too much* fighting, if such a thing is possible! This is good stuff.<br /><br />Many of the fight scenes are very good (and some of them are less good), and the main characters are amusing and likable. The bad guys are a bit too unbelievably evil, but entertaining none the less. You gotta see the Sleeping Wizard!! He can only fight when he's asleep - it's hysterical!<br /><br />Upon repeated viewings, however, Last Hurrah For Chivalry can tend to get a little boring and long-winded, also especially because many of the fight scenes are actually not that good. Hence, I rate it \"only\" a 7 out of 10. But it really is almost an \"8\".<br /><br />All in all one of the better kung fu movies, made smack-dab in the heart of kung fu cinema's prime. All the really good kung fu movies are from the mid- to late 1970ies, with some notable exceptions from the late '60ies and early '70ies (and early '80ies, to be fair).\n",
              "3                                                                                                                                                                                                                                                                                                                                                                                                                                                                                                                                                                                                                                                                                                                                                                                                                                                                                                                                                                                                                                                                                                                                             He seems to be a control freak. I have heard him comment on \"losing control of the show\" and tell another guest who brought live animals that he had one rule-\"no snakes.\" He needs to hire a comedy writer because his jokes are lame. The only reason I watch him is because he some some great guests and bands. <br /><br />I watched the Craig Ferguson show for a while but his show is even worse. He likes to bull sh** to burn time.I don't think either man has much of a future in late night talk shows.<br /><br />Daily also has the annoying habit of sticking his tongue out to lick his lips. He must do this at least 10 times a show. I do like the Joe Firstman band. Carson Daily needs to lighten up before it is too late.\n",
              "4                                                                                                                                                                                                                                                                                                                                                                                                                                                                           Admittedly, there are some scenes in this movie that seem a little unrealistic. The ravishing woman first panics and then, only a few minutes later, she starts kissing the young lad while the old guy is right next to her. But as the film goes along we learn that she is a little volatile girl (or slut) and that partly explains her behavior. The cinematography of this movie is well done. We get to see the elevator from almost every angle and perspective, and some of those images and scenes really raise the tension. Götz George plays his character well, a wannabe hot-shot getting old and being overpowered by young men like the Jaennicke character. Wolfgang Kieling who I admired in Hitchcock's THE TORN CURTAIN delivers a great performance that, although he doesn't say much, he is by far the best actor in this play. One critic complained about how unrealistic the film was and that in a real case of emergency nothing would really happen. But then again, how realistic are films such as Mission impossible or Phone Booth. Given the fact that we are talking about a movie here, and that in a movie you always have to deal with some scenes that aren't very likely to occur in real life, you can still enjoy this movie. It's a lot better than many things that I see on German TV these days and I think that the vintage 80's style added something to this film."
            ],
            "text/html": [
              "\n",
              "  <div id=\"df-16cffd7c-7453-4bf0-bd5b-d9e07bdd14ae\" class=\"colab-df-container\">\n",
              "    <div>\n",
              "<style scoped>\n",
              "    .dataframe tbody tr th:only-of-type {\n",
              "        vertical-align: middle;\n",
              "    }\n",
              "\n",
              "    .dataframe tbody tr th {\n",
              "        vertical-align: top;\n",
              "    }\n",
              "\n",
              "    .dataframe thead th {\n",
              "        text-align: right;\n",
              "    }\n",
              "</style>\n",
              "<table border=\"1\" class=\"dataframe\">\n",
              "  <thead>\n",
              "    <tr style=\"text-align: right;\">\n",
              "      <th></th>\n",
              "      <th>review</th>\n",
              "    </tr>\n",
              "  </thead>\n",
              "  <tbody>\n",
              "    <tr>\n",
              "      <th>0</th>\n",
              "      <td>Okay, I know this does'nt project India in a good light. But the overall theme of the movie is not India, it's Shakti. The power of a warlord, and the power of a mother. The relationship between Nandini and her husband and son swallow you up in their warmth. Then things go terribly wrong. The interaction between Nandini and her father in law - the power of their dysfunctional relationship - and the lives changed by it are the strengths of this movie. Shah Rukh Khan's performance seems to be a mere cameo compared to the believable desperation of Karisma Kapoor. It is easy to get caught up in the love, violence and redemption of lives in this film, and find yourself heaving a sigh of relief and sadness at the climax. The musical interludes are strengths, believable and well done.</td>\n",
              "    </tr>\n",
              "    <tr>\n",
              "      <th>1</th>\n",
              "      <td>Despite John Travolta's statements in interviews that this was his favorite role of his career, \"Be Cool\" proves to be a disappointing sequel to 1995's witty and clever \"Get Shorty.\"&lt;br /&gt;&lt;br /&gt;Travolta delivers a pleasant enough performance in this mildly entertaining film, but ultimately the movie falls flat due to an underdeveloped plot, unlikeable characters, and a surprising lack of chemistry between leads Travolta and Uma Thurman. Although there are some laughs, this unfunny dialog example (which appeared frequently in the trailers) kind of says it all: Thurman: Do you dance? Travolta: Hey, I'm from Brooklyn.&lt;br /&gt;&lt;br /&gt;The film suggests that everyone in the entertainment business is a gangster or aspires to be one, likening it to organized crime. In \"Get Shorty,\" the premise of a gangster \"going legitimate\" by getting into movies was a clever fish-out-of water idea, but in \"Be Cool,\" it seems the biz has entirely gone crooked since then.&lt;br /&gt;&lt;br /&gt;The film is interestingly casted and the absolute highlight is a \"monolgue\" delivered by The Rock, whose character is an aspiring actor as well as a goon, where he reenacts a scene between Gabrielle Union and Kirsten Dunst from \"Bring It On.\" Vince Vaughan's character thinks he's black and he's often seen dressed as a pimp-- this was quite funny in the first scene that introduces him and gets tired and embarrassing almost immediately afterward.&lt;br /&gt;&lt;br /&gt;Overall, \"Be Cool\" may be worth a rental for John Travolta die-hards (of which I am one), but you may want to keep your finger close to the fast forward button to get through it without feeling that you wasted too much time. Fans of \"Get Shorty\" may actually wish to avoid this, as the sequel is devoid of most things that made that one a winner. I rate this movie an admittedly harsh 4/10.</td>\n",
              "    </tr>\n",
              "    <tr>\n",
              "      <th>2</th>\n",
              "      <td>I am a kung fu fan, but not a Woo fan. I have no interest in gangster movies filled with over-the-top gun-play. Now, martial arts; *that's* beautiful! And John Woo surprised me here by producing a highly entertaining kung fu movie, which almost has *too much* fighting, if such a thing is possible! This is good stuff.&lt;br /&gt;&lt;br /&gt;Many of the fight scenes are very good (and some of them are less good), and the main characters are amusing and likable. The bad guys are a bit too unbelievably evil, but entertaining none the less. You gotta see the Sleeping Wizard!! He can only fight when he's asleep - it's hysterical!&lt;br /&gt;&lt;br /&gt;Upon repeated viewings, however, Last Hurrah For Chivalry can tend to get a little boring and long-winded, also especially because many of the fight scenes are actually not that good. Hence, I rate it \"only\" a 7 out of 10. But it really is almost an \"8\".&lt;br /&gt;&lt;br /&gt;All in all one of the better kung fu movies, made smack-dab in the heart of kung fu cinema's prime. All the really good kung fu movies are from the mid- to late 1970ies, with some notable exceptions from the late '60ies and early '70ies (and early '80ies, to be fair).</td>\n",
              "    </tr>\n",
              "    <tr>\n",
              "      <th>3</th>\n",
              "      <td>He seems to be a control freak. I have heard him comment on \"losing control of the show\" and tell another guest who brought live animals that he had one rule-\"no snakes.\" He needs to hire a comedy writer because his jokes are lame. The only reason I watch him is because he some some great guests and bands. &lt;br /&gt;&lt;br /&gt;I watched the Craig Ferguson show for a while but his show is even worse. He likes to bull sh** to burn time.I don't think either man has much of a future in late night talk shows.&lt;br /&gt;&lt;br /&gt;Daily also has the annoying habit of sticking his tongue out to lick his lips. He must do this at least 10 times a show. I do like the Joe Firstman band. Carson Daily needs to lighten up before it is too late.</td>\n",
              "    </tr>\n",
              "    <tr>\n",
              "      <th>4</th>\n",
              "      <td>Admittedly, there are some scenes in this movie that seem a little unrealistic. The ravishing woman first panics and then, only a few minutes later, she starts kissing the young lad while the old guy is right next to her. But as the film goes along we learn that she is a little volatile girl (or slut) and that partly explains her behavior. The cinematography of this movie is well done. We get to see the elevator from almost every angle and perspective, and some of those images and scenes really raise the tension. Götz George plays his character well, a wannabe hot-shot getting old and being overpowered by young men like the Jaennicke character. Wolfgang Kieling who I admired in Hitchcock's THE TORN CURTAIN delivers a great performance that, although he doesn't say much, he is by far the best actor in this play. One critic complained about how unrealistic the film was and that in a real case of emergency nothing would really happen. But then again, how realistic are films such as Mission impossible or Phone Booth. Given the fact that we are talking about a movie here, and that in a movie you always have to deal with some scenes that aren't very likely to occur in real life, you can still enjoy this movie. It's a lot better than many things that I see on German TV these days and I think that the vintage 80's style added something to this film.</td>\n",
              "    </tr>\n",
              "  </tbody>\n",
              "</table>\n",
              "</div>\n",
              "    <div class=\"colab-df-buttons\">\n",
              "\n",
              "  <div class=\"colab-df-container\">\n",
              "    <button class=\"colab-df-convert\" onclick=\"convertToInteractive('df-16cffd7c-7453-4bf0-bd5b-d9e07bdd14ae')\"\n",
              "            title=\"Convert this dataframe to an interactive table.\"\n",
              "            style=\"display:none;\">\n",
              "\n",
              "  <svg xmlns=\"http://www.w3.org/2000/svg\" height=\"24px\" viewBox=\"0 -960 960 960\">\n",
              "    <path d=\"M120-120v-720h720v720H120Zm60-500h600v-160H180v160Zm220 220h160v-160H400v160Zm0 220h160v-160H400v160ZM180-400h160v-160H180v160Zm440 0h160v-160H620v160ZM180-180h160v-160H180v160Zm440 0h160v-160H620v160Z\"/>\n",
              "  </svg>\n",
              "    </button>\n",
              "\n",
              "  <style>\n",
              "    .colab-df-container {\n",
              "      display:flex;\n",
              "      gap: 12px;\n",
              "    }\n",
              "\n",
              "    .colab-df-convert {\n",
              "      background-color: #E8F0FE;\n",
              "      border: none;\n",
              "      border-radius: 50%;\n",
              "      cursor: pointer;\n",
              "      display: none;\n",
              "      fill: #1967D2;\n",
              "      height: 32px;\n",
              "      padding: 0 0 0 0;\n",
              "      width: 32px;\n",
              "    }\n",
              "\n",
              "    .colab-df-convert:hover {\n",
              "      background-color: #E2EBFA;\n",
              "      box-shadow: 0px 1px 2px rgba(60, 64, 67, 0.3), 0px 1px 3px 1px rgba(60, 64, 67, 0.15);\n",
              "      fill: #174EA6;\n",
              "    }\n",
              "\n",
              "    .colab-df-buttons div {\n",
              "      margin-bottom: 4px;\n",
              "    }\n",
              "\n",
              "    [theme=dark] .colab-df-convert {\n",
              "      background-color: #3B4455;\n",
              "      fill: #D2E3FC;\n",
              "    }\n",
              "\n",
              "    [theme=dark] .colab-df-convert:hover {\n",
              "      background-color: #434B5C;\n",
              "      box-shadow: 0px 1px 3px 1px rgba(0, 0, 0, 0.15);\n",
              "      filter: drop-shadow(0px 1px 2px rgba(0, 0, 0, 0.3));\n",
              "      fill: #FFFFFF;\n",
              "    }\n",
              "  </style>\n",
              "\n",
              "    <script>\n",
              "      const buttonEl =\n",
              "        document.querySelector('#df-16cffd7c-7453-4bf0-bd5b-d9e07bdd14ae button.colab-df-convert');\n",
              "      buttonEl.style.display =\n",
              "        google.colab.kernel.accessAllowed ? 'block' : 'none';\n",
              "\n",
              "      async function convertToInteractive(key) {\n",
              "        const element = document.querySelector('#df-16cffd7c-7453-4bf0-bd5b-d9e07bdd14ae');\n",
              "        const dataTable =\n",
              "          await google.colab.kernel.invokeFunction('convertToInteractive',\n",
              "                                                    [key], {});\n",
              "        if (!dataTable) return;\n",
              "\n",
              "        const docLinkHtml = 'Like what you see? Visit the ' +\n",
              "          '<a target=\"_blank\" href=https://colab.research.google.com/notebooks/data_table.ipynb>data table notebook</a>'\n",
              "          + ' to learn more about interactive tables.';\n",
              "        element.innerHTML = '';\n",
              "        dataTable['output_type'] = 'display_data';\n",
              "        await google.colab.output.renderOutput(dataTable, element);\n",
              "        const docLink = document.createElement('div');\n",
              "        docLink.innerHTML = docLinkHtml;\n",
              "        element.appendChild(docLink);\n",
              "      }\n",
              "    </script>\n",
              "  </div>\n",
              "\n",
              "\n",
              "<div id=\"df-89be1fa0-48d0-4fb1-8bf6-579a770100f4\">\n",
              "  <button class=\"colab-df-quickchart\" onclick=\"quickchart('df-89be1fa0-48d0-4fb1-8bf6-579a770100f4')\"\n",
              "            title=\"Suggest charts\"\n",
              "            style=\"display:none;\">\n",
              "\n",
              "<svg xmlns=\"http://www.w3.org/2000/svg\" height=\"24px\"viewBox=\"0 0 24 24\"\n",
              "     width=\"24px\">\n",
              "    <g>\n",
              "        <path d=\"M19 3H5c-1.1 0-2 .9-2 2v14c0 1.1.9 2 2 2h14c1.1 0 2-.9 2-2V5c0-1.1-.9-2-2-2zM9 17H7v-7h2v7zm4 0h-2V7h2v10zm4 0h-2v-4h2v4z\"/>\n",
              "    </g>\n",
              "</svg>\n",
              "  </button>\n",
              "\n",
              "<style>\n",
              "  .colab-df-quickchart {\n",
              "      --bg-color: #E8F0FE;\n",
              "      --fill-color: #1967D2;\n",
              "      --hover-bg-color: #E2EBFA;\n",
              "      --hover-fill-color: #174EA6;\n",
              "      --disabled-fill-color: #AAA;\n",
              "      --disabled-bg-color: #DDD;\n",
              "  }\n",
              "\n",
              "  [theme=dark] .colab-df-quickchart {\n",
              "      --bg-color: #3B4455;\n",
              "      --fill-color: #D2E3FC;\n",
              "      --hover-bg-color: #434B5C;\n",
              "      --hover-fill-color: #FFFFFF;\n",
              "      --disabled-bg-color: #3B4455;\n",
              "      --disabled-fill-color: #666;\n",
              "  }\n",
              "\n",
              "  .colab-df-quickchart {\n",
              "    background-color: var(--bg-color);\n",
              "    border: none;\n",
              "    border-radius: 50%;\n",
              "    cursor: pointer;\n",
              "    display: none;\n",
              "    fill: var(--fill-color);\n",
              "    height: 32px;\n",
              "    padding: 0;\n",
              "    width: 32px;\n",
              "  }\n",
              "\n",
              "  .colab-df-quickchart:hover {\n",
              "    background-color: var(--hover-bg-color);\n",
              "    box-shadow: 0 1px 2px rgba(60, 64, 67, 0.3), 0 1px 3px 1px rgba(60, 64, 67, 0.15);\n",
              "    fill: var(--button-hover-fill-color);\n",
              "  }\n",
              "\n",
              "  .colab-df-quickchart-complete:disabled,\n",
              "  .colab-df-quickchart-complete:disabled:hover {\n",
              "    background-color: var(--disabled-bg-color);\n",
              "    fill: var(--disabled-fill-color);\n",
              "    box-shadow: none;\n",
              "  }\n",
              "\n",
              "  .colab-df-spinner {\n",
              "    border: 2px solid var(--fill-color);\n",
              "    border-color: transparent;\n",
              "    border-bottom-color: var(--fill-color);\n",
              "    animation:\n",
              "      spin 1s steps(1) infinite;\n",
              "  }\n",
              "\n",
              "  @keyframes spin {\n",
              "    0% {\n",
              "      border-color: transparent;\n",
              "      border-bottom-color: var(--fill-color);\n",
              "      border-left-color: var(--fill-color);\n",
              "    }\n",
              "    20% {\n",
              "      border-color: transparent;\n",
              "      border-left-color: var(--fill-color);\n",
              "      border-top-color: var(--fill-color);\n",
              "    }\n",
              "    30% {\n",
              "      border-color: transparent;\n",
              "      border-left-color: var(--fill-color);\n",
              "      border-top-color: var(--fill-color);\n",
              "      border-right-color: var(--fill-color);\n",
              "    }\n",
              "    40% {\n",
              "      border-color: transparent;\n",
              "      border-right-color: var(--fill-color);\n",
              "      border-top-color: var(--fill-color);\n",
              "    }\n",
              "    60% {\n",
              "      border-color: transparent;\n",
              "      border-right-color: var(--fill-color);\n",
              "    }\n",
              "    80% {\n",
              "      border-color: transparent;\n",
              "      border-right-color: var(--fill-color);\n",
              "      border-bottom-color: var(--fill-color);\n",
              "    }\n",
              "    90% {\n",
              "      border-color: transparent;\n",
              "      border-bottom-color: var(--fill-color);\n",
              "    }\n",
              "  }\n",
              "</style>\n",
              "\n",
              "  <script>\n",
              "    async function quickchart(key) {\n",
              "      const quickchartButtonEl =\n",
              "        document.querySelector('#' + key + ' button');\n",
              "      quickchartButtonEl.disabled = true;  // To prevent multiple clicks.\n",
              "      quickchartButtonEl.classList.add('colab-df-spinner');\n",
              "      try {\n",
              "        const charts = await google.colab.kernel.invokeFunction(\n",
              "            'suggestCharts', [key], {});\n",
              "      } catch (error) {\n",
              "        console.error('Error during call to suggestCharts:', error);\n",
              "      }\n",
              "      quickchartButtonEl.classList.remove('colab-df-spinner');\n",
              "      quickchartButtonEl.classList.add('colab-df-quickchart-complete');\n",
              "    }\n",
              "    (() => {\n",
              "      let quickchartButtonEl =\n",
              "        document.querySelector('#df-89be1fa0-48d0-4fb1-8bf6-579a770100f4 button');\n",
              "      quickchartButtonEl.style.display =\n",
              "        google.colab.kernel.accessAllowed ? 'block' : 'none';\n",
              "    })();\n",
              "  </script>\n",
              "</div>\n",
              "\n",
              "    </div>\n",
              "  </div>\n"
            ],
            "application/vnd.google.colaboratory.intrinsic+json": {
              "type": "dataframe",
              "variable_name": "data",
              "summary": "{\n  \"name\": \"data\",\n  \"rows\": 10000,\n  \"fields\": [\n    {\n      \"column\": \"review\",\n      \"properties\": {\n        \"dtype\": \"string\",\n        \"num_unique_values\": 9982,\n        \"samples\": [\n          \"Foolish hikers go camping in the Utah mountains only to run into a murderous, disfigured gypsy. <br /><br />The Prey is a pretty run of the mill slasher film, that mostly suffers from a lack of imagination. The victim characters are all-too-familiar idiot teens which means one doesn't really care about them, we just wonder when they will die! Not to mention it has one too many cheesy moments and is padded with endless, unnecessary nature footage. However it does have a few moments of interest to slasher fans, the occasional touch of spooky atmosphere, and a decent music score by Don Peake. Still, it's business as usual for dead-camper movies.<br /><br />There are much better films in this vein, but over all The Prey may be watchable enough for die-hard slasher fans. Although one might be more rewarded to watch Just Before Dawn (1981), Wrong Turn (2003), or even The Final Terror (1983) again.<br /><br />* 1/2 out of ****\",\n          \"Leon Errol handles his double role of Uncle Matt Lindsay and Lord Basil Epping superbly, but I have trouble liking the \\\"Mexican Spitfire\\\" Series because they all are contrived to produce mistaken identities, and these are telegraphed way in advance. Errol is funny as the stuffy Lord Epping, but I would have preferred a lot more wit and much less repetition. <br /><br />\",\n          \"The costumes are outrageous and the Australian outback scenery is fun to view, but there is an edge to this story - a mean edge - about drag queens. I particularly noticed that in Terrence Stamp's character, \\\"Ralph Bernadette Bassenger.\\\" Perhaps that was appropriate since there is nothing \\\"good-guy- like\\\" about Ralph-Bernadette and his group of \\\"queens.\\\" <br /><br />Once again, we get the strong Liberal slant which says anything goes and if you're not \\\"with it\\\" - or in this case, pro-homosexual, then you are a homophobe. (Gasp!)<br /><br />What's really disturbing is the ending when a young boy goes off with his \\\"alternative-lifestyle\\\" father and embraces his gay lifestyle, not because it fit the story but because it fit the agenda of the people who wrote the script. Pitiful.\"\n        ],\n        \"semantic_type\": \"\",\n        \"description\": \"\"\n      }\n    }\n  ]\n}"
            }
          },
          "metadata": {},
          "execution_count": 15
        }
      ],
      "source": [
        "data.head(5)"
      ]
    },
    {
      "cell_type": "markdown",
      "source": [
        "## **Checking the shape of the data**"
      ],
      "metadata": {
        "id": "62xkzNTFYmyq"
      }
    },
    {
      "cell_type": "code",
      "execution_count": null,
      "metadata": {
        "id": "Mcb3m-xKzw8V",
        "outputId": "58ced661-8a42-40dd-c713-18fec44f031e",
        "colab": {
          "base_uri": "https://localhost:8080/"
        }
      },
      "outputs": [
        {
          "output_type": "execute_result",
          "data": {
            "text/plain": [
              "(10000, 1)"
            ]
          },
          "metadata": {},
          "execution_count": 16
        }
      ],
      "source": [
        "data.shape"
      ]
    },
    {
      "cell_type": "markdown",
      "source": [
        "* The dataset has 10000 rows and 1 column."
      ],
      "metadata": {
        "id": "IPbc-9HLs2WI"
      }
    },
    {
      "cell_type": "markdown",
      "source": [
        "## **Checking for missing values**"
      ],
      "metadata": {
        "id": "MUGy2CBnZa6g"
      }
    },
    {
      "cell_type": "code",
      "execution_count": null,
      "metadata": {
        "id": "k0XZhWGRBiCV",
        "outputId": "e25af9e4-221e-4dfa-ebde-34155a3a68c2",
        "colab": {
          "base_uri": "https://localhost:8080/",
          "height": 115
        }
      },
      "outputs": [
        {
          "output_type": "execute_result",
          "data": {
            "text/plain": [
              "review    0\n",
              "dtype: int64"
            ],
            "text/html": [
              "<div>\n",
              "<style scoped>\n",
              "    .dataframe tbody tr th:only-of-type {\n",
              "        vertical-align: middle;\n",
              "    }\n",
              "\n",
              "    .dataframe tbody tr th {\n",
              "        vertical-align: top;\n",
              "    }\n",
              "\n",
              "    .dataframe thead th {\n",
              "        text-align: right;\n",
              "    }\n",
              "</style>\n",
              "<table border=\"1\" class=\"dataframe\">\n",
              "  <thead>\n",
              "    <tr style=\"text-align: right;\">\n",
              "      <th></th>\n",
              "      <th>0</th>\n",
              "    </tr>\n",
              "  </thead>\n",
              "  <tbody>\n",
              "    <tr>\n",
              "      <th>review</th>\n",
              "      <td>0</td>\n",
              "    </tr>\n",
              "  </tbody>\n",
              "</table>\n",
              "</div><br><label><b>dtype:</b> int64</label>"
            ]
          },
          "metadata": {},
          "execution_count": 17
        }
      ],
      "source": [
        "data.isnull().sum()"
      ]
    },
    {
      "cell_type": "markdown",
      "metadata": {
        "id": "1i5McJGWBiCV"
      },
      "source": [
        "* There are no missing values in the data"
      ]
    },
    {
      "cell_type": "markdown",
      "source": [
        "## **Checking for duplicate values**"
      ],
      "metadata": {
        "id": "nZdNFg-5Zmiz"
      }
    },
    {
      "cell_type": "code",
      "execution_count": null,
      "metadata": {
        "id": "gn5VDFNoBiCW",
        "outputId": "4ef74f63-e79d-4039-f7bf-6e6321fd3c53",
        "colab": {
          "base_uri": "https://localhost:8080/"
        }
      },
      "outputs": [
        {
          "output_type": "execute_result",
          "data": {
            "text/plain": [
              "0"
            ]
          },
          "metadata": {},
          "execution_count": 22
        }
      ],
      "source": [
        "# checking for duplicate values\n",
        "data.duplicated().sum()"
      ]
    },
    {
      "cell_type": "code",
      "execution_count": null,
      "metadata": {
        "id": "lyuQEKBaBiCW"
      },
      "outputs": [],
      "source": [
        "# keeping only the first occurence of duplicate values and dropping the rest\n",
        "data = data.drop_duplicates(keep = 'first')"
      ]
    },
    {
      "cell_type": "code",
      "execution_count": null,
      "metadata": {
        "id": "bTqafJd_BiCW"
      },
      "outputs": [],
      "source": [
        "# reseting the index of the dataframe\n",
        "data = data.reset_index(drop = True)"
      ]
    },
    {
      "cell_type": "markdown",
      "metadata": {
        "id": "rwMJutR2BiCW"
      },
      "source": [
        "* The duplicate values have been removed."
      ]
    },
    {
      "cell_type": "markdown",
      "source": [
        "# **Text Preprocessing**"
      ],
      "metadata": {
        "id": "N4fvprg6u5fE"
      }
    },
    {
      "cell_type": "markdown",
      "source": [
        "### **Removing special characters from the text**"
      ],
      "metadata": {
        "id": "NJDPhhmvvxJ1"
      }
    },
    {
      "cell_type": "markdown",
      "source": [
        "<h2>Why Remove Special Characters in Text Preprocessing?</h2>\n",
        "\n",
        "- Special characters can introduce unnecessary elements, complicating text analysis.\n",
        "\n",
        "- Clean text is simpler to work with and understand."
      ],
      "metadata": {
        "id": "zi2fXV6b7fVO"
      }
    },
    {
      "cell_type": "markdown",
      "source": [
        "<h2>How to Implement Special Character Removal in Text Preprocessing?</h2>\n",
        "\n",
        "- We can start by manually replacing unwanted characters like @, #, or punctuation marks with spaces.\n",
        "\n",
        "- String functions like `replace()` help with simple replacements across the text."
      ],
      "metadata": {
        "id": "pOdhCu8E8Bij"
      }
    },
    {
      "cell_type": "code",
      "source": [
        "text = \"office.aiml.utaustin@mygreatlearning.com\""
      ],
      "metadata": {
        "id": "0JziXnp3vt_D"
      },
      "execution_count": null,
      "outputs": []
    },
    {
      "cell_type": "code",
      "source": [
        "upd_text1 = text.replace(\"@\", \" \")\n",
        "upd_text1"
      ],
      "metadata": {
        "id": "MTJ2ZX3Bvt7k",
        "colab": {
          "base_uri": "https://localhost:8080/",
          "height": 35
        },
        "outputId": "45b08d45-f2f9-4afe-e971-8769abea1ea4"
      },
      "execution_count": null,
      "outputs": [
        {
          "output_type": "execute_result",
          "data": {
            "text/plain": [
              "'office.aiml.utaustin mygreatlearning.com'"
            ],
            "application/vnd.google.colaboratory.intrinsic+json": {
              "type": "string"
            }
          },
          "metadata": {},
          "execution_count": 28
        }
      ]
    },
    {
      "cell_type": "markdown",
      "source": [
        "- We can observe that the '@' character has been replaced with a whitespace.\n",
        "- Additionally, there are some punctuation marks in the email address. Let's replace those as well."
      ],
      "metadata": {
        "id": "y1JE8KwjwfVT"
      }
    },
    {
      "cell_type": "code",
      "source": [
        "upd_text2 = upd_text1.replace(\".\", \" \")\n",
        "upd_text2"
      ],
      "metadata": {
        "id": "Rb2OIGakwRvO",
        "colab": {
          "base_uri": "https://localhost:8080/",
          "height": 35
        },
        "outputId": "815fb44b-4edc-486f-821a-254ddba36f5c"
      },
      "execution_count": null,
      "outputs": [
        {
          "output_type": "execute_result",
          "data": {
            "text/plain": [
              "'office aiml utaustin mygreatlearning com'"
            ],
            "application/vnd.google.colaboratory.intrinsic+json": {
              "type": "string"
            }
          },
          "metadata": {},
          "execution_count": 29
        }
      ]
    },
    {
      "cell_type": "markdown",
      "source": [
        "- The punctuation marks ('.') are also replaced.\n"
      ],
      "metadata": {
        "id": "YkQHhY3dwcfU"
      }
    },
    {
      "cell_type": "markdown",
      "source": [
        "- However, as text become larger and contain various patterns of special characters, manually handling them becomes tedious.\n",
        "\n",
        "- In such cases, we need more flexible methods to efficiently identify and remove multiple patterns at once - this is where advanced tools like regular expressions come in handy."
      ],
      "metadata": {
        "id": "aSSK3ZoyvuhI"
      }
    },
    {
      "cell_type": "markdown",
      "source": [
        "<h2>Regular Expressions</h2>\n",
        "\n",
        "- Regular expression, also called regex in short, is a sequence of symbols and characters expressing a string or pattern to be searched for within a longer piece of text.\n",
        "\n",
        "- They enable complex text processing tasks, such as finding, replacing, or removing patterns, making data cleaning more efficient.\n",
        "\n",
        "- Example:\n",
        "    - **Pattern:** `a`\n",
        "    - **Description:** This regex pattern matches the letter \"a\" in any text.\n",
        "    - **Usage:** In the text \"apple pie\", the pattern `a` will match the occurrence of \"a,\" allowing for identification or manipulation of that letter.  "
      ],
      "metadata": {
        "id": "OT_43nnO9KgX"
      }
    },
    {
      "cell_type": "markdown",
      "source": [
        "- Regular expressions are implemented in Python using the `re` library.\n",
        "\n",
        "- It is imported using the statement `import re`"
      ],
      "metadata": {
        "id": "-nMFZrmAxQFU"
      }
    },
    {
      "cell_type": "code",
      "source": [
        "import re"
      ],
      "metadata": {
        "id": "ta_ayGHjx_ZS"
      },
      "execution_count": null,
      "outputs": []
    },
    {
      "cell_type": "markdown",
      "source": [
        "- Suppose you have a string, and you are interested in adding a character between each of its characters."
      ],
      "metadata": {
        "id": "hpDIfg6hWJzm"
      }
    },
    {
      "cell_type": "code",
      "source": [
        "string = \"Regular expressions\""
      ],
      "metadata": {
        "id": "RTdBFsfFWJzo"
      },
      "execution_count": null,
      "outputs": []
    },
    {
      "cell_type": "markdown",
      "source": [
        "- This is where the join method comes to rescue.\n",
        "\n",
        "  - The `join()` method takes all characters in a string and joins them into one string with a sepataror.\n",
        "\n",
        "  - A string must be specified as the separator.\n",
        "\n",
        "  - **Syntax :** string.join(list)"
      ],
      "metadata": {
        "id": "WLCuHg3WWJzo"
      }
    },
    {
      "cell_type": "code",
      "source": [
        "'space'.join(string)"
      ],
      "metadata": {
        "id": "18e0SPMYEcFd",
        "colab": {
          "base_uri": "https://localhost:8080/",
          "height": 35
        },
        "outputId": "86b2c53b-4012-4ce2-a680-5cf0e1212bf4"
      },
      "execution_count": null,
      "outputs": [
        {
          "output_type": "execute_result",
          "data": {
            "text/plain": [
              "'Rspaceespacegspaceuspacelspaceaspacerspace spaceespacexspacepspacerspaceespacesspacesspaceispaceospacenspaces'"
            ],
            "application/vnd.google.colaboratory.intrinsic+json": {
              "type": "string"
            }
          },
          "metadata": {},
          "execution_count": 33
        }
      ]
    },
    {
      "cell_type": "markdown",
      "source": [
        "- As we can observe, the string 'space' has been added between each character in the `string`"
      ],
      "metadata": {
        "id": "1RdxSGBdWJzq"
      }
    },
    {
      "cell_type": "code",
      "source": [
        "' '.join(string)"
      ],
      "metadata": {
        "colab": {
          "base_uri": "https://localhost:8080/",
          "height": 35
        },
        "outputId": "0600f408-c61b-4feb-9f6c-bd6636aee3df",
        "id": "qNfZNA0dWJzr"
      },
      "execution_count": null,
      "outputs": [
        {
          "output_type": "execute_result",
          "data": {
            "text/plain": [
              "'R e g u l a r   e x p r e s s i o n s'"
            ],
            "application/vnd.google.colaboratory.intrinsic+json": {
              "type": "string"
            }
          },
          "metadata": {},
          "execution_count": 34
        }
      ]
    },
    {
      "cell_type": "markdown",
      "source": [
        "- As we can observe, a whitespace has been added between each character in the `string`."
      ],
      "metadata": {
        "id": "VldKvFlyWJzs"
      }
    },
    {
      "cell_type": "markdown",
      "source": [
        "<h2>1. Pattern: [a-z]</h2>\n",
        "<p><strong>Use Case:</strong> Extracting lowercase letters from usernames.</p>\n",
        "<p><strong>Description:</strong> This pattern matches any single lowercase letter from 'a' to 'z'. It can be used to ensure usernames contain only lowercase letters.</p>\n",
        "<pre>\n",
        "pattern = r'[a-z]'\n",
        "# Finding the specified pattern and replacing lowercase characters with a blank string\n",
        "new_text = ''.join(re.sub(pattern, ' ', text))\n",
        "</pre>\n"
      ],
      "metadata": {
        "id": "te9QFde5ARpH"
      }
    },
    {
      "cell_type": "markdown",
      "source": [
        "- The `r` prefix creates a raw string, preventing Python from interpreting backslashes as escape characters, which is essential when working with regular expressions that often use backslashes."
      ],
      "metadata": {
        "id": "83bnDwkPjIXA"
      }
    },
    {
      "cell_type": "markdown",
      "source": [
        "- [] define a character set, which matches any one character from a specified set of characters inside the brackets.\n",
        "\n",
        "- For example, [abc] will match either a, b, or c in the input text.\n",
        "\n",
        "- If you put a hyphen between characters like [a-z], it matches any character in that range, so [a-z] matches any lowercase letter from a to z."
      ],
      "metadata": {
        "id": "HuaQfFEd_Win"
      }
    },
    {
      "cell_type": "markdown",
      "source": [
        "- The `re` library in Python includes many built-in functions, one of which is `re.sub`, used for substituting occurrences of a specified regex pattern in a string."
      ],
      "metadata": {
        "id": "7FVlN1PK_YEw"
      }
    },
    {
      "cell_type": "markdown",
      "source": [
        "**```re.sub(pattern, replacement, string)```**\n",
        "\n",
        "This function is used to replace occurrences of a pattern in a string.\n",
        "\n",
        "- **`pattern`:** The regular expression that defines the sequence of characters you want to search for in the string.\n",
        "\n",
        "- **`replacement`:** The string that will replace each occurrence of the pattern found in the original string.\n",
        "\n",
        "- **`string`:** The input string where the search and replacement will occur"
      ],
      "metadata": {
        "id": "5bDHSB00B9W9"
      }
    },
    {
      "cell_type": "code",
      "source": [
        "pattern = r'[a-z]'\n",
        "replacement = ' '\n",
        "string = 'Python Modules'\n",
        "\n",
        "output = re.sub(pattern,replacement,string)\n",
        "\n",
        "output"
      ],
      "metadata": {
        "colab": {
          "base_uri": "https://localhost:8080/",
          "height": 35
        },
        "id": "ktFHd3ACAE5M",
        "outputId": "30d0f29a-817b-4a85-8bb4-2b6ea0548933"
      },
      "execution_count": null,
      "outputs": [
        {
          "output_type": "execute_result",
          "data": {
            "text/plain": [
              "'P      M      '"
            ],
            "application/vnd.google.colaboratory.intrinsic+json": {
              "type": "string"
            }
          },
          "metadata": {},
          "execution_count": 35
        }
      ]
    },
    {
      "cell_type": "markdown",
      "source": [
        "- As expected, the characters [a-z] in the string are replaced with a whitespace."
      ],
      "metadata": {
        "id": "JjdQZugmAXkG"
      }
    },
    {
      "cell_type": "markdown",
      "source": [
        "- Let's check a simple example of how the above pattern can be used."
      ],
      "metadata": {
        "id": "FkBy3g3Kya9_"
      }
    },
    {
      "cell_type": "code",
      "source": [
        "string = \"Artificial Intelligence and Machine Learning\"\n",
        "pattern = r'[a-z]'\n",
        "\n",
        "cleaned_string = ''.join(re.sub(pattern,' ',string))\n",
        "\n",
        "print(string)\n",
        "print(cleaned_string)"
      ],
      "metadata": {
        "colab": {
          "base_uri": "https://localhost:8080/"
        },
        "id": "-wwqc_VWiEqm",
        "outputId": "95873d73-38a3-41fc-f1df-e0f23963a593"
      },
      "execution_count": null,
      "outputs": [
        {
          "output_type": "stream",
          "name": "stdout",
          "text": [
            "Artificial Intelligence and Machine Learning\n",
            "A          I                M       L       \n"
          ]
        }
      ]
    },
    {
      "cell_type": "markdown",
      "source": [
        "- As we can observe, the lower case characters in the string contained in the variable `string` have been replaced with a whitespace (and not a blank).\n",
        "\n",
        "- Let's verify the same."
      ],
      "metadata": {
        "id": "SnTjPvYXyhNG"
      }
    },
    {
      "cell_type": "code",
      "source": [
        "print(len(string))\n",
        "print(len(cleaned_string))"
      ],
      "metadata": {
        "id": "h2Dimo_mz2Ub",
        "colab": {
          "base_uri": "https://localhost:8080/"
        },
        "outputId": "e8e01fae-bc4a-4870-f37e-fae8c8fd43b0"
      },
      "execution_count": null,
      "outputs": [
        {
          "output_type": "stream",
          "name": "stdout",
          "text": [
            "44\n",
            "44\n"
          ]
        }
      ]
    },
    {
      "cell_type": "markdown",
      "source": [
        "- Since the lower case characters are replaced with a whitespace and whitespace is also a character, the length of the `cleaned_string` remains unchanged"
      ],
      "metadata": {
        "id": "u-s0cfUU0H7z"
      }
    },
    {
      "cell_type": "markdown",
      "source": [
        "- We can also replace the lower case characters in the string with a blank, i.e., remove those characters."
      ],
      "metadata": {
        "id": "zTtq5yKwz6LA"
      }
    },
    {
      "cell_type": "code",
      "source": [
        "string = \"Artificial Intelligence and Machine Learning\"\n",
        "pattern = r'[a-z]'\n",
        "\n",
        "cleaned_string = ''.join(re.sub(pattern,'',string))\n",
        "\n",
        "print(string)\n",
        "print(cleaned_string)"
      ],
      "metadata": {
        "id": "xACvRxuuzOYn",
        "colab": {
          "base_uri": "https://localhost:8080/"
        },
        "outputId": "15cb9b3c-11c4-46c1-f13b-df7ea69fac7b"
      },
      "execution_count": null,
      "outputs": [
        {
          "output_type": "stream",
          "name": "stdout",
          "text": [
            "Artificial Intelligence and Machine Learning\n",
            "A I  M L\n"
          ]
        }
      ]
    },
    {
      "cell_type": "code",
      "source": [
        "print(len(string))\n",
        "print(len(cleaned_string))"
      ],
      "metadata": {
        "id": "Rth7uXKj0LEi",
        "colab": {
          "base_uri": "https://localhost:8080/"
        },
        "outputId": "1a533aa9-7d1b-4475-f9fa-74ea334c6125"
      },
      "execution_count": null,
      "outputs": [
        {
          "output_type": "stream",
          "name": "stdout",
          "text": [
            "44\n",
            "8\n"
          ]
        }
      ]
    },
    {
      "cell_type": "markdown",
      "source": [
        "- Since the lowercase characters are replaced with a blank space, and a blank space is a character of zero length, the length of the `cleaned_string` changed and was reduced"
      ],
      "metadata": {
        "id": "q_KlZx3C0MXv"
      }
    },
    {
      "cell_type": "markdown",
      "source": [
        "- Now, let's try to use this pattern to manipulate one of the reviews in the data."
      ],
      "metadata": {
        "id": "kgWOPZqIyl9N"
      }
    },
    {
      "cell_type": "code",
      "source": [
        "review = data['review'][0]\n",
        "pattern = r'[a-z]'\n",
        "\n",
        "cleaned_review = ''.join(re.sub(pattern,' ',review))\n",
        "\n",
        "print(review)\n",
        "print(cleaned_review)"
      ],
      "metadata": {
        "colab": {
          "base_uri": "https://localhost:8080/"
        },
        "id": "Xq8Obkqkib9X",
        "outputId": "4bd35f8b-7cc1-4fb4-e249-3f836503772b"
      },
      "execution_count": null,
      "outputs": [
        {
          "output_type": "stream",
          "name": "stdout",
          "text": [
            "Okay, I know this does'nt project India in a good light. But the overall theme of the movie is not India, it's Shakti. The power of a warlord, and the power of a mother. The relationship between Nandini and her husband and son swallow you up in their warmth. Then things go terribly wrong. The interaction between Nandini and her father in law - the power of their dysfunctional relationship - and the lives changed by it are the strengths of this movie. Shah Rukh Khan's performance seems to be a mere cameo compared to the believable desperation of Karisma Kapoor. It is easy to get caught up in the love, violence and redemption of lives in this film, and find yourself heaving a sigh of relief and sadness at the climax. The musical interludes are strengths, believable and well done.\n",
            "O   , I               '           I                    . B                                         I    ,   '  S     . T                     ,                          . T                        N                                                             . T                            . T                       N                             -                                               -                                                            . S    R    K   '                                                                                 K       K     . I                                      ,                                              ,                                                                     . T                                   ,                         .\n"
          ]
        }
      ]
    },
    {
      "cell_type": "markdown",
      "source": [
        "- As we can observe, the lowercase letters have been replaced with a whitespace."
      ],
      "metadata": {
        "id": "uSWSeI-hCZor"
      }
    },
    {
      "cell_type": "markdown",
      "source": [
        "<h2>2. Pattern: [A-Z]</h2>\n",
        "<p><strong>Use Case:</strong> Validating employee IDs that start with uppercase letters.</p>\n",
        "<p><strong>Description:</strong> This pattern matches any single uppercase letter from 'A' to 'Z'. It can be used to check that employee IDs start with a capital letter.</p>\n",
        "<pre>\n",
        "pattern = r'[A-Z]'\n",
        "# Finding the specified pattern and replacing uppercase characters with a blank string\n",
        "new_text = ''.join(re.sub(pattern, ' ', text))\n",
        "</pre>"
      ],
      "metadata": {
        "id": "0b02RfCwDPAJ"
      }
    },
    {
      "cell_type": "code",
      "source": [
        "string = \"ID1230\"\n",
        "pattern = r'[A-Z]'\n",
        "\n",
        "cleaned_string = ''.join(re.sub(pattern,' ',string))\n",
        "\n",
        "print(string)\n",
        "print(cleaned_string)"
      ],
      "metadata": {
        "colab": {
          "base_uri": "https://localhost:8080/"
        },
        "id": "qh6LnFwFixVG",
        "outputId": "073c7c29-18ca-4f25-8fd5-b13240b64113"
      },
      "execution_count": null,
      "outputs": [
        {
          "output_type": "stream",
          "name": "stdout",
          "text": [
            "ID1230\n",
            "  1230\n"
          ]
        }
      ]
    },
    {
      "cell_type": "markdown",
      "source": [
        "- As we can observe, the uppercase letters have been replaced with a whitespace"
      ],
      "metadata": {
        "id": "P77zG6nfCrhu"
      }
    },
    {
      "cell_type": "code",
      "source": [
        "import re\n",
        "\n",
        "review = data['review'][4]\n",
        "pattern = r'[A-Z]'\n",
        "\n",
        "cleaned_review = ''.join(re.sub(pattern,' ',review))\n",
        "\n",
        "print(review)\n",
        "print(cleaned_review)"
      ],
      "metadata": {
        "colab": {
          "base_uri": "https://localhost:8080/"
        },
        "id": "zD0kDr0miyAD",
        "outputId": "3cad7e17-b493-4811-86b8-a703a3febc58"
      },
      "execution_count": null,
      "outputs": [
        {
          "output_type": "stream",
          "name": "stdout",
          "text": [
            "Admittedly, there are some scenes in this movie that seem a little unrealistic. The ravishing woman first panics and then, only a few minutes later, she starts kissing the young lad while the old guy is right next to her. But as the film goes along we learn that she is a little volatile girl (or slut) and that partly explains her behavior. The cinematography of this movie is well done. We get to see the elevator from almost every angle and perspective, and some of those images and scenes really raise the tension. Götz George plays his character well, a wannabe hot-shot getting old and being overpowered by young men like the Jaennicke character. Wolfgang Kieling who I admired in Hitchcock's THE TORN CURTAIN delivers a great performance that, although he doesn't say much, he is by far the best actor in this play. One critic complained about how unrealistic the film was and that in a real case of emergency nothing would really happen. But then again, how realistic are films such as Mission impossible or Phone Booth. Given the fact that we are talking about a movie here, and that in a movie you always have to deal with some scenes that aren't very likely to occur in real life, you can still enjoy this movie. It's a lot better than many things that I see on German TV these days and I think that the vintage 80's style added something to this film.\n",
            " dmittedly, there are some scenes in this movie that seem a little unrealistic.  he ravishing woman first panics and then, only a few minutes later, she starts kissing the young lad while the old guy is right next to her.  ut as the film goes along we learn that she is a little volatile girl (or slut) and that partly explains her behavior.  he cinematography of this movie is well done.  e get to see the elevator from almost every angle and perspective, and some of those images and scenes really raise the tension.  ötz  eorge plays his character well, a wannabe hot-shot getting old and being overpowered by young men like the  aennicke character.  olfgang  ieling who   admired in  itchcock's                  delivers a great performance that, although he doesn't say much, he is by far the best actor in this play.  ne critic complained about how unrealistic the film was and that in a real case of emergency nothing would really happen.  ut then again, how realistic are films such as  ission impossible or  hone  ooth.  iven the fact that we are talking about a movie here, and that in a movie you always have to deal with some scenes that aren't very likely to occur in real life, you can still enjoy this movie.  t's a lot better than many things that   see on  erman    these days and   think that the vintage 80's style added something to this film.\n"
          ]
        }
      ]
    },
    {
      "cell_type": "markdown",
      "source": [
        "- Every sentence starts with an uppercase letter.\n",
        "- As we can observe, the uppercase characters have been replaced with a whitespace, along with all other uppercase characters."
      ],
      "metadata": {
        "id": "QPky7ZWSC1K6"
      }
    },
    {
      "cell_type": "markdown",
      "source": [
        "<h2>3. Pattern: [0-9]</h2>\n",
        "<p><strong>Use Case:</strong> Extracting the template from a string.</p>\n",
        "<p><strong>Description:</strong> This pattern matches any single digit from '0' to '9'.</p>\n",
        "<pre>\n",
        "pattern = r'[0-9]'\n",
        "# Finding the specified pattern and replacing digit characters with a white space\n",
        "new_text = ''.join(re.sub(pattern, ' ', text))\n",
        "</pre>"
      ],
      "metadata": {
        "id": "gjjZESwTDUMN"
      }
    },
    {
      "cell_type": "code",
      "source": [
        "import re\n",
        "\n",
        "string = \"OrderNumber: 12345, TotalAmount: $67.89\"\n",
        "pattern = r'[0-9]'\n",
        "\n",
        "cleaned_string = ''.join(re.sub(pattern,' ',string))\n",
        "\n",
        "print(string)\n",
        "print(cleaned_string)"
      ],
      "metadata": {
        "colab": {
          "base_uri": "https://localhost:8080/"
        },
        "id": "B8Jw5lapjhQV",
        "outputId": "ba5dc103-ca7c-425c-f8bc-7d6074bf5613"
      },
      "execution_count": null,
      "outputs": [
        {
          "output_type": "stream",
          "name": "stdout",
          "text": [
            "OrderNumber: 12345, TotalAmount: $67.89\n",
            "OrderNumber:      , TotalAmount: $  .  \n"
          ]
        }
      ]
    },
    {
      "cell_type": "markdown",
      "source": [
        "- There is a particular template in the string:\n",
        "  - It contains an Order Number and Total Amount with some values.\n",
        "  - If we replace the values with whitespace, we can retrieve the template."
      ],
      "metadata": {
        "id": "53qUS8dbDmGy"
      }
    },
    {
      "cell_type": "code",
      "source": [
        "import re\n",
        "\n",
        "string = \"The temperature today is 75 degrees Fahrenheit.\"\n",
        "pattern = r'[0-9]'\n",
        "\n",
        "cleaned_string = ''.join(re.sub(pattern,' ',string))\n",
        "\n",
        "print(string)\n",
        "print(cleaned_string)"
      ],
      "metadata": {
        "colab": {
          "base_uri": "https://localhost:8080/"
        },
        "id": "Fyv4B8VOjhg8",
        "outputId": "7110f8a4-e7c1-48de-a2a6-65fcddcc5e36"
      },
      "execution_count": null,
      "outputs": [
        {
          "output_type": "stream",
          "name": "stdout",
          "text": [
            "The temperature today is 75 degrees Fahrenheit.\n",
            "The temperature today is    degrees Fahrenheit.\n"
          ]
        }
      ]
    },
    {
      "cell_type": "markdown",
      "source": [
        "- Imagine there is a simple website that displays the daily temperature in a specific format.\n",
        "  - In the above string, only the temperature value changes while the format remains the same.\n",
        "  - If we replace that value with a whitespace or any other value, we can update the temperature.\n",
        "  - For now, we will retrieve the template alone.\n"
      ],
      "metadata": {
        "id": "6GVPJws0EDcK"
      }
    },
    {
      "cell_type": "code",
      "source": [
        "import re\n",
        "\n",
        "review = data['review'][905]\n",
        "pattern = r'[0-9]'\n",
        "\n",
        "cleaned_review = ''.join(re.sub(pattern,' ',review))\n",
        "\n",
        "print(review)\n",
        "print(cleaned_review)"
      ],
      "metadata": {
        "colab": {
          "base_uri": "https://localhost:8080/"
        },
        "id": "_jj9NZTDNJgQ",
        "outputId": "e720e597-0a04-4e2b-e177-c9dc51e78a38"
      },
      "execution_count": null,
      "outputs": [
        {
          "output_type": "stream",
          "name": "stdout",
          "text": [
            "This one is a real bomb. We are supposed to believe that Merle Oberon is the sequestered daughter of an ambitious politician who must prove to the Tom DeLay of the 1930s that he is worth supporting as a presidential candidate. Poor Merle can't go anywhere, but is surrounded by politicians and their quacking, quaking wives and supported only by kindly uncle Harry Davenport. She joins her two maids on a blind date and Gary Cooper happens to show up. Some shots of rodeo might have enlivened things, a la \"Misfits,\" but no such luck with this one. Gary later breaks in to a formal dinner, at which Merle is presiding, and, though invited to sit down and join the group, reads them a lecture on their snobbery. Where did this diffident cowboy's sudden eloquence come from? The most excruciating scene in the film is a phantom party that Gary holds in his unfinished house for his absent wife, Merle. Will it never end? One to avoid.\n",
            "This one is a real bomb. We are supposed to believe that Merle Oberon is the sequestered daughter of an ambitious politician who must prove to the Tom DeLay of the     s that he is worth supporting as a presidential candidate. Poor Merle can't go anywhere, but is surrounded by politicians and their quacking, quaking wives and supported only by kindly uncle Harry Davenport. She joins her two maids on a blind date and Gary Cooper happens to show up. Some shots of rodeo might have enlivened things, a la \"Misfits,\" but no such luck with this one. Gary later breaks in to a formal dinner, at which Merle is presiding, and, though invited to sit down and join the group, reads them a lecture on their snobbery. Where did this diffident cowboy's sudden eloquence come from? The most excruciating scene in the film is a phantom party that Gary holds in his unfinished house for his absent wife, Merle. Will it never end? One to avoid.\n"
          ]
        }
      ]
    },
    {
      "cell_type": "markdown",
      "source": [
        "- As expected the string '1930' has been replaced with a whitespace."
      ],
      "metadata": {
        "id": "cGRbjl2JFzkN"
      }
    },
    {
      "cell_type": "markdown",
      "source": [
        "<h2>4. Pattern: [^]</h2>\n",
        "\n",
        "- The ^ character is used as a negation operator in regular expressions.\n",
        "- Any pattern mentioned after the ^ character will be excluded from consideration.\n",
        "\n",
        "<strong>Use Case:</strong> Removing all non-numeric characters from a string of digits.\n",
        "\n",
        "<strong>Description:</strong> The pattern `[^0-9]` matches any character that is not a digit. It can be used to clean up strings that should only contain numbers.\n",
        "\n",
        "```\n",
        "pattern = r'[^0-9]'\n",
        "# Finding the specified pattern and replacing non-digit characters with a blank string\n",
        "new_text = ''.join(re.sub(pattern, ' ', text))\n",
        "```"
      ],
      "metadata": {
        "id": "7En_rvCaDYz_"
      }
    },
    {
      "cell_type": "code",
      "source": [
        "import re\n",
        "\n",
        "string = \"OrderNumber: 12345, TotalAmount: $67.89\"\n",
        "pattern = r'[^0-9]'\n",
        "\n",
        "cleaned_string = ''.join(re.sub(pattern,' ',string))\n",
        "\n",
        "print(string)\n",
        "print(cleaned_string)"
      ],
      "metadata": {
        "colab": {
          "base_uri": "https://localhost:8080/"
        },
        "id": "OxBKUoepkMxJ",
        "outputId": "1362e6c8-e276-4a72-9071-a4f86bb1cd97"
      },
      "execution_count": null,
      "outputs": [
        {
          "output_type": "stream",
          "name": "stdout",
          "text": [
            "OrderNumber: 12345, TotalAmount: $67.89\n",
            "             12345                67 89\n"
          ]
        }
      ]
    },
    {
      "cell_type": "markdown",
      "source": [
        "- In one of the previous examples, we have retrieved the template.\n",
        "  - To retrieve anything apart from the template, we can use the ^ character."
      ],
      "metadata": {
        "id": "QSvfO14EHR85"
      }
    },
    {
      "cell_type": "code",
      "source": [
        "import re\n",
        "\n",
        "string = \"The temperature today is 75 degrees Fahrenheit.\"\n",
        "pattern = r'[^0-9]'\n",
        "\n",
        "cleaned_string = ''.join(re.sub(pattern,' ',string))\n",
        "\n",
        "print(string)\n",
        "print(cleaned_string)"
      ],
      "metadata": {
        "colab": {
          "base_uri": "https://localhost:8080/"
        },
        "id": "LATIOL6ekNJi",
        "outputId": "171610ae-5609-418b-b1f4-2f0a4ffdda8a"
      },
      "execution_count": null,
      "outputs": [
        {
          "output_type": "stream",
          "name": "stdout",
          "text": [
            "The temperature today is 75 degrees Fahrenheit.\n",
            "                         75                    \n"
          ]
        }
      ]
    },
    {
      "cell_type": "markdown",
      "source": [
        "- In one of the previous examples, we have retrieved the template.\n",
        "  - To retrieve anything apart from the template, we can use the ^ character."
      ],
      "metadata": {
        "id": "QnGawEF9HrgQ"
      }
    },
    {
      "cell_type": "code",
      "source": [
        "import re\n",
        "\n",
        "review = data['review'][13]\n",
        "pattern = r'[^0-9]'\n",
        "\n",
        "cleaned_review = ''.join(re.sub(pattern,' ',review))\n",
        "\n",
        "print(review)\n",
        "print(cleaned_review)"
      ],
      "metadata": {
        "colab": {
          "base_uri": "https://localhost:8080/"
        },
        "id": "6p5Nj11HNPvm",
        "outputId": "73764a89-83f9-4fc5-d9b6-e94c88b4de08"
      },
      "execution_count": null,
      "outputs": [
        {
          "output_type": "stream",
          "name": "stdout",
          "text": [
            "One of the most underrated movies I've seen in a long time, Bill & Ted's Bogus Journey is the second hilarious adventure of Bill S. Preston Esq. and Ted Theodore Logan, aka Wyld Stallyns. There are two ways to look at this film: First, you see dumb dialogue, far fetched plot, juvenile idea. OR.. You see brilliantly downplayed idiots who yet again find themselves in a situation too big for their brains. Throw a Bruce Willis or a Arnold Schwarzeneggar into this plot and it becomes a big blockbuster movie. Bill and Ted go into the story with the same level of sincerity, only it's Bill and Ted. This is a tricky fence to balance on, but when you watch the movie not as a throwaway screwball comedy, but as an adventure featuring two guys who have no business being in an adventure, it becomes so much more.\n",
            "                                                                                                                                                                                                                                                                                                                                                                                                                                                                                                                                                                                                                                                                                                                                                                                                                                         \n"
          ]
        }
      ]
    },
    {
      "cell_type": "markdown",
      "source": [
        "- As the review contains no digits, all characters have been replaced with whitespace."
      ],
      "metadata": {
        "id": "CpvxS6heHsey"
      }
    },
    {
      "cell_type": "markdown",
      "source": [
        "<h2>5. Pattern: [^A-Za-z]</h2>\n",
        "<p><strong>Use Case:</strong> Sanitizing input fields to allow only letters.</p>\n",
        "<p><strong>Description:</strong> This pattern matches any character that is not a letter (either uppercase or lowercase). It can be used to sanitize user input in forms to ensure it only contains alphabetic characters.</p>\n",
        "<pre>\n",
        "pattern = r'[^A-Za-z]'\n",
        "# Finding the specified pattern and replacing non-letter characters with a blank string\n",
        "new_text = ''.join(re.sub(pattern, ' ', text))\n",
        "</pre>"
      ],
      "metadata": {
        "id": "SFRCizPODcwp"
      }
    },
    {
      "cell_type": "code",
      "source": [
        "import re\n",
        "\n",
        "string = \"johan123@gmail.com\"\n",
        "pattern = r'[^A-Za-z]'\n",
        "\n",
        "cleaned_string = ''.join(re.sub(pattern,' ',string))\n",
        "\n",
        "print(string)\n",
        "print(cleaned_string)"
      ],
      "metadata": {
        "id": "E-BNlqEnk5i0"
      },
      "execution_count": null,
      "outputs": []
    },
    {
      "cell_type": "markdown",
      "source": [
        "- As expected, all characters outside of [A-Za-z] have been replaced with whitespace."
      ],
      "metadata": {
        "id": "abBTGIFcIFra"
      }
    },
    {
      "cell_type": "code",
      "source": [
        "import re\n",
        "\n",
        "string = \"OrderNumber: 12345, TotalAmount: $67.89\"\n",
        "pattern = r'[^A-Za-z]'\n",
        "\n",
        "cleaned_string = ''.join(re.sub(pattern,' ',string))\n",
        "\n",
        "print(string)\n",
        "print(cleaned_string)"
      ],
      "metadata": {
        "colab": {
          "base_uri": "https://localhost:8080/"
        },
        "id": "fMLyqKkWk5tW",
        "outputId": "cad226c6-de80-4bb1-ced7-8134b02938fc"
      },
      "execution_count": null,
      "outputs": [
        {
          "output_type": "stream",
          "name": "stdout",
          "text": [
            "OrderNumber: 12345, TotalAmount: $67.89\n",
            "OrderNumber         TotalAmount        \n"
          ]
        }
      ]
    },
    {
      "cell_type": "markdown",
      "source": [
        "- As expected, all characters outside of [A-Za-z] have been replaced with whitespace.\n",
        "- Additionally, this is another way to retrieve the template, which was discussed in one of the previous examples."
      ],
      "metadata": {
        "id": "uyWP8LQXIaHQ"
      }
    },
    {
      "cell_type": "code",
      "source": [
        "import re\n",
        "\n",
        "review = data['review'][7]\n",
        "pattern = r'[^A-Za-z]'\n",
        "\n",
        "cleaned_review = ''.join(re.sub(pattern,' ',review))\n",
        "\n",
        "print(review)\n",
        "print(cleaned_review)"
      ],
      "metadata": {
        "colab": {
          "base_uri": "https://localhost:8080/"
        },
        "id": "8xnxt-L4NWmL",
        "outputId": "d57f1bf7-4e8c-4771-a147-cdf328674042"
      },
      "execution_count": null,
      "outputs": [
        {
          "output_type": "stream",
          "name": "stdout",
          "text": [
            "Having heard so much about the 1990s Cracker series without seeing any of them, I looked forward to this eagerly. Surely the combination of Jimmie McGovern and Robbie Coltrane could not go wrong. How wrong I was! <br /><br />The polemics, backed by frequent, repetitive and violent flashbacks, were overpowering. The production tried to be super-modern, but the flashing boxes and even the childish font irritated. Robbie Coltrane sleep-walked through the two hours, coming up with unexplained and unlikely \"insights\", and the police were portrayed as one-dimensional bumbling idiots. As a result, the tension never built up and the next-to-final scene (no details for fear of spoilers) was as laughably bad a piece of TV drama as I have seen for a long time.<br /><br />No, I don't want to see any more of these, but I will go back to the DVDs of the 1990s series to see if they match their reputation.\n",
            "Having heard so much about the     s Cracker series without seeing any of them  I looked forward to this eagerly  Surely the combination of Jimmie McGovern and Robbie Coltrane could not go wrong  How wrong I was   br    br   The polemics  backed by frequent  repetitive and violent flashbacks  were overpowering  The production tried to be super modern  but the flashing boxes and even the childish font irritated  Robbie Coltrane sleep walked through the two hours  coming up with unexplained and unlikely  insights   and the police were portrayed as one dimensional bumbling idiots  As a result  the tension never built up and the next to final scene  no details for fear of spoilers  was as laughably bad a piece of TV drama as I have seen for a long time  br    br   No  I don t want to see any more of these  but I will go back to the DVDs of the     s series to see if they match their reputation \n"
          ]
        }
      ]
    },
    {
      "cell_type": "markdown",
      "source": [
        "- As expected the strings '1900' and '1990' has been replaced with a whitespace."
      ],
      "metadata": {
        "id": "jI5xp0ojIt5h"
      }
    },
    {
      "cell_type": "markdown",
      "source": [
        "<h2>6. Pattern: []+</h2>\n",
        "\n",
        "- The + character is used to indicate that the preceding element must occur one or more times.\n",
        "- Any pattern mentioned before the + character will be matched as long as it appears at least once.\n",
        "\n",
        "**Use Case**: Validating hexadecimal color codes.\n",
        "\n",
        "**Description**: The pattern `[a-fA-F0-9]+` matches one or more characters in the range 'a' to 'f' (lowercase) or 'A' to 'F' (uppercase) or 0-9. It can be used to extract or validate parts of hexadecimal color codes.\n",
        "\n",
        "```\n",
        "pattern = r'[a-fA-F]+'\n",
        "# Finding the specified pattern and replacing non-hexadecimal characters with a blank string\n",
        "new_text = ''.join(re.sub(pattern, ' ', text))\n",
        "```\n"
      ],
      "metadata": {
        "id": "1weSAtLBGNIq"
      }
    },
    {
      "cell_type": "code",
      "source": [
        "import re\n",
        "\n",
        "string = \"#ff0000 #6a5acd\"\n",
        "pattern = r'[a-fA-F0-9]+'\n",
        "\n",
        "cleaned_string = ''.join(re.sub(pattern,' ',string))\n",
        "\n",
        "print(string)\n",
        "print(cleaned_string)"
      ],
      "metadata": {
        "id": "VZ2dGJKflL4y"
      },
      "execution_count": null,
      "outputs": []
    },
    {
      "cell_type": "markdown",
      "source": [
        "- ##ff0000 and #6a5acd represents colors in hexadecimal format.\n",
        "\n",
        "- The entire string 'ff0000' is matched as a single pattern since + matches one or more characters specified.\n",
        "\n",
        "- Also, the string '6a5acd' is matched as a single pattern.\n",
        "\n",
        "- Hence, the string 'ff0000' and '6a5acd' will be replaced with a whitespace."
      ],
      "metadata": {
        "id": "od5KReAKJ3rc"
      }
    },
    {
      "cell_type": "code",
      "source": [
        "print(len(cleaned_string))"
      ],
      "metadata": {
        "id": "9G2JPQTs7p6d"
      },
      "execution_count": null,
      "outputs": []
    },
    {
      "cell_type": "markdown",
      "source": [
        "- The character '#' is retained and a whitespace between '#ff0000' and '#6a5acd' is retained since it doesn't match with the given pattern\n",
        "\n",
        "- Hence, the length of `cleaned_string` is 5."
      ],
      "metadata": {
        "id": "5TYR45bv7rzR"
      }
    },
    {
      "cell_type": "code",
      "source": [
        "import re\n",
        "\n",
        "review = data['review'][21]\n",
        "pattern = r'[a-fA-F0-9]+'\n",
        "\n",
        "cleaned_review = ''.join(re.sub(pattern,' ',review))\n",
        "\n",
        "print(review)\n",
        "print(cleaned_review)"
      ],
      "metadata": {
        "id": "sDHda8ZoNb73"
      },
      "execution_count": null,
      "outputs": []
    },
    {
      "cell_type": "code",
      "source": [],
      "metadata": {
        "id": "m-6WVHySOQ0B"
      },
      "execution_count": null,
      "outputs": []
    },
    {
      "cell_type": "markdown",
      "source": [
        "- The above review doesn't contain any digits.\n",
        "- Hence, the characters in the range a-f and A-F has been replaced with a whitespace."
      ],
      "metadata": {
        "id": "FJll6RKzKNze"
      }
    },
    {
      "cell_type": "markdown",
      "source": [
        "- Until now, we have been cleaning individual reviews one by one. While this is helpful, it can be time-consuming for larger number of reviews.\n",
        "\n",
        "- To make our process faster and easier, we want to clean all reviews in the DataFrame at once instead of handling them individually.\n",
        "\n",
        "- By using the ***apply*** function in Pandas, we can quickly apply our cleaning function, ***remove_special_characters***, to every review in the DataFrame in one go.\n",
        "\n",
        "- We will define the ***remove_special_characters*** function to remove special characters from the text. Then, we will apply this function to the review column, ensuring all reviews are clean and ready for analysis."
      ],
      "metadata": {
        "id": "eTR6C-zLHBn4"
      }
    },
    {
      "cell_type": "code",
      "source": [
        "# defining a function to remove special characters\n",
        "def remove_special_characters(text):\n",
        "    # Defining the regex pattern to match non-alphanumeric characters\n",
        "    pattern = '[^A-Za-z0-9]+'\n",
        "\n",
        "    # Finding the specified pattern and replacing non-alphanumeric characters with a blank string\n",
        "    new_text = ''.join(re.sub(pattern, ' ', text))\n",
        "\n",
        "    return new_text"
      ],
      "metadata": {
        "id": "mGR2c6dCvT-Q"
      },
      "execution_count": null,
      "outputs": []
    },
    {
      "cell_type": "code",
      "source": [
        "# Applying the function to remove special characters\n",
        "data['cleaned_text'] = data['review'].apply(remove_special_characters)"
      ],
      "metadata": {
        "id": "RQv4x8npctFZ"
      },
      "execution_count": null,
      "outputs": []
    },
    {
      "cell_type": "code",
      "source": [
        "# checking a couple of instances of cleaned data\n",
        "data.loc[0:3, ['review','cleaned_text']]"
      ],
      "metadata": {
        "id": "rCxMsKChvT79"
      },
      "execution_count": null,
      "outputs": []
    },
    {
      "cell_type": "markdown",
      "source": [
        "- We can observe that regex simply removed the special characters and retained the alphabets and numbers."
      ],
      "metadata": {
        "id": "QpsuDWLnyJFw"
      }
    },
    {
      "cell_type": "markdown",
      "source": [
        "### **Lowercasing**"
      ],
      "metadata": {
        "id": "2DftSZK9yQ74"
      }
    },
    {
      "cell_type": "markdown",
      "source": [
        "<h2>Why is Lowercasing Important in Text Preprocessing?</h2>\n",
        "\n",
        "- It ensures that all words are in the same format, which helps maintain consistency across the dataset.\n",
        "  - This means \"Dog\" and \"dog\" are treated as the same word.\n",
        "\n",
        "- Converting text to lowercase simplifies the data, making it easier to process and analyze."
      ],
      "metadata": {
        "id": "btbl4O1tIpW1"
      }
    },
    {
      "cell_type": "markdown",
      "source": [
        "<h2>How to Implement Lowercasing?</h2>\n",
        "\n",
        "- The `lower()` method is a built-in string method in Python that converts all uppercase characters in a string to lowercase.\n",
        "- This is useful for standardizing text data.\n",
        "\n",
        "<p><strong>Example:</strong></p>\n",
        "\n",
        "<pre>\n",
        "input_string = \"Hello, World!\"\n",
        "\n",
        "lowercased_string = input_string.lower()\n",
        "\n",
        "print(lowercased_string)\n",
        "</pre>\n",
        "\n",
        ">**Output** : hello, world!\n"
      ],
      "metadata": {
        "id": "1eiMJHNoJI0t"
      }
    },
    {
      "cell_type": "code",
      "source": [
        "string = \"The Quick Brown Fox\"\n",
        "\n",
        "lowercased_string = string.lower()\n",
        "\n",
        "print(lowercased_string)"
      ],
      "metadata": {
        "id": "f2lVK2_Ulcp8"
      },
      "execution_count": null,
      "outputs": []
    },
    {
      "cell_type": "markdown",
      "source": [
        "- As we can see, the characters in the `string` have been converted to lowercase.\""
      ],
      "metadata": {
        "id": "xdm9ScKJK3l5"
      }
    },
    {
      "cell_type": "markdown",
      "source": [
        "- Now, let's try to use this pattern to manipulate one of the reviews in the data."
      ],
      "metadata": {
        "id": "Eg6ZjM8IYC9i"
      }
    },
    {
      "cell_type": "code",
      "source": [
        "review = data['review'][10]\n",
        "\n",
        "lowercased_review = review.lower()\n",
        "\n",
        "print(lowercased_review)"
      ],
      "metadata": {
        "id": "qsznyceiOGVr"
      },
      "execution_count": null,
      "outputs": []
    },
    {
      "cell_type": "markdown",
      "source": [
        "- As we can see, the characters in the `review` have been converted to lowercase.\""
      ],
      "metadata": {
        "id": "aOwkt9EcLITx"
      }
    },
    {
      "cell_type": "markdown",
      "source": [
        "- Until now, we have been converting text to lowercase for individual reviews one by one. While this method works, it can be inefficient when dealing with a larger number of reviews.\n",
        "\n",
        "- To streamline our process, we want to convert all reviews in the DataFrame to lowercase at once instead of handling each one separately.\n",
        "\n",
        "- By using the `str.lower()` method in Pandas, we can efficiently apply the lowercase transformation to every review in the DataFrame in a single operation.\n",
        "\n",
        "- We will apply the `str.lower()` method to the review column, ensuring that all reviews are standardized and ready for analysis."
      ],
      "metadata": {
        "id": "_GT_2v-KKtog"
      }
    },
    {
      "cell_type": "code",
      "source": [
        "# changing the case of the text data to lower case\n",
        "data['cleaned_text'] = data['cleaned_text'].str.lower()"
      ],
      "metadata": {
        "id": "JLOmMLSLRJT0"
      },
      "execution_count": null,
      "outputs": []
    },
    {
      "cell_type": "code",
      "source": [
        "# checking a couple of instances of cleaned data\n",
        "data.loc[0:3, ['review','cleaned_text']]"
      ],
      "metadata": {
        "id": "P80CyzprdHH1"
      },
      "execution_count": null,
      "outputs": []
    },
    {
      "cell_type": "markdown",
      "source": [
        "- We can observe that all the text has now successfully been converted to lower case."
      ],
      "metadata": {
        "id": "dF_kFCAxyg6L"
      }
    },
    {
      "cell_type": "markdown",
      "source": [
        "### **Removing extra whitespace**"
      ],
      "metadata": {
        "id": "hLoWwpxzylZH"
      }
    },
    {
      "cell_type": "markdown",
      "source": [
        "<h2>Why is Removing Extra Spaces Important in Text Preprocessing?</h2>\n",
        "\n",
        "- Removing extra spaces ensures uniformity in the text, making it easier to analyze and process.\n",
        "\n",
        "- Extra spaces can unnecessarily increase the size of the text data. By eliminating them, the overall storage requirements are reduced, leading to more efficient data handling and processing."
      ],
      "metadata": {
        "id": "14sbXM3FLRQC"
      }
    },
    {
      "cell_type": "markdown",
      "source": [
        "<h2>How to Implement Lowercasing?</h2>\n",
        "\n",
        "- The `strip()` method is a built-in string method in Python that removes leading and trailing whitespace from a string.\n",
        "- This is useful for cleaning up user input and ensuring consistent formatting in text data.\n",
        "\n",
        "**Example:**\n",
        "<pre>\n",
        "input_string = \"Hello, World! \"\n",
        "\n",
        "stripped_string = input_string.strip()\n",
        "\n",
        "print(stripped_string)\n",
        "</pre>\n",
        "\n",
        "> **Output :** Hello, World!\n"
      ],
      "metadata": {
        "id": "vZcp_UwnLRQE"
      }
    },
    {
      "cell_type": "code",
      "source": [
        "string = \" johan@gmail.com \"\n",
        "\n",
        "stripped_string = string.strip()\n",
        "\n",
        "print(stripped_string)"
      ],
      "metadata": {
        "id": "1CjhS2IqlofD"
      },
      "execution_count": null,
      "outputs": []
    },
    {
      "cell_type": "markdown",
      "source": [
        "- As expected, the trailing and leading whitespace has been removed."
      ],
      "metadata": {
        "id": "cEbwxVoAL3Id"
      }
    },
    {
      "cell_type": "markdown",
      "source": [
        "- Now, let's try to use this pattern to manipulate one of the reviews in the data."
      ],
      "metadata": {
        "id": "1JvonK5JYEzt"
      }
    },
    {
      "cell_type": "code",
      "source": [
        "review = data['review'][178]\n",
        "\n",
        "stripped_review = review.strip()\n",
        "\n",
        "print(review)\n",
        "print(stripped_review)"
      ],
      "metadata": {
        "id": "kGze8cnTOMkG"
      },
      "execution_count": null,
      "outputs": []
    },
    {
      "cell_type": "markdown",
      "source": [
        "- As expected, the leading whitespace has been removed."
      ],
      "metadata": {
        "id": "PJBphEGuMZLS"
      }
    },
    {
      "cell_type": "markdown",
      "source": [
        "- Until now, we have been removing leading and trailing whitespace from individual reviews one by one. While this method is effective, it can be time-consuming when working with a large number of reviews.\n",
        "\n",
        "- To make our process more efficient, we want to remove extra spaces from all reviews in the DataFrame simultaneously instead of handling each one separately.\n",
        "\n",
        "- By utilizing the ***str.strip()*** method in Pandas, we can easily eliminate leading and trailing whitespace from every review in the DataFrame in a single operation.\n",
        "\n",
        "- We will apply the ***str.strip()*** method to the review column, ensuring that all reviews are cleaned and formatted consistently for analysis."
      ],
      "metadata": {
        "id": "fKQV2RZoLRQG"
      }
    },
    {
      "cell_type": "code",
      "source": [
        "# removing extra whitespaces from the text\n",
        "data['cleaned_text'] = data['cleaned_text'].str.strip()"
      ],
      "metadata": {
        "id": "CjJN53m8RWCW"
      },
      "execution_count": null,
      "outputs": []
    },
    {
      "cell_type": "code",
      "source": [
        "# checking a couple of instances of cleaned data\n",
        "data.loc[0:3, ['review','cleaned_text']]"
      ],
      "metadata": {
        "id": "yCx3mBXiHRax"
      },
      "execution_count": null,
      "outputs": []
    },
    {
      "cell_type": "markdown",
      "source": [
        "* The above code will remove the white spaces in the text"
      ],
      "metadata": {
        "id": "ycZQiIR9yxBk"
      }
    },
    {
      "cell_type": "markdown",
      "source": [
        "### **Removing stopwords**"
      ],
      "metadata": {
        "id": "EwVOVENFz9fJ"
      }
    },
    {
      "cell_type": "markdown",
      "source": [
        "<h2>Why is Removing Stop Words Important?<h2>\n",
        "\n",
        "- Stop words are common words (like \"and,\" \"the,\" and \"is\") that are often excluded from text analysis because they add little meaning to the content.\n",
        "\n",
        "- Excluding frequently occurring words helps emphasize the more significant terms in the text, improving analysis quality.\n",
        "\n",
        "- Removing pronouns and articles, commonly categorized as stop words, minimizes irrelevant information, allowing algorithms to better identify patterns."
      ],
      "metadata": {
        "id": "ddYQH3ef0AUj"
      }
    },
    {
      "cell_type": "markdown",
      "source": [
        "<h2>How to implement stop word removal?</h2>\n",
        "\n",
        "- Start by using a pre-defined list of stop words to identify common words that can be excluded from our analysis.\n",
        "\n",
        "- Downloading a stop words dataset ensures we have an updated collection of these words for accurate filtering.\n",
        "\n",
        "- As the text data grows, manually removing stop words can become tedious and inefficient.\n",
        "\n",
        "- Implementing an automated method to filter out stop words saves time"
      ],
      "metadata": {
        "id": "cI4bg4EGQM5K"
      }
    },
    {
      "cell_type": "markdown",
      "source": [
        "- NLTK (Natural Language Toolkit) is a Python library designed for working with human language data (text) and provides tools for various natural language processing tasks.\n",
        "\n",
        "- NLTK is widely used in academic and research settings, supported by an active community that contributes to its development and documentation, making it a valuable resource for learning and experimentation in NLP.\n",
        "\n",
        "- It is imported using the statement `import nltk`"
      ],
      "metadata": {
        "id": "t3hi9V3HNl7O"
      }
    },
    {
      "cell_type": "code",
      "source": [
        "import nltk"
      ],
      "metadata": {
        "id": "W48xWVI5NwVC"
      },
      "execution_count": null,
      "outputs": []
    },
    {
      "cell_type": "markdown",
      "source": [
        "- NLTK has a module called stopwords that provides a list of common stop words based on the English language.\n",
        "\n",
        "- This list includes frequently used words that typically do not add significant meaning to text analysis.\n",
        "\n",
        "- We can download this stop words list using the statement `nltk.download('stopwords')`"
      ],
      "metadata": {
        "id": "QZErYrs2RFoU"
      }
    },
    {
      "cell_type": "code",
      "source": [
        "nltk.download('stopwords')"
      ],
      "metadata": {
        "id": "d8MVsWRLOGdi"
      },
      "execution_count": null,
      "outputs": []
    },
    {
      "cell_type": "markdown",
      "source": [
        "- Once we have downloaded the list, we can use the `corpus` module from `nltk` to load the stopwords"
      ],
      "metadata": {
        "id": "wHgjFCmzOJr2"
      }
    },
    {
      "cell_type": "code",
      "source": [
        "from nltk.corpus import stopwords"
      ],
      "metadata": {
        "id": "1oLN35jRORhQ"
      },
      "execution_count": null,
      "outputs": []
    },
    {
      "cell_type": "markdown",
      "source": [
        "- To access the stopwords in the english language, we can use the `words` method from the stopwords module and pass 'english' as the argument.\n",
        "\n",
        "- We will list out the first 10 stopwords"
      ],
      "metadata": {
        "id": "mKEQCwrNOT_r"
      }
    },
    {
      "cell_type": "code",
      "source": [
        "stopwords.words('english')[:10]"
      ],
      "metadata": {
        "id": "b-duQjJ5Qzfq"
      },
      "execution_count": null,
      "outputs": []
    },
    {
      "cell_type": "markdown",
      "source": [
        "Using the NLTK stop words list, we can filter reviews by keeping only the words not in this list, allowing us to focus on meaningful content and enhance the quality of our analysis."
      ],
      "metadata": {
        "id": "07xqkA3dRd7z"
      }
    },
    {
      "cell_type": "markdown",
      "source": [
        "- Suppose you have a list of words, and you are interested in converting it into a sentence as a string."
      ],
      "metadata": {
        "id": "7mKCV0pfO5jM"
      }
    },
    {
      "cell_type": "code",
      "source": [
        "list_of_words = [\"I\",\"love\",\"Text\",\"Preprocessing\"]"
      ],
      "metadata": {
        "id": "85gv_0QiPOsf"
      },
      "execution_count": null,
      "outputs": []
    },
    {
      "cell_type": "markdown",
      "source": [
        "- This is where the join method comes to rescue.\n",
        "\n",
        "  - The `join()` method takes all items in a list and joins them into one string with a seaparator.\n",
        "\n",
        "  - A string must be specified as the separator.\n",
        "\n",
        "  - **Syntax :** string.join(list)"
      ],
      "metadata": {
        "id": "ZY_ZOhmePUUD"
      }
    },
    {
      "cell_type": "code",
      "source": [
        "'space'.join(list_of_words)"
      ],
      "metadata": {
        "id": "1MD4X6IqPloX"
      },
      "execution_count": null,
      "outputs": []
    },
    {
      "cell_type": "markdown",
      "source": [
        "- As we can observe, the string 'space' has been added between each element in the list, thus forming a sentence."
      ],
      "metadata": {
        "id": "JOaY1UQ1Pyt6"
      }
    },
    {
      "cell_type": "code",
      "source": [
        "' '.join(list_of_words)"
      ],
      "metadata": {
        "id": "Z9awtA-6P_Zm"
      },
      "execution_count": null,
      "outputs": []
    },
    {
      "cell_type": "markdown",
      "source": [
        "- As we can observe, a whitespace has been added between each element in the list, thus forming a sentence."
      ],
      "metadata": {
        "id": "xhMK4BeHQCvw"
      }
    },
    {
      "cell_type": "markdown",
      "source": [
        "\n",
        "<h2>1. Splitting the Text</h2>\n",
        "<p>\n",
        "    The first step involves splitting the input <code>text</code> into individual words using the <code>split()</code> method. This method separates the text at each space and creates a list of words.\n",
        "</p>\n",
        "<pre><code>words = text.split()</code></pre>\n",
        "\n",
        "<h2>2. Removing Stop Words</h2>\n",
        "<p>\n",
        "    Next, we remove the English stop words from the list of words. We use a list comprehension to iterate through each word in the <code>words</code> list and check if it is not present in the stop words list obtained from <code>stopwords.words('english')</code>.\n",
        "</p>\n",
        "<pre><code>[word for word in words if word not in stopwords.words('english')]</code></pre>\n",
        "\n",
        "<h2>3. Creating the New Text</h2>\n",
        "<p>\n",
        "    Finally, the remaining words (those not in the stop words list) are joined back together into a single string using the <code>join()</code> method. This creates a new text string that contains only the meaningful words.\n",
        "</p>\n",
        "<pre><code>new_text = ' '.join([word for word in words if word not in stopwords.words('english')])</code></pre>\n",
        "\n",
        "<h2>4. Result</h2>\n",
        "<p>\n",
        "    The resulting <code>new_text</code> variable now holds the filtered text, free of common English stop words, which allows for a more relevant analysis of the content.\n",
        "</p>\n"
      ],
      "metadata": {
        "id": "RXLZ-M2LUQTU"
      }
    },
    {
      "cell_type": "code",
      "source": [
        "string = \"The quick brown fox jumps over the lazy dog.\"\n",
        "\n",
        "words = string.split(' ')\n",
        "\n",
        "new_text = ' '.join([word for word in words if word not in stopwords.words('english')])\n",
        "\n",
        "print(string)\n",
        "\n",
        "print(new_text)"
      ],
      "metadata": {
        "id": "pQFSIwLhVIPk"
      },
      "execution_count": null,
      "outputs": []
    },
    {
      "cell_type": "markdown",
      "source": [
        "- As we can observe, the stopwords have been removed.\n",
        "- Additionally, we can note that the stopwords are 'over' and 'the', as they are not present in `new_text`."
      ],
      "metadata": {
        "id": "Q450TQ2RQMOs"
      }
    },
    {
      "cell_type": "code",
      "source": [
        "string = \"In order to succeed, you must first believe that you can.\"\n",
        "\n",
        "words = string.split(' ')\n",
        "\n",
        "new_text = ' '.join([word for word in words if word not in stopwords.words('english')])\n",
        "\n",
        "print(string)\n",
        "\n",
        "print(new_text)"
      ],
      "metadata": {
        "id": "PnaYor_tl0Gn"
      },
      "execution_count": null,
      "outputs": []
    },
    {
      "cell_type": "markdown",
      "source": [
        "- As we can observe, the stopwords have been removed.\n",
        "- Additionally, we can note that the stopwords are 'to', 'you' and 'that', as they are not present in `new_text`."
      ],
      "metadata": {
        "id": "ijUL6rI8QezU"
      }
    },
    {
      "cell_type": "markdown",
      "source": [
        "- Now, let's try to use this pattern to manipulate one of the reviews in the data."
      ],
      "metadata": {
        "id": "lPmIA_VUYIp9"
      }
    },
    {
      "cell_type": "code",
      "source": [
        "review = data['review'][25]\n",
        "\n",
        "words = review.split(' ')\n",
        "\n",
        "new_text = ' '.join([word for word in words if word not in stopwords.words('english')])\n",
        "\n",
        "\n",
        "print(words)\n",
        "print(new_text)"
      ],
      "metadata": {
        "id": "fOhZoqHbOS3V"
      },
      "execution_count": null,
      "outputs": []
    },
    {
      "cell_type": "markdown",
      "source": [
        "- As we can observe, the stopwords have been removed.\n"
      ],
      "metadata": {
        "id": "ay32sKc_QngK"
      }
    },
    {
      "cell_type": "markdown",
      "source": [
        "- Until now, we have been removing stop words from individual reviews one by one. While this method is effective, it can be inefficient when processing a larger number of reviews.\n",
        "\n",
        "- To streamline our process, we want to remove stop words from all reviews in the DataFrame at once instead of handling each one separately.\n",
        "\n",
        "- By defining a function called ***remove_stopwords*** using the NLTK library, we can efficiently apply the stop word removal to every review in the DataFrame in a single operation.\n",
        "\n",
        "  - This function splits the text into separate words, removes English language stop words, and then joins the remaining words back into a single string, ensuring that all reviews are cleaned and ready for analysis.\n",
        "\n",
        "- To implement this, we will apply the ***remove_stopwords*** function to the review column in our DataFrame using the Pandas ***apply()*** method, allowing us to filter out common stop words from each review and enhance the quality of our text analysis."
      ],
      "metadata": {
        "id": "B9vTluh-U3sm"
      }
    },
    {
      "cell_type": "code",
      "source": [
        "# defining a function to remove stop words using the NLTK library\n",
        "def remove_stopwords(text):\n",
        "    # Split text into separate words\n",
        "    words = text.split()\n",
        "\n",
        "    # Removing English language stopwords\n",
        "    new_text = ' '.join([word for word in words if word not in stopwords.words('english')])\n",
        "\n",
        "    return new_text"
      ],
      "metadata": {
        "id": "Zof2x5co2X8g"
      },
      "execution_count": null,
      "outputs": []
    },
    {
      "cell_type": "code",
      "source": [
        "# Applying the function to remove stop words using the NLTK library\n",
        "data['cleaned_text_without_stopwords'] = data['cleaned_text'].apply(remove_stopwords)"
      ],
      "metadata": {
        "id": "XtmKZqDwfOlt"
      },
      "execution_count": null,
      "outputs": []
    },
    {
      "cell_type": "code",
      "source": [
        "# checking a couple of instances of cleaned data\n",
        "data.loc[0:3,['cleaned_text','cleaned_text_without_stopwords']]"
      ],
      "metadata": {
        "id": "zikSkmBDfsu9"
      },
      "execution_count": null,
      "outputs": []
    },
    {
      "cell_type": "markdown",
      "source": [
        "### **Stemming**"
      ],
      "metadata": {
        "id": "tN9S84Sj2om2"
      }
    },
    {
      "cell_type": "markdown",
      "source": [
        "<h2>Why is Stemming Important?</h2>\n",
        "\n",
        "- Stemming transforms different forms of a word (e.g., \"running,\" \"ran,\" \"runs\") into a single root (e.g., \"run\"), making data more uniform.\n",
        "\n",
        "- Fewer unique words mean simpler data, which helps in processing and analyzing text more efficiently.\n",
        "\n",
        "- It helps in identifying key topics and sentiments by focusing on the core meaning of words rather than their variations."
      ],
      "metadata": {
        "id": "N7gAf4rJchR2"
      }
    },
    {
      "cell_type": "markdown",
      "source": [
        "<h2>How to implement?</h2>\n",
        "\n",
        "The Porter Stemmer is one of the widely-used algorithms for stemming, and it shorten words to their root form by removing suffixes.\n",
        " - This is particularly useful in NLP tasks where you want to analyze the underlying meaning of text without being misled by different grammatical forms of the same word."
      ],
      "metadata": {
        "id": "urpKFz7C-D55"
      }
    },
    {
      "cell_type": "markdown",
      "source": [
        "NLTK module supports Porter Stemmer algorithm.\n",
        "\n",
        "Before proceeding, we need to download the `wordnet` database.\n",
        " - WordNet is a large lexical database of English words that groups words into sets of synonyms called synsets, providing definitions and semantic relationships between them.\n",
        " - By using nltk.download('wordnet'), we can download the WordNet dataset directly into their NLTK environment, enabling easy access to its rich linguistic resources."
      ],
      "metadata": {
        "id": "u5tuAxb9SQkN"
      }
    },
    {
      "cell_type": "code",
      "source": [
        "nltk.download('wordnet')"
      ],
      "metadata": {
        "id": "zimvC7UUSKKK"
      },
      "execution_count": null,
      "outputs": []
    },
    {
      "cell_type": "markdown",
      "source": [
        "Next, we can import the PorterStemmer module from `stem.porter` module available in the `nltk` library"
      ],
      "metadata": {
        "id": "1BcfyM1ESz9B"
      }
    },
    {
      "cell_type": "code",
      "source": [
        "from nltk.stem.porter import PorterStemmer"
      ],
      "metadata": {
        "id": "bDyKJIIDSNPT"
      },
      "execution_count": null,
      "outputs": []
    },
    {
      "cell_type": "markdown",
      "source": [
        "Creating an instance of the Porter Stemmer class, which is used to stem words by reducing them to their root form."
      ],
      "metadata": {
        "id": "XVRbN7HWezPL"
      }
    },
    {
      "cell_type": "code",
      "source": [
        "ps = PorterStemmer()"
      ],
      "metadata": {
        "id": "ZHeywVxVehUQ"
      },
      "execution_count": null,
      "outputs": []
    },
    {
      "cell_type": "markdown",
      "source": [
        "Specifying the input word that needs to be stemmed."
      ],
      "metadata": {
        "id": "YBwj08awe00X"
      }
    },
    {
      "cell_type": "code",
      "source": [
        "word = 'Running'"
      ],
      "metadata": {
        "id": "fJVLxbyVejnt"
      },
      "execution_count": null,
      "outputs": []
    },
    {
      "cell_type": "markdown",
      "source": [
        "Applying the stemming process to the input word (in this case, 'Running'), and assigns the resulting stemmed form to the variable stemmed_word."
      ],
      "metadata": {
        "id": "THisq_43e9v6"
      }
    },
    {
      "cell_type": "code",
      "source": [
        "stemmed_word = ps.stem(word)"
      ],
      "metadata": {
        "id": "CkgAwUFielUo"
      },
      "execution_count": null,
      "outputs": []
    },
    {
      "cell_type": "markdown",
      "source": [
        "Displaying the input word and its stemmed form."
      ],
      "metadata": {
        "id": "JGzC5SKFfGc3"
      }
    },
    {
      "cell_type": "code",
      "source": [
        "print(word)\n",
        "print(stemmed_word)"
      ],
      "metadata": {
        "id": "IN2ISpC7entk"
      },
      "execution_count": null,
      "outputs": []
    },
    {
      "cell_type": "code",
      "source": [
        "word = 'Analzying'\n",
        "\n",
        "stemmed_word = ps.stem(word)\n",
        "\n",
        "print(stemmed_word)"
      ],
      "metadata": {
        "id": "dcZIDwDnmBlI"
      },
      "execution_count": null,
      "outputs": []
    },
    {
      "cell_type": "markdown",
      "source": [
        "- Here, we can note that the stemmed word is 'analzi' . But, the correct root word should be 'analyze'.\n",
        "\n",
        "- The reason is the Porter Stemmer uses a set of rules to strip suffixes from words.\n",
        "  - Its algorithm may not always produce linguistically correct stems, focusing instead on reducing words to their root forms based on pattern matching.\n",
        "\n",
        "- The specific rules for removing suffixes may lead to unusual results.\n",
        "  - For example, the removal of \"-ing\" from \"Analyzing\" can result in \"Analyz,\" which, combined with its handling of consonant patterns, can lead to \"analzi.\""
      ],
      "metadata": {
        "id": "w2aIEjs-Q1PB"
      }
    },
    {
      "cell_type": "markdown",
      "source": [
        "- Now, let's try to use this pattern to manipulate one of the reviews in the data."
      ],
      "metadata": {
        "id": "i2P-UM5rYLNR"
      }
    },
    {
      "cell_type": "code",
      "source": [
        "review = data['review'][21]\n",
        "\n",
        "words = review.split(' ')\n",
        "\n",
        "stemmed_text = ' '.join([ps.stem(word) for word in words])\n",
        "\n",
        "\n",
        "print(review)\n",
        "\n",
        "print(stemmed_text)"
      ],
      "metadata": {
        "id": "A4vk1jKEOoPQ"
      },
      "execution_count": null,
      "outputs": []
    },
    {
      "cell_type": "markdown",
      "source": [
        "- As we can observe, the words in the review have been transformed to their root forms."
      ],
      "metadata": {
        "id": "pfpFDPaqRX3k"
      }
    },
    {
      "cell_type": "markdown",
      "source": [
        "- Until now, we have been applying stemming to individual words one by one. While this method is effective, it can be inefficient when processing larger texts or multiple reviews.\n",
        "\n",
        "- To streamline our process, we want to apply stemming to all words in a given text at once instead of handling each word separately.\n",
        "\n",
        "- By defining a function called ***apply_porter_stemmer*** using the NLTK library, we can efficiently apply the Porter stemming algorithm to every word in the text in a single operation.\n",
        "\n",
        "  - This function splits the input text into separate words, applies the Porter Stemmer to each word, and then joins the stemmed words back into a single string, ensuring that the text is uniformly stemmed and ready for further analysis.\n",
        "- To implement this, we will call the ***apply_porter_stemmer*** function for our text data, allowing us to reduce words to their root forms and enhance the quality of our text analysis."
      ],
      "metadata": {
        "id": "8KpZx6nFfPED"
      }
    },
    {
      "cell_type": "code",
      "source": [
        "# Loading the Porter Stemmer\n",
        "ps = PorterStemmer()\n",
        "\n",
        "# defining a function to perform stemming\n",
        "def apply_porter_stemmer(text):\n",
        "    # Split text into separate words\n",
        "    words = text.split()\n",
        "\n",
        "    # Applying the Porter Stemmer on every word of a message and joining the stemmed words back into a single string\n",
        "    new_text = ' '.join([ps.stem(word) for word in words])\n",
        "\n",
        "    return new_text"
      ],
      "metadata": {
        "id": "g2Nv5egY25SY"
      },
      "execution_count": null,
      "outputs": []
    },
    {
      "cell_type": "code",
      "source": [
        "# Applying the function to perform stemming\n",
        "data['final_cleaned_text'] = data['cleaned_text_without_stopwords'].apply(apply_porter_stemmer)"
      ],
      "metadata": {
        "id": "dR0rx6_2oCzY"
      },
      "execution_count": null,
      "outputs": []
    },
    {
      "cell_type": "code",
      "source": [
        "# checking a couple of instances of cleaned data\n",
        "data.loc[0:2,['cleaned_text_without_stopwords','final_cleaned_text']]"
      ],
      "metadata": {
        "id": "RAc0gMU89KM7"
      },
      "execution_count": null,
      "outputs": []
    },
    {
      "cell_type": "markdown",
      "metadata": {
        "id": "c3F-popAzw8p"
      },
      "source": [
        "# **Text Vectorization**"
      ]
    },
    {
      "cell_type": "markdown",
      "source": [
        "<h2>Why is Text Vectorization Important?</h2>\n",
        "\n",
        "- It transforms words and sentences into numerical formats that mathematical algorithms can understand, making it essential for processing text data.\n",
        "\n",
        "- By representing text as vectors, it helps capture important patterns and relationships in the data, leading to better insights and analysis in text-related tasks."
      ],
      "metadata": {
        "id": "iry8Eb8rnzKm"
      }
    },
    {
      "cell_type": "markdown",
      "source": [
        "<p><h3>Definition:</h3> A document-term matrix is a mathematical representation of a collection of documents, where each document is represented as a row, and each unique word (or term) across all documents is represented as a column. The cells in the matrix contain values that indicate the frequency or presence of the corresponding word in the corresponding document.</p>\n",
        "\n",
        "<p><h3>Usage in Text Preprocessing:</h3> The document-term matrix is essential in text preprocessing as it converts unstructured text data into a structured numerical format. This transformation allows for efficient analysis and processing of textual information. By representing documents as matrices, it facilitates the extraction of important features and patterns, making it easier to prepare text data for further analysis and understanding.</p>\n",
        "\n",
        "<p><h3>Example:</h3></p>\n",
        "<p>Consider three short documents:</p>\n",
        "<ul>\n",
        "<li>Document 1: \"I love programming\"</li>\n",
        "<li>Document 2: \"Programming is fun\"</li>\n",
        "<li>Document 3: \"I love fun programming\"</li>\n",
        "</ul>\n",
        "\n",
        "<p><h3>Steps to Create the Document-Term Matrix:</h3></p>\n",
        "\n",
        "<li>Convert all text to lowercase:\n",
        "<ul>\n",
        "<li>Document 1: \"i love programming\"</li>\n",
        "<li>Document 2: \"programming is fun\"</li>\n",
        "<li>Document 3: \"i love fun programming\"</li>\n",
        "</ul>\n",
        "</li>\n",
        "\n",
        "<li>Identify all unique words across the documents and sort it:\n",
        "<ul>\n",
        "<li>fun , is , love , programming</li>\n",
        "</ul>\n",
        "</li>\n",
        "    \n",
        "<li>Count the occurrences of each word in each document:\n",
        "<ul>\n",
        "<li>Document 1:\n",
        "<ul>\n",
        "<li>\"fun\": 0</li>\n",
        "<li>\"is\": 0</li>\n",
        "<li>\"love\": 1</li>\n",
        "<li>\"programming\": 1</li>\n",
        "</ul>\n",
        "</li>\n",
        "<li>Document 2:\n",
        "<ul>\n",
        "<li>\"fun\": 1</li>\n",
        "<li>\"is\": 1</li>\n",
        "<li>\"love\": 0</li>\n",
        "<li>\"programming\": 1</li>\n",
        "</ul>\n",
        "</li>\n",
        "<li>Document 3:\n",
        "<ul>\n",
        "<li>\"fun\": 1</li>\n",
        "<li>\"is\": 0</li>\n",
        "<li>\"love\": 1</li>\n",
        "<li>\"programming\": 1</li>\n",
        "</ul>\n",
        "</li>\n",
        "</ul>\n",
        "</li>\n",
        "\n",
        "<li>Form a matrix using the counts, where each row represents a document and each column represents a unique word:</li><br>\n",
        "\n",
        "<table border=\"1\" cellspacing=\"0\" cellpadding=\"12\" align=\"center\" rules=\"all\" frame=\"box\" width=\"80%\" style=\"font-size: 20px; text-align: center;\">\n",
        "<thead>\n",
        "<tr bgcolor=\"#ADD8E6\">\n",
        "<th style=\"color: white;\">Document</th>\n",
        "<th style=\"color: white;\">fun</th>\n",
        "<th style=\"color: white;\">is</th>\n",
        "<th style=\"color: white;\">love</th>\n",
        "<th style=\"color: white;\">programming</th>\n",
        "</tr>\n",
        "</thead>\n",
        "<tbody>\n",
        "<tr bgcolor=\"#f2f2f2\">\n",
        "<td>Document 1</td>\n",
        "<td>0</td>\n",
        "<td>0</td>\n",
        "<td>1</td>\n",
        "<td>1</td>\n",
        "\n",
        "</tr>\n",
        "<tr>\n",
        "<td>Document 2</td>\n",
        "<td>1</td>\n",
        "<td>1</td>\n",
        "<td>0</td>\n",
        "<td>1</td>\n",
        "</tr>\n",
        "<tr bgcolor=\"#f2f2f2\">\n",
        "<td>Document 3</td>\n",
        "<td>1</td>\n",
        "<td>0</td>\n",
        "<td>1</td>\n",
        "<td>1</td>\n",
        "</tr>\n",
        "</tbody>\n",
        "</table>"
      ],
      "metadata": {
        "id": "M5Q5legzRsUG"
      }
    },
    {
      "cell_type": "markdown",
      "source": [
        "Creating the documents"
      ],
      "metadata": {
        "id": "p0wXmlWQbBpL"
      }
    },
    {
      "cell_type": "code",
      "source": [
        "Document_1 = \"I love programming\"\n",
        "Document_2 = \"programming is fun\"\n",
        "Document_3 = \"i love fun programming\""
      ],
      "metadata": {
        "id": "BFRh05KRVp4B"
      },
      "execution_count": null,
      "outputs": []
    },
    {
      "cell_type": "markdown",
      "source": [
        "Appending all the documents to a list"
      ],
      "metadata": {
        "id": "l4T-YtcmbEVi"
      }
    },
    {
      "cell_type": "code",
      "source": [
        "list_of_docs = [Document_1,Document_2,Document_3]"
      ],
      "metadata": {
        "id": "aQGQEqnEVznT"
      },
      "execution_count": null,
      "outputs": []
    },
    {
      "cell_type": "markdown",
      "source": [
        "- To implement this BoW representation, `sklearn` offers a class to work with called `Countvectorizer`\n",
        "\n",
        "- It is available in the `feature_extraction.text` module\n",
        "\n",
        "- It is imported using the statement `from sklearn.feature_extraction.text import CountVectorizer`"
      ],
      "metadata": {
        "id": "MpgOSY-GT5FC"
      }
    },
    {
      "cell_type": "code",
      "source": [
        "from sklearn.feature_extraction.text import CountVectorizer"
      ],
      "metadata": {
        "id": "TN1uMoKUT5qW"
      },
      "execution_count": null,
      "outputs": []
    },
    {
      "cell_type": "markdown",
      "source": [
        "**`CountVectorizer`**:\n",
        "\n",
        "- This is a tool from `sklearn.feature_extraction.text` used to convert text documents into a matrix of token counts.\n",
        "- It creates a Bag of Words (BoW) representation of the text, where:\n",
        " - Each row represents a document.\n",
        " - Each column corresponds to a unique word (token) in the entire corpus.\n",
        " - The values in the matrix are the counts of each word's occurrence in the respective document\n",
        "\n",
        "**`fit_transform()`**:\n",
        "\n",
        "- The `fit_transform()` method performs both `fit()` and `transform()` in a single operation.\n",
        "- The `fit()` method learns the vocabulary from the provided documents (i.e., identifies the unique words).\n",
        "- The `transform()` method converts the documents into a sparse matrix, where:\n",
        " - The matrix rows correspond to documents.\n",
        " - The columns represent the words from the learned vocabulary.\n",
        " - The values in the matrix are the word frequencies."
      ],
      "metadata": {
        "id": "KtD0KDvobMPR"
      }
    },
    {
      "cell_type": "code",
      "source": [
        "bow_vec = CountVectorizer()\n",
        "\n",
        "doc_matrix = bow_vec.fit_transform(list_of_docs)"
      ],
      "metadata": {
        "id": "p0bWziYobLWb"
      },
      "execution_count": null,
      "outputs": []
    },
    {
      "cell_type": "markdown",
      "source": [
        "Compressed Sparse Row format\n",
        "\n",
        "- It’s a way to store large matrices efficiently when most of the elements are zero.\n",
        "- Instead of storing every element, including the zeros, CSR compresses the data by only storing non-zero values and their positions."
      ],
      "metadata": {
        "id": "bRv_c6APbsIC"
      }
    },
    {
      "cell_type": "code",
      "source": [
        "doc_matrix"
      ],
      "metadata": {
        "id": "jdE8rphLV_fA"
      },
      "execution_count": null,
      "outputs": []
    },
    {
      "cell_type": "code",
      "source": [
        "# Converting CSR to a numpy array\n",
        "doc_matrix.toarray()"
      ],
      "metadata": {
        "id": "b3IpEYkKWB3e"
      },
      "execution_count": null,
      "outputs": []
    },
    {
      "cell_type": "markdown",
      "source": [
        "- As expected, the BoW representation matches with the previous example."
      ],
      "metadata": {
        "id": "RSspaO2-UbFA"
      }
    },
    {
      "cell_type": "code",
      "source": [
        "# returns the list of unique words (tokens) extracted from the documents.\n",
        "bow_vec.get_feature_names_out()"
      ],
      "metadata": {
        "id": "0903xozaWIKZ"
      },
      "execution_count": null,
      "outputs": []
    },
    {
      "cell_type": "code",
      "source": [
        "# Converting to a pandas dataframe\n",
        "pd.DataFrame(doc_matrix.toarray(),columns=bow_vec.get_feature_names_out())"
      ],
      "metadata": {
        "id": "zLtSqgXpeIW6"
      },
      "execution_count": null,
      "outputs": []
    },
    {
      "cell_type": "code",
      "source": [
        "# Extracting the reviews\n",
        "review_1 = data['review'][0]\n",
        "review_2 = data['review'][1]\n",
        "\n",
        "# Creating the list of reviews or documents\n",
        "list_of_docs = [review_1,review_2]\n",
        "\n",
        "#Initializing the CountVectorizer\n",
        "bow_vec = CountVectorizer()\n",
        "\n",
        "#Creating the BoW matrix.\n",
        "doc_matrix = bow_vec.fit_transform(list_of_docs)"
      ],
      "metadata": {
        "id": "BKAPwcwNdZpb"
      },
      "execution_count": null,
      "outputs": []
    },
    {
      "cell_type": "code",
      "source": [
        "doc_matrix.toarray()"
      ],
      "metadata": {
        "id": "YAVw9VbbdyEl"
      },
      "execution_count": null,
      "outputs": []
    },
    {
      "cell_type": "markdown",
      "source": [
        "- Here, we can observe positive values greater than 1 also.\n",
        "  - This is because some of the words occurs more than once."
      ],
      "metadata": {
        "id": "qWJqayVLU49f"
      }
    },
    {
      "cell_type": "code",
      "source": [
        "bow_vec.get_feature_names_out()"
      ],
      "metadata": {
        "id": "8zBCjWxad2qo"
      },
      "execution_count": null,
      "outputs": []
    },
    {
      "cell_type": "code",
      "source": [
        "# Converting to a pandas dataframe\n",
        "pd.DataFrame(doc_matrix.toarray(),columns=bow_vec.get_feature_names_out())"
      ],
      "metadata": {
        "id": "1nqN4G1QeV0Z"
      },
      "execution_count": null,
      "outputs": []
    },
    {
      "cell_type": "markdown",
      "source": [
        "- The *`max_features`* parameter in CountVectorizer limits the number of words (or tokens) used to create the vocabulary.\n",
        "- This helps when dealing with large datasets by keeping only the most important or frequent words."
      ],
      "metadata": {
        "id": "-U1stbKvcge6"
      }
    },
    {
      "cell_type": "code",
      "execution_count": null,
      "metadata": {
        "id": "N6QlX2WYzw8s"
      },
      "outputs": [],
      "source": [
        "# Initializing CountVectorizer with top 1000 words\n",
        "bow_vec = CountVectorizer(max_features = 1000)\n",
        "\n",
        "# Applying TfidfVectorizer on data\n",
        "data_features_BOW = bow_vec.fit_transform(data['final_cleaned_text'])\n",
        "\n",
        "# Convert the data features to array\n",
        "data_features_BOW = data_features_BOW.toarray()\n",
        "\n",
        "# Shape of the feature vector\n",
        "data_features_BOW.shape"
      ]
    },
    {
      "cell_type": "code",
      "source": [
        "# Getting the 1000 words considered by the BoW model\n",
        "words = bow_vec.get_feature_names_out()"
      ],
      "metadata": {
        "id": "GJiYB_i0s-Ks"
      },
      "execution_count": null,
      "outputs": []
    },
    {
      "cell_type": "code",
      "source": [
        "# Checking the words considered by BoW model\n",
        "words"
      ],
      "metadata": {
        "id": "vq27PZvf_K3m"
      },
      "execution_count": null,
      "outputs": []
    },
    {
      "cell_type": "code",
      "source": [
        "# Creating a DataFrame from the data features\n",
        "df_BOW = pd.DataFrame(data_features_BOW, columns=bow_vec.get_feature_names_out())\n",
        "df_BOW.head()"
      ],
      "metadata": {
        "id": "bgIxRAlB_YuC"
      },
      "execution_count": null,
      "outputs": []
    },
    {
      "cell_type": "markdown",
      "source": [
        "- From the above dataframe, we can observe that the word *wrong* is present only once in the first document, and the word *young* is presented twice in the fifth document."
      ],
      "metadata": {
        "id": "1M3x4zoG_bFM"
      }
    },
    {
      "cell_type": "markdown",
      "metadata": {
        "id": "wH77U4ukBiCe"
      },
      "source": [
        "# **Conclusion**"
      ]
    },
    {
      "cell_type": "markdown",
      "source": [
        "- We used different text processing techniques to clean the raw text data.\n",
        "\n",
        "- We then vectorized the cleaned text data using Bag of Words."
      ],
      "metadata": {
        "id": "6bbEN80qLTOk"
      }
    },
    {
      "cell_type": "markdown",
      "source": [
        "<font size=6 color='blue'>Power Ahead</font>\n",
        "___"
      ],
      "metadata": {
        "id": "G2Lw8akCLT9c"
      }
    }
  ],
  "metadata": {
    "colab": {
      "collapsed_sections": [
        "lKDOBv45zw8C",
        "wVldHvLCgnr9",
        "0Wiey7tkgz8P",
        "xptjKJz-_sYZ",
        "6DrTOBrYBiCR",
        "0GsZAWm0BiCQ",
        "ckwD7uwlsZwm",
        "mhzSVF82YYri",
        "62xkzNTFYmyq",
        "MUGy2CBnZa6g",
        "nZdNFg-5Zmiz",
        "N4fvprg6u5fE",
        "NJDPhhmvvxJ1",
        "2DftSZK9yQ74",
        "hLoWwpxzylZH",
        "EwVOVENFz9fJ",
        "tN9S84Sj2om2",
        "c3F-popAzw8p",
        "wH77U4ukBiCe"
      ],
      "provenance": [],
      "include_colab_link": true
    },
    "kernelspec": {
      "display_name": "Python 3",
      "name": "python3"
    },
    "language_info": {
      "codemirror_mode": {
        "name": "ipython",
        "version": 3
      },
      "file_extension": ".py",
      "mimetype": "text/x-python",
      "name": "python",
      "nbconvert_exporter": "python",
      "pygments_lexer": "ipython3",
      "version": "3.8.8"
    }
  },
  "nbformat": 4,
  "nbformat_minor": 0
}