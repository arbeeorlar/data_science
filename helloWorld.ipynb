{
  "nbformat": 4,
  "nbformat_minor": 0,
  "metadata": {
    "colab": {
      "provenance": [],
      "toc_visible": true,
      "authorship_tag": "ABX9TyM4Ip65Tvh73FSN1oRb4LgV",
      "include_colab_link": true
    },
    "kernelspec": {
      "name": "python3",
      "display_name": "Python 3"
    },
    "language_info": {
      "name": "python"
    }
  },
  "cells": [
    {
      "cell_type": "markdown",
      "metadata": {
        "id": "view-in-github",
        "colab_type": "text"
      },
      "source": [
        "<a href=\"https://colab.research.google.com/github/arbeeorlar/data_science/blob/main/helloWorld.ipynb\" target=\"_parent\"><img src=\"https://colab.research.google.com/assets/colab-badge.svg\" alt=\"Open In Colab\"/></a>"
      ]
    },
    {
      "cell_type": "code",
      "source": [
        "#my comment\n",
        "#see my comment\n",
        "print(\"Hello world.... My first python code\")\n",
        "\n",
        "numberA = 10\n",
        "numberB = 12\n",
        "\n",
        "sum = numberA + numberB\n",
        "\n",
        "print('The sum is = ', sum)\n",
        "\n",
        "integer_number = \"123\"\n",
        "float_number = 12.4\n",
        "\n",
        "result = int (integer_number) * float_number\n",
        "\n",
        "print(\"the answer is \", result)\n",
        "print(\"Integer Type \", int (integer_number))\n",
        "\n",
        "print('Good Morning!', sep= '45')\n",
        "\n",
        "print('New Year', 2023, 'See you soon!', sep= '% ')\n",
        "\n",
        "# using input() to take user input\n",
        "num = input('Enter a number: ')\n",
        "\n",
        "print('You Entered:', num)\n",
        "\n",
        "print('Data type of num:', type(num))\n",
        "\n",
        "_candy = 2\n",
        "\n",
        "HELLO = 5\n",
        "\n",
        "me_you = 6\n",
        "\n",
        "#my comment\n",
        "#see my comment\n",
        "print(\"Hello world.... My first python code\")\n",
        "\n",
        "numberA = 10\n",
        "numberB = 12\n",
        "\n",
        "sum = numberA + numberB\n",
        "\n",
        "print('The sum is = ', sum)\n",
        "\n",
        "integer_number = \"123\"\n",
        "float_number = 12.4\n",
        "\n",
        "result = int (integer_number) * float_number\n",
        "\n",
        "print(\"the answer is \", result)\n",
        "print(\"Integer Type \", int (integer_number))\n",
        "\n",
        "print('Good Morning!', sep= '45')\n",
        "\n",
        "print('New Year', 2023, 'See you soon!', sep= '% ')\n",
        "\n",
        "# using input() to take user input\n",
        "num = int(input('Enter a number: '))\n",
        "\n",
        "print('You Entered:', num)\n",
        "\n",
        "print('Data type of num:', type(num))\n",
        "\n",
        "if num > 10:\n",
        "   print(\"you\")\n",
        "else:\n",
        "   print(\"me\")\n",
        "\n",
        "\n",
        "# iterate from i = 0 to i = 3\n",
        "for i in range(0, 4):\n",
        "    print(i)\n",
        "\n",
        "\n",
        "## slicing array\n",
        "\n",
        "my_list = ['p', 'r', 'o', 'g', 'r', 'a', 'm']\n",
        "print(\"my_list =\", my_list)\n",
        "\n",
        "# get a list with items from index 2 to index 4 (index 5 is not included)\n",
        "print(\"my_list:::1[2: 5] =\", my_list[2: 5])\n",
        "\n",
        "# get a list with items from index 2 to index -3 (index -2 is not included)\n",
        "print(\"my_list:::2[2: -2] =\", my_list[2: -2])\n",
        "\n",
        "# get a list with items from index 0 to index 2 (index 3 is not included)\n",
        "print(\"my_list:::3[0: 3] =\", my_list[0: 3])\n",
        "\n",
        "#copying an array to another array\n",
        "numbers = [1, 3, 5]\n",
        "print('Numbers:', numbers)\n",
        "\n",
        "even_numbers  = [2, 4, 6]\n",
        "print('Even numbers:', even_numbers)\n",
        "\n",
        "# adding elements of one list to another\n",
        "numbers.extend(even_numbers)\n",
        "\n",
        "print('Updated Numbers:', numbers)\n",
        "\n",
        "#set\n",
        "numbers = {2, 4, 6, 6, 2, 8}\n",
        "print(numbers)   # {8, 2, 4, 6}\n",
        "\n",
        "\n",
        "#function\n",
        "\n",
        "# function with two arguments\n",
        "def add_numbers(num1, num2):\n",
        "    sum = num1 + num2\n",
        "    print(\"Sum: \", sum)\n",
        "\n",
        "# function call with two values\n",
        "add_numbers(5, 4)\n",
        "\n",
        "if(even_numbers.length == 2 or eve){\n",
        "\n",
        "\n",
        "}\n",
        "\n",
        "\n",
        "print(\"The result of the function is \",add_numbers(5, 4))\n",
        "\n"
      ],
      "metadata": {
        "colab": {
          "base_uri": "https://localhost:8080/"
        },
        "id": "VIY92YrLxaJL",
        "outputId": "14ea50f3-f29b-4165-d860-e530f1510e82"
      },
      "execution_count": null,
      "outputs": [
        {
          "output_type": "stream",
          "name": "stdout",
          "text": [
            "Hello world.... My first python code\n",
            "The sum is =  22\n",
            "the answer is  1525.2\n",
            "Integer Type  123\n",
            "Good Morning!\n",
            "New Year% 2023% See you soon!\n",
            "Enter a number: 656\n",
            "You Entered: 656\n",
            "Data type of num: <class 'str'>\n",
            "Hello world.... My first python code\n",
            "The sum is =  22\n",
            "the answer is  1525.2\n",
            "Integer Type  123\n",
            "Good Morning!\n",
            "New Year% 2023% See you soon!\n",
            "Enter a number: 78\n",
            "You Entered: 78\n",
            "Data type of num: <class 'int'>\n",
            "you\n",
            "0\n",
            "1\n",
            "2\n",
            "3\n",
            "my_list = ['p', 'r', 'o', 'g', 'r', 'a', 'm']\n",
            "my_list:::1[2: 5] = ['o', 'g', 'r']\n",
            "my_list:::2[2: -2] = ['o', 'g', 'r']\n",
            "my_list:::3[0: 3] = ['p', 'r', 'o']\n",
            "Numbers: [1, 3, 5]\n",
            "Even numbers: [2, 4, 6]\n",
            "Updated Numbers: [1, 3, 5, 2, 4, 6]\n",
            "{8, 2, 4, 6}\n",
            "Sum:  9\n",
            "Sum:  9\n",
            "The result of the function is  None\n"
          ]
        }
      ]
    },
    {
      "cell_type": "code",
      "source": [
        "import numpy as np"
      ],
      "metadata": {
        "id": "4As5AbQVD57r"
      },
      "execution_count": null,
      "outputs": []
    },
    {
      "cell_type": "code",
      "source": [
        "demo_matrix = np.array(([13,35,74,48], [23,37,37,38],[73,39,93,39]))"
      ],
      "metadata": {
        "id": "U1wmb0RrEFXB"
      },
      "execution_count": null,
      "outputs": []
    },
    {
      "cell_type": "code",
      "source": [
        "demo_matrix"
      ],
      "metadata": {
        "colab": {
          "base_uri": "https://localhost:8080/"
        },
        "id": "3U-g06JLEFew",
        "outputId": "cb8b2004-c904-49ae-c9dd-945e5a522957"
      },
      "execution_count": null,
      "outputs": [
        {
          "output_type": "execute_result",
          "data": {
            "text/plain": [
              "array([[13, 35, 74, 48],\n",
              "       [23, 37, 37, 38],\n",
              "       [73, 39, 93, 39]])"
            ]
          },
          "metadata": {},
          "execution_count": 5
        }
      ]
    },
    {
      "cell_type": "code",
      "source": [
        "demo_matrix[0:3, 1:3]"
      ],
      "metadata": {
        "id": "9aNlakfLEDzU",
        "colab": {
          "base_uri": "https://localhost:8080/"
        },
        "outputId": "5a118f0a-88f8-487d-e8b5-22ba220fcf83"
      },
      "execution_count": null,
      "outputs": [
        {
          "output_type": "execute_result",
          "data": {
            "text/plain": [
              "array([[35, 74],\n",
              "       [37, 37],\n",
              "       [39, 93]])"
            ]
          },
          "metadata": {},
          "execution_count": 4
        }
      ]
    },
    {
      "cell_type": "code",
      "source": [
        "demo_array = np.arange(0,10)\n",
        "demo_array\n",
        "demo_array<3"
      ],
      "metadata": {
        "colab": {
          "base_uri": "https://localhost:8080/"
        },
        "id": "ydfBBkCrEZ6A",
        "outputId": "801e7cde-f14e-464a-f2c6-a7c784d0bdfd"
      },
      "execution_count": null,
      "outputs": [
        {
          "output_type": "execute_result",
          "data": {
            "text/plain": [
              "array([ True,  True,  True, False, False, False, False, False, False,\n",
              "       False])"
            ]
          },
          "metadata": {},
          "execution_count": 11
        }
      ]
    },
    {
      "cell_type": "code",
      "source": [
        "import pandas as pd"
      ],
      "metadata": {
        "id": "TWXxzba9GIYO"
      },
      "execution_count": null,
      "outputs": []
    },
    {
      "cell_type": "code",
      "source": [
        "flowers = pd.Series([2, 3, 5, 4], index=['lily', 'rose', 'daisy', 'lotus'])\n",
        "flowers"
      ],
      "metadata": {
        "colab": {
          "base_uri": "https://localhost:8080/",
          "height": 210
        },
        "id": "vIDTxW1pGLq3",
        "outputId": "77623ab8-0cb5-4599-b411-25ebb24a9882"
      },
      "execution_count": null,
      "outputs": [
        {
          "output_type": "execute_result",
          "data": {
            "text/plain": [
              "lily     2\n",
              "rose     3\n",
              "daisy    5\n",
              "lotus    4\n",
              "dtype: int64"
            ],
            "text/html": [
              "<div>\n",
              "<style scoped>\n",
              "    .dataframe tbody tr th:only-of-type {\n",
              "        vertical-align: middle;\n",
              "    }\n",
              "\n",
              "    .dataframe tbody tr th {\n",
              "        vertical-align: top;\n",
              "    }\n",
              "\n",
              "    .dataframe thead th {\n",
              "        text-align: right;\n",
              "    }\n",
              "</style>\n",
              "<table border=\"1\" class=\"dataframe\">\n",
              "  <thead>\n",
              "    <tr style=\"text-align: right;\">\n",
              "      <th></th>\n",
              "      <th>0</th>\n",
              "    </tr>\n",
              "  </thead>\n",
              "  <tbody>\n",
              "    <tr>\n",
              "      <th>lily</th>\n",
              "      <td>2</td>\n",
              "    </tr>\n",
              "    <tr>\n",
              "      <th>rose</th>\n",
              "      <td>3</td>\n",
              "    </tr>\n",
              "    <tr>\n",
              "      <th>daisy</th>\n",
              "      <td>5</td>\n",
              "    </tr>\n",
              "    <tr>\n",
              "      <th>lotus</th>\n",
              "      <td>4</td>\n",
              "    </tr>\n",
              "  </tbody>\n",
              "</table>\n",
              "</div><br><label><b>dtype:</b> int64</label>"
            ]
          },
          "metadata": {},
          "execution_count": 14
        }
      ]
    },
    {
      "cell_type": "code",
      "source": [
        "data_customer = pd.DataFrame({\n",
        "    'customer': [101, 102, 103, 104],\n",
        "    'category': ['cat2', 'cat2', 'cat1', 'cat3'],\n",
        "    'important': ['yes', 'no', 'yes', 'yes'],\n",
        "    'sales': [123, 52, 214, 663]\n",
        "})"
      ],
      "metadata": {
        "id": "A0Gc4ANtH0q1"
      },
      "execution_count": null,
      "outputs": []
    },
    {
      "cell_type": "code",
      "source": [
        "data_customer.loc[1:2, ['customer', 'sales']]"
      ],
      "metadata": {
        "colab": {
          "base_uri": "https://localhost:8080/",
          "height": 112
        },
        "id": "XJ3xmyUnH2wJ",
        "outputId": "f0527daa-02df-46df-9a61-ceb322198190"
      },
      "execution_count": null,
      "outputs": [
        {
          "output_type": "execute_result",
          "data": {
            "text/plain": [
              "   customer  sales\n",
              "1       102     52\n",
              "2       103    214"
            ],
            "text/html": [
              "\n",
              "  <div id=\"df-44536b07-20e7-4d7f-b156-cb3d67af5f81\" class=\"colab-df-container\">\n",
              "    <div>\n",
              "<style scoped>\n",
              "    .dataframe tbody tr th:only-of-type {\n",
              "        vertical-align: middle;\n",
              "    }\n",
              "\n",
              "    .dataframe tbody tr th {\n",
              "        vertical-align: top;\n",
              "    }\n",
              "\n",
              "    .dataframe thead th {\n",
              "        text-align: right;\n",
              "    }\n",
              "</style>\n",
              "<table border=\"1\" class=\"dataframe\">\n",
              "  <thead>\n",
              "    <tr style=\"text-align: right;\">\n",
              "      <th></th>\n",
              "      <th>customer</th>\n",
              "      <th>sales</th>\n",
              "    </tr>\n",
              "  </thead>\n",
              "  <tbody>\n",
              "    <tr>\n",
              "      <th>1</th>\n",
              "      <td>102</td>\n",
              "      <td>52</td>\n",
              "    </tr>\n",
              "    <tr>\n",
              "      <th>2</th>\n",
              "      <td>103</td>\n",
              "      <td>214</td>\n",
              "    </tr>\n",
              "  </tbody>\n",
              "</table>\n",
              "</div>\n",
              "    <div class=\"colab-df-buttons\">\n",
              "\n",
              "  <div class=\"colab-df-container\">\n",
              "    <button class=\"colab-df-convert\" onclick=\"convertToInteractive('df-44536b07-20e7-4d7f-b156-cb3d67af5f81')\"\n",
              "            title=\"Convert this dataframe to an interactive table.\"\n",
              "            style=\"display:none;\">\n",
              "\n",
              "  <svg xmlns=\"http://www.w3.org/2000/svg\" height=\"24px\" viewBox=\"0 -960 960 960\">\n",
              "    <path d=\"M120-120v-720h720v720H120Zm60-500h600v-160H180v160Zm220 220h160v-160H400v160Zm0 220h160v-160H400v160ZM180-400h160v-160H180v160Zm440 0h160v-160H620v160ZM180-180h160v-160H180v160Zm440 0h160v-160H620v160Z\"/>\n",
              "  </svg>\n",
              "    </button>\n",
              "\n",
              "  <style>\n",
              "    .colab-df-container {\n",
              "      display:flex;\n",
              "      gap: 12px;\n",
              "    }\n",
              "\n",
              "    .colab-df-convert {\n",
              "      background-color: #E8F0FE;\n",
              "      border: none;\n",
              "      border-radius: 50%;\n",
              "      cursor: pointer;\n",
              "      display: none;\n",
              "      fill: #1967D2;\n",
              "      height: 32px;\n",
              "      padding: 0 0 0 0;\n",
              "      width: 32px;\n",
              "    }\n",
              "\n",
              "    .colab-df-convert:hover {\n",
              "      background-color: #E2EBFA;\n",
              "      box-shadow: 0px 1px 2px rgba(60, 64, 67, 0.3), 0px 1px 3px 1px rgba(60, 64, 67, 0.15);\n",
              "      fill: #174EA6;\n",
              "    }\n",
              "\n",
              "    .colab-df-buttons div {\n",
              "      margin-bottom: 4px;\n",
              "    }\n",
              "\n",
              "    [theme=dark] .colab-df-convert {\n",
              "      background-color: #3B4455;\n",
              "      fill: #D2E3FC;\n",
              "    }\n",
              "\n",
              "    [theme=dark] .colab-df-convert:hover {\n",
              "      background-color: #434B5C;\n",
              "      box-shadow: 0px 1px 3px 1px rgba(0, 0, 0, 0.15);\n",
              "      filter: drop-shadow(0px 1px 2px rgba(0, 0, 0, 0.3));\n",
              "      fill: #FFFFFF;\n",
              "    }\n",
              "  </style>\n",
              "\n",
              "    <script>\n",
              "      const buttonEl =\n",
              "        document.querySelector('#df-44536b07-20e7-4d7f-b156-cb3d67af5f81 button.colab-df-convert');\n",
              "      buttonEl.style.display =\n",
              "        google.colab.kernel.accessAllowed ? 'block' : 'none';\n",
              "\n",
              "      async function convertToInteractive(key) {\n",
              "        const element = document.querySelector('#df-44536b07-20e7-4d7f-b156-cb3d67af5f81');\n",
              "        const dataTable =\n",
              "          await google.colab.kernel.invokeFunction('convertToInteractive',\n",
              "                                                    [key], {});\n",
              "        if (!dataTable) return;\n",
              "\n",
              "        const docLinkHtml = 'Like what you see? Visit the ' +\n",
              "          '<a target=\"_blank\" href=https://colab.research.google.com/notebooks/data_table.ipynb>data table notebook</a>'\n",
              "          + ' to learn more about interactive tables.';\n",
              "        element.innerHTML = '';\n",
              "        dataTable['output_type'] = 'display_data';\n",
              "        await google.colab.output.renderOutput(dataTable, element);\n",
              "        const docLink = document.createElement('div');\n",
              "        docLink.innerHTML = docLinkHtml;\n",
              "        element.appendChild(docLink);\n",
              "      }\n",
              "    </script>\n",
              "  </div>\n",
              "\n",
              "\n",
              "<div id=\"df-ad2925ca-f71f-457f-a796-74f67c10e213\">\n",
              "  <button class=\"colab-df-quickchart\" onclick=\"quickchart('df-ad2925ca-f71f-457f-a796-74f67c10e213')\"\n",
              "            title=\"Suggest charts\"\n",
              "            style=\"display:none;\">\n",
              "\n",
              "<svg xmlns=\"http://www.w3.org/2000/svg\" height=\"24px\"viewBox=\"0 0 24 24\"\n",
              "     width=\"24px\">\n",
              "    <g>\n",
              "        <path d=\"M19 3H5c-1.1 0-2 .9-2 2v14c0 1.1.9 2 2 2h14c1.1 0 2-.9 2-2V5c0-1.1-.9-2-2-2zM9 17H7v-7h2v7zm4 0h-2V7h2v10zm4 0h-2v-4h2v4z\"/>\n",
              "    </g>\n",
              "</svg>\n",
              "  </button>\n",
              "\n",
              "<style>\n",
              "  .colab-df-quickchart {\n",
              "      --bg-color: #E8F0FE;\n",
              "      --fill-color: #1967D2;\n",
              "      --hover-bg-color: #E2EBFA;\n",
              "      --hover-fill-color: #174EA6;\n",
              "      --disabled-fill-color: #AAA;\n",
              "      --disabled-bg-color: #DDD;\n",
              "  }\n",
              "\n",
              "  [theme=dark] .colab-df-quickchart {\n",
              "      --bg-color: #3B4455;\n",
              "      --fill-color: #D2E3FC;\n",
              "      --hover-bg-color: #434B5C;\n",
              "      --hover-fill-color: #FFFFFF;\n",
              "      --disabled-bg-color: #3B4455;\n",
              "      --disabled-fill-color: #666;\n",
              "  }\n",
              "\n",
              "  .colab-df-quickchart {\n",
              "    background-color: var(--bg-color);\n",
              "    border: none;\n",
              "    border-radius: 50%;\n",
              "    cursor: pointer;\n",
              "    display: none;\n",
              "    fill: var(--fill-color);\n",
              "    height: 32px;\n",
              "    padding: 0;\n",
              "    width: 32px;\n",
              "  }\n",
              "\n",
              "  .colab-df-quickchart:hover {\n",
              "    background-color: var(--hover-bg-color);\n",
              "    box-shadow: 0 1px 2px rgba(60, 64, 67, 0.3), 0 1px 3px 1px rgba(60, 64, 67, 0.15);\n",
              "    fill: var(--button-hover-fill-color);\n",
              "  }\n",
              "\n",
              "  .colab-df-quickchart-complete:disabled,\n",
              "  .colab-df-quickchart-complete:disabled:hover {\n",
              "    background-color: var(--disabled-bg-color);\n",
              "    fill: var(--disabled-fill-color);\n",
              "    box-shadow: none;\n",
              "  }\n",
              "\n",
              "  .colab-df-spinner {\n",
              "    border: 2px solid var(--fill-color);\n",
              "    border-color: transparent;\n",
              "    border-bottom-color: var(--fill-color);\n",
              "    animation:\n",
              "      spin 1s steps(1) infinite;\n",
              "  }\n",
              "\n",
              "  @keyframes spin {\n",
              "    0% {\n",
              "      border-color: transparent;\n",
              "      border-bottom-color: var(--fill-color);\n",
              "      border-left-color: var(--fill-color);\n",
              "    }\n",
              "    20% {\n",
              "      border-color: transparent;\n",
              "      border-left-color: var(--fill-color);\n",
              "      border-top-color: var(--fill-color);\n",
              "    }\n",
              "    30% {\n",
              "      border-color: transparent;\n",
              "      border-left-color: var(--fill-color);\n",
              "      border-top-color: var(--fill-color);\n",
              "      border-right-color: var(--fill-color);\n",
              "    }\n",
              "    40% {\n",
              "      border-color: transparent;\n",
              "      border-right-color: var(--fill-color);\n",
              "      border-top-color: var(--fill-color);\n",
              "    }\n",
              "    60% {\n",
              "      border-color: transparent;\n",
              "      border-right-color: var(--fill-color);\n",
              "    }\n",
              "    80% {\n",
              "      border-color: transparent;\n",
              "      border-right-color: var(--fill-color);\n",
              "      border-bottom-color: var(--fill-color);\n",
              "    }\n",
              "    90% {\n",
              "      border-color: transparent;\n",
              "      border-bottom-color: var(--fill-color);\n",
              "    }\n",
              "  }\n",
              "</style>\n",
              "\n",
              "  <script>\n",
              "    async function quickchart(key) {\n",
              "      const quickchartButtonEl =\n",
              "        document.querySelector('#' + key + ' button');\n",
              "      quickchartButtonEl.disabled = true;  // To prevent multiple clicks.\n",
              "      quickchartButtonEl.classList.add('colab-df-spinner');\n",
              "      try {\n",
              "        const charts = await google.colab.kernel.invokeFunction(\n",
              "            'suggestCharts', [key], {});\n",
              "      } catch (error) {\n",
              "        console.error('Error during call to suggestCharts:', error);\n",
              "      }\n",
              "      quickchartButtonEl.classList.remove('colab-df-spinner');\n",
              "      quickchartButtonEl.classList.add('colab-df-quickchart-complete');\n",
              "    }\n",
              "    (() => {\n",
              "      let quickchartButtonEl =\n",
              "        document.querySelector('#df-ad2925ca-f71f-457f-a796-74f67c10e213 button');\n",
              "      quickchartButtonEl.style.display =\n",
              "        google.colab.kernel.accessAllowed ? 'block' : 'none';\n",
              "    })();\n",
              "  </script>\n",
              "</div>\n",
              "\n",
              "    </div>\n",
              "  </div>\n"
            ],
            "application/vnd.google.colaboratory.intrinsic+json": {
              "type": "dataframe",
              "summary": "{\n  \"name\": \"data_customer\",\n  \"rows\": 2,\n  \"fields\": [\n    {\n      \"column\": \"customer\",\n      \"properties\": {\n        \"dtype\": \"number\",\n        \"std\": 0,\n        \"min\": 102,\n        \"max\": 103,\n        \"num_unique_values\": 2,\n        \"samples\": [\n          103,\n          102\n        ],\n        \"semantic_type\": \"\",\n        \"description\": \"\"\n      }\n    },\n    {\n      \"column\": \"sales\",\n      \"properties\": {\n        \"dtype\": \"number\",\n        \"std\": 114,\n        \"min\": 52,\n        \"max\": 214,\n        \"num_unique_values\": 2,\n        \"samples\": [\n          214,\n          52\n        ],\n        \"semantic_type\": \"\",\n        \"description\": \"\"\n      }\n    }\n  ]\n}"
            }
          },
          "metadata": {},
          "execution_count": 18
        }
      ]
    },
    {
      "cell_type": "code",
      "source": [
        "data_cust = pd.DataFrame({\n",
        "    'customer': [101, 102, 103, 104, 101, 103],\n",
        "    'category': ['cat2', 'cat2', 'cat1', 'cat3', 'cat2', 'cat1'],\n",
        "    'important': ['yes', 'no', 'yes', 'yes', 'yes', 'yes'],\n",
        "    'sales': [123, 52, 214, 663, 204, 453]\n",
        "})"
      ],
      "metadata": {
        "id": "PgZ6XUQtIZBn"
      },
      "execution_count": null,
      "outputs": []
    },
    {
      "cell_type": "code",
      "source": [
        "data_cust.groupby(['customer'])['sales'].mean()"
      ],
      "metadata": {
        "colab": {
          "base_uri": "https://localhost:8080/",
          "height": 241
        },
        "id": "DX0QIVJTIdm1",
        "outputId": "30d6bc14-d7eb-4496-af42-3e271188dae9"
      },
      "execution_count": null,
      "outputs": [
        {
          "output_type": "execute_result",
          "data": {
            "text/plain": [
              "customer\n",
              "101    163.5\n",
              "102     52.0\n",
              "103    333.5\n",
              "104    663.0\n",
              "Name: sales, dtype: float64"
            ],
            "text/html": [
              "<div>\n",
              "<style scoped>\n",
              "    .dataframe tbody tr th:only-of-type {\n",
              "        vertical-align: middle;\n",
              "    }\n",
              "\n",
              "    .dataframe tbody tr th {\n",
              "        vertical-align: top;\n",
              "    }\n",
              "\n",
              "    .dataframe thead th {\n",
              "        text-align: right;\n",
              "    }\n",
              "</style>\n",
              "<table border=\"1\" class=\"dataframe\">\n",
              "  <thead>\n",
              "    <tr style=\"text-align: right;\">\n",
              "      <th></th>\n",
              "      <th>sales</th>\n",
              "    </tr>\n",
              "    <tr>\n",
              "      <th>customer</th>\n",
              "      <th></th>\n",
              "    </tr>\n",
              "  </thead>\n",
              "  <tbody>\n",
              "    <tr>\n",
              "      <th>101</th>\n",
              "      <td>163.5</td>\n",
              "    </tr>\n",
              "    <tr>\n",
              "      <th>102</th>\n",
              "      <td>52.0</td>\n",
              "    </tr>\n",
              "    <tr>\n",
              "      <th>103</th>\n",
              "      <td>333.5</td>\n",
              "    </tr>\n",
              "    <tr>\n",
              "      <th>104</th>\n",
              "      <td>663.0</td>\n",
              "    </tr>\n",
              "  </tbody>\n",
              "</table>\n",
              "</div><br><label><b>dtype:</b> float64</label>"
            ]
          },
          "metadata": {},
          "execution_count": 20
        }
      ]
    }
  ]
}