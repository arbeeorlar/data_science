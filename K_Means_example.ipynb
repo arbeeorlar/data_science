{
  "nbformat": 4,
  "nbformat_minor": 0,
  "metadata": {
    "colab": {
      "provenance": [],
      "authorship_tag": "ABX9TyOiQtdaqPGQ7oBnAazISviQ",
      "include_colab_link": true
    },
    "kernelspec": {
      "name": "python3",
      "display_name": "Python 3"
    },
    "language_info": {
      "name": "python"
    }
  },
  "cells": [
    {
      "cell_type": "markdown",
      "metadata": {
        "id": "view-in-github",
        "colab_type": "text"
      },
      "source": [
        "<a href=\"https://colab.research.google.com/github/arbeeorlar/data_science/blob/main/K_Means_example.ipynb\" target=\"_parent\"><img src=\"https://colab.research.google.com/assets/colab-badge.svg\" alt=\"Open In Colab\"/></a>"
      ]
    },
    {
      "cell_type": "code",
      "execution_count": null,
      "metadata": {
        "id": "eCzrmxmWq9ol"
      },
      "outputs": [],
      "source": [
        "import seaborn as sns\n",
        "\n",
        "import pandas as pd\n",
        "import numpy as np\n",
        "import matplotlib.pyplot as plt\n",
        "\n",
        "from sklearn.cluster import KMeans"
      ]
    },
    {
      "cell_type": "code",
      "source": [
        "iris_df = sns.load_dataset(\"iris\")"
      ],
      "metadata": {
        "id": "OHMBPB1JrKTa"
      },
      "execution_count": null,
      "outputs": []
    },
    {
      "cell_type": "code",
      "source": [
        "iris_df.head(10)"
      ],
      "metadata": {
        "id": "I6mFb4P2rTSe"
      },
      "execution_count": null,
      "outputs": []
    },
    {
      "cell_type": "code",
      "source": [
        "iris_df.shape"
      ],
      "metadata": {
        "id": "kYTTvNhsrZxp"
      },
      "execution_count": null,
      "outputs": []
    },
    {
      "cell_type": "code",
      "source": [
        "iris_df.info()"
      ],
      "metadata": {
        "id": "w38rTO8irfzj"
      },
      "execution_count": null,
      "outputs": []
    },
    {
      "cell_type": "code",
      "source": [
        "iris_df[\"species\"].unique()"
      ],
      "metadata": {
        "id": "RU8xXaO_rkcl"
      },
      "execution_count": null,
      "outputs": []
    },
    {
      "cell_type": "code",
      "source": [
        "features = iris_df.drop(\"species\", axis=1)\n",
        "features"
      ],
      "metadata": {
        "id": "5CbaFFM_snyt"
      },
      "execution_count": null,
      "outputs": []
    },
    {
      "cell_type": "code",
      "source": [
        "label = iris_df.filter([\"species\"], axis= 1)\n",
        "label"
      ],
      "metadata": {
        "id": "bCT-1VF1s7ZH"
      },
      "execution_count": null,
      "outputs": []
    },
    {
      "cell_type": "code",
      "source": [
        "features = features.values\n",
        "model = KMeans(n_clusters=4)\n",
        "model.fit(features)"
      ],
      "metadata": {
        "id": "z1A0Z3JltxPd"
      },
      "execution_count": null,
      "outputs": []
    },
    {
      "cell_type": "code",
      "source": [
        "print(model.labels_)"
      ],
      "metadata": {
        "id": "P3BSpGW_uU_g"
      },
      "execution_count": null,
      "outputs": []
    },
    {
      "cell_type": "code",
      "source": [
        "#prin the data point\n",
        "plt.scatter(features[:,0], features[:,1], c=model.labels_, cmap = \"Rainbow\")\n",
        "plt.show()\n",
        "\n",
        "#print the center\n",
        "plt.scatter(model.cluster_centers_[:,0], model.cluster_centers_[:,1], color=\"blue\")\n",
        "plt.show()"
      ],
      "metadata": {
        "id": "qYGL9VrEukNE"
      },
      "execution_count": null,
      "outputs": []
    }
  ]
}